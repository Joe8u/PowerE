{
 "cells": [
  {
   "cell_type": "code",
   "execution_count": 45,
   "metadata": {},
   "outputs": [],
   "source": [
    "# Masterarbeit: F1 - Finale Analyse der Kompensationsforderungen\n",
    "\n",
    "#Dieses Notebook dient der finalen Analyse der Umfragedaten zur Beantwortung der Forschungsfrage F1:\n",
    "#_\"Welche monetären Kompensationsforderungen stellen Haushalte in der Schweiz für die Teilnahme an einem Peak-Shaving-Programm unter Verwendung von Smart-Home-Technologien?\"_\n",
    "\n",
    "#Es folgt der überarbeiteten Struktur für den Ergebnisteil der Masterarbeit.\n",
    "\n",
    "#**Struktur des Notebooks:**\n",
    "#0. Setup und Datenladung (Erstellung des finalen `master_df_f1`)\n",
    "#1. Deskriptive Statistik der Stichprobe\n",
    "#2. Grundsätzliche Einstellungen zu erneuerbaren Energien und Netzstabilität (Kontext)\n",
    "#3. Flexibilitätsbereitschaft der Haushalte (Akzeptanz von Lastverschiebung)\n",
    "#    3.1 Wichtigkeit der Geräte-Verfügbarkeit (Q8)\n",
    "#    3.2 Akzeptierte Nichtnutzungsdauer (Q9) pro Gerät\n",
    "#    3.3 Bedingungen für die Teilnahme an Lastverschiebung (Q10 `incentive_choice`)\n",
    "#4. Monetäre Kompensationsforderungen (Q10 `incentive_pct_required` - Kern von F1)\n",
    "#5. Einflussfaktoren auf Teilnahmebereitschaft und Kompensationsforderungen\n",
    "#    5.1 Soziodemografische Faktoren\n",
    "#    5.2 Einstellungs- und kontextbezogene Faktoren\n",
    "#6. (Optional) Synthese: Modelliertes Flexibilitätspotenzial (3D-Plots)\n",
    "#7. Zusammenfassung der Kernergebnisse für F1 und Export"
   ]
  },
  {
   "cell_type": "code",
   "execution_count": 46,
   "metadata": {},
   "outputs": [
    {
     "name": "stdout",
     "output_type": "stream",
     "text": [
      "Hinweis: __file__ nicht verfügbar, SCRIPT_DIR_F1 auf aktuelles Arbeitsverzeichnis gesetzt: /Users/jonathan/Documents/GitHub/PowerE/scripts/F1_Analyse_Kompensationsforderungen\n",
      "Projekt-Root '/Users/jonathan/Documents/GitHub/PowerE' ist bereits im sys.path.\n",
      "Verwendeter Projekt-Root für dieses Notebook: /Users/jonathan/Documents/GitHub/PowerE\n",
      "Alle benötigten Module aus 'src' erfolgreich importiert.\n",
      "\n",
      "Lade df_respondent_flexibility (Q9 & Q10 kombiniert)...\n",
      "[INFO] create_respondent_flexibility_df: Starte Transformation der Umfragedaten...\n",
      "[INFO] load_q9_nonuse_long: Überspringe die erste Datenzeile (Index 0), da sie wie ein Sub-Header aussieht.\n",
      "[INFO] load_q9_nonuse_long: 775 Zeilen im langen Format aus Frage 9 geladen (nach Bereinigung).\n",
      "  Q9-Daten verarbeitet (oder leer initialisiert): 775 Zeilen.\n",
      "[INFO] load_q10_incentives_long: 775 Zeilen im langen Format aus Frage 10 geladen.\n",
      "  Q10-Daten verarbeitet (oder leer initialisiert): 775 Zeilen.\n",
      "  Q9 und Q10 Daten gemerged. Ergebnis-Shape vor finaler Bereinigung: (775, 5)\n",
      "[INFO] create_respondent_flexibility_df: Finale Daten transformiert. Shape: (775, 5)\n",
      "df_flexibility geladen. Shape: (775, 5)\n",
      "Spalte 'max_duration_hours' zu 'max_duration_hours_num' umbenannt und in numerischen Typ konvertiert.\n",
      "Spalte 'incentive_pct_required' zu 'incentive_pct_required_num' konvertiert/erstellt.\n",
      "\n",
      "Erste Zeilen von df_flex (nach möglicher Umbenennung/Konvertierung):\n",
      "  respondent_id                               device  max_duration_hours_num  \\\n",
      "0  118717793319                    Backofen und Herd                     4.5   \n",
      "1  118717793319                           Bürogeräte                     4.5   \n",
      "2  118717793319  Fernseher und Entertainment-Systeme                    18.0   \n",
      "3  118717793319                       Geschirrspüler                     9.0   \n",
      "4  118717793319                        Waschmaschine                    18.0   \n",
      "\n",
      "  incentive_choice  incentive_pct_required  incentive_pct_required_num  \n",
      "0  yes_conditional                    30.0                        30.0  \n",
      "1  yes_conditional                    30.0                        30.0  \n",
      "2  yes_conditional                    30.0                        30.0  \n",
      "3  yes_conditional                    30.0                        30.0  \n",
      "4        yes_fixed                     0.0                         0.0  \n",
      "\n",
      "Info zu df_flex:\n",
      "<class 'pandas.core.frame.DataFrame'>\n",
      "RangeIndex: 775 entries, 0 to 774\n",
      "Data columns (total 6 columns):\n",
      " #   Column                      Non-Null Count  Dtype  \n",
      "---  ------                      --------------  -----  \n",
      " 0   respondent_id               775 non-null    object \n",
      " 1   device                      775 non-null    object \n",
      " 2   max_duration_hours_num      773 non-null    float64\n",
      " 3   incentive_choice            775 non-null    object \n",
      " 4   incentive_pct_required      432 non-null    float64\n",
      " 5   incentive_pct_required_num  432 non-null    float64\n",
      "dtypes: float64(3), object(3)\n",
      "memory usage: 36.5+ KB\n",
      "\n",
      "--- Beginne Laden und Mergen zusätzlicher Daten ---\n",
      "\n",
      "Lade und merge Daten für: demographics...\n",
      "  Merging Untergruppe: age (Shape: (155, 2))\n",
      "  Merging Untergruppe: gender (Shape: (155, 2))\n",
      "  Merging Untergruppe: household_size (Shape: (155, 2))\n",
      "  Merging Untergruppe: accommodation (Shape: (155, 2))\n",
      "  Merging Untergruppe: electricity (Shape: (155, 2))\n",
      "\n",
      "Lade und merge Daten für: socioeconomics...\n",
      "  Merging Untergruppe: income (Shape: (155, 2))\n",
      "  Merging Untergruppe: education (Shape: (155, 2))\n",
      "  Merging Untergruppe: party_pref (Shape: (155, 2))\n",
      "\n",
      "Lade und merge Daten für: attitudes...\n",
      "  Merging Untergruppe: challenges (Shape: (155, 2))\n",
      "  Merging Untergruppe: consequence (Shape: (155, 2))\n",
      "\n",
      "Lade und merge Daten für: q8_importance...\n",
      "  Merging Datenquelle: q8_importance (Shape: (155, 7))\n",
      "    Spezifische Behandlung für 'q8_importance' (Wide-Format erwartet).\n",
      "    'q8_importance' nach melt: Shape (930, 3). Erste Zeilen:\n",
      "  respondent_id          device importance_rating\n",
      "0  118865337253  Geschirrspüler                 4\n",
      "1  118864902528  Geschirrspüler                 3\n",
      "    'q8_importance' (nach melt und merge) gemerged.\n",
      "\n",
      "Lade und merge Daten für: q11_notification...\n",
      "  Merging Datenquelle: q11_notification (Shape: (155, 2))\n",
      "    Standard-Merge für DataFrame 'q11_notification' auf 'respondent_id'.\n",
      "    'q11_notification' gemerged.\n",
      "\n",
      "Lade und merge Daten für: q12_smartplug...\n",
      "  Merging Datenquelle: q12_smartplug (Shape: (155, 2))\n",
      "    Standard-Merge für DataFrame 'q12_smartplug' auf 'respondent_id'.\n",
      "    'q12_smartplug' gemerged.\n",
      "Spalten in master_df_f1: ['respondent_id', 'device', 'max_duration_hours_num', 'incentive_choice', 'incentive_pct_required', 'incentive_pct_required_num', 'age', 'gender', 'household_size', 'accommodation_type', 'electricity_type', 'q13_income', 'q14_education', 'q15_party', 'challenge_text', 'consequence', 'importance_rating', 'q11_notify', 'q12_smartplug']\n",
      "\n",
      "Zufällige Zeilen aus master_df_f1:\n",
      "    respondent_id             device  max_duration_hours_num incentive_choice  \\\n",
      "115  118719609522  Backofen und Herd                     0.0               no   \n",
      "449  118721125261      Waschmaschine                     1.5  yes_conditional   \n",
      "473  118721337485     Geschirrspüler                    18.0  yes_conditional   \n",
      "661  118863395010         Bürogeräte                     0.0               no   \n",
      "688  118863784974     Geschirrspüler                    18.0  yes_conditional   \n",
      "\n",
      "     incentive_pct_required  incentive_pct_required_num   age    gender  \\\n",
      "115                     NaN                         NaN   NaN  Männlich   \n",
      "449                    30.0                        30.0  57.0  Männlich   \n",
      "473                     5.0                         5.0  30.0  Männlich   \n",
      "661                     NaN                         NaN  48.0  Weiblich   \n",
      "688                    20.0                        20.0  24.0  Weiblich   \n",
      "\n",
      "    household_size accommodation_type  \\\n",
      "115              4    Wohnung (Miete)   \n",
      "449              4    Haus (Eigentum)   \n",
      "473              2    Wohnung (Miete)   \n",
      "661              3    Haus (Eigentum)   \n",
      "688              5    Haus (Eigentum)   \n",
      "\n",
      "                                      electricity_type         q13_income  \\\n",
      "115  Konventionellen Strom (Kernenergie und fossile...       Keine Angabe   \n",
      "449  Ökostrom (aus erneuerbaren Energien wie Wasser...    Über 10.000 CHF   \n",
      "473  Konventionellen Strom (Kernenergie und fossile...  3.000 - 5.000 CHF   \n",
      "661  Konventionellen Strom (Kernenergie und fossile...    Über 10.000 CHF   \n",
      "688  Konventionellen Strom (Kernenergie und fossile...  5.001 - 7.000 CHF   \n",
      "\n",
      "                        q14_education                             q15_party  \\\n",
      "115                      Keine Angabe  Ich habe keine feste Parteipräferenz   \n",
      "449           Fachhochschule/Bachelor             Grünliberale Partei (GLP)   \n",
      "473           Fachhochschule/Bachelor  Ich habe keine feste Parteipräferenz   \n",
      "661                Universität/Master                         Andere Partei   \n",
      "688  Berufsausbildung/Lehre/Maturität             Grünliberale Partei (GLP)   \n",
      "\n",
      "                                        challenge_text  \\\n",
      "115                                                 Wn   \n",
      "449               Ja. Tag/Nacht Mix, flexible Preise,…   \n",
      "473  Ja, es wird von diversen Haushalten Energie ei...   \n",
      "661                                                 wn   \n",
      "688                                    Kosten, Planung   \n",
      "\n",
      "                                           consequence importance_rating  \\\n",
      "115    Bedrohung der Rentabilität von Stromunternehmen                 5   \n",
      "449     Herausforderungen für die Stabilität der Netze                 2   \n",
      "473              Steigende Strompreise für Verbraucher                 4   \n",
      "661              Steigende Strompreise für Verbraucher                 5   \n",
      "688  Notwendigkeit kostspieliger Netzinfrastruktur-...                 3   \n",
      "\n",
      "    q11_notify q12_smartplug  \n",
      "115       Nein          Nein  \n",
      "449         Ja            Ja  \n",
      "473         Ja            Ja  \n",
      "661         Ja            Ja  \n",
      "688         Ja            Ja  \n",
      "\n",
      "Shape von df_respondents_unique (für Stichprobenbeschreibung): (155, 19)\n",
      "Erste 5 Zeilen von master_df_f1:\n",
      "  respondent_id                               device  max_duration_hours_num  \\\n",
      "0  118717793319                    Backofen und Herd                     4.5   \n",
      "1  118717793319                           Bürogeräte                     4.5   \n",
      "2  118717793319  Fernseher und Entertainment-Systeme                    18.0   \n",
      "3  118717793319                       Geschirrspüler                     9.0   \n",
      "4  118717793319                        Waschmaschine                    18.0   \n",
      "\n",
      "  incentive_choice  incentive_pct_required  incentive_pct_required_num   age  \\\n",
      "0  yes_conditional                    30.0                        30.0  35.0   \n",
      "1  yes_conditional                    30.0                        30.0  35.0   \n",
      "2  yes_conditional                    30.0                        30.0  35.0   \n",
      "3  yes_conditional                    30.0                        30.0  35.0   \n",
      "4        yes_fixed                     0.0                         0.0  35.0   \n",
      "\n",
      "     gender household_size accommodation_type  \\\n",
      "0  Weiblich              3       Haus (Miete)   \n",
      "1  Weiblich              3       Haus (Miete)   \n",
      "2  Weiblich              3       Haus (Miete)   \n",
      "3  Weiblich              3       Haus (Miete)   \n",
      "4  Weiblich              3       Haus (Miete)   \n",
      "\n",
      "                                    electricity_type       q13_income  \\\n",
      "0  Ökostrom (aus erneuerbaren Energien wie Wasser...  Über 10.000 CHF   \n",
      "1  Ökostrom (aus erneuerbaren Energien wie Wasser...  Über 10.000 CHF   \n",
      "2  Ökostrom (aus erneuerbaren Energien wie Wasser...  Über 10.000 CHF   \n",
      "3  Ökostrom (aus erneuerbaren Energien wie Wasser...  Über 10.000 CHF   \n",
      "4  Ökostrom (aus erneuerbaren Energien wie Wasser...  Über 10.000 CHF   \n",
      "\n",
      "             q14_education  q15_party                        challenge_text  \\\n",
      "0  Fachhochschule/Bachelor  Die Mitte  Naturabhänig. Keine Sonne, kein wind   \n",
      "1  Fachhochschule/Bachelor  Die Mitte  Naturabhänig. Keine Sonne, kein wind   \n",
      "2  Fachhochschule/Bachelor  Die Mitte  Naturabhänig. Keine Sonne, kein wind   \n",
      "3  Fachhochschule/Bachelor  Die Mitte  Naturabhänig. Keine Sonne, kein wind   \n",
      "4  Fachhochschule/Bachelor  Die Mitte  Naturabhänig. Keine Sonne, kein wind   \n",
      "\n",
      "                                      consequence  importance_rating  \\\n",
      "0  Herausforderungen für die Stabilität der Netze                3.0   \n",
      "1  Herausforderungen für die Stabilität der Netze                2.0   \n",
      "2  Herausforderungen für die Stabilität der Netze                2.0   \n",
      "3  Herausforderungen für die Stabilität der Netze                3.0   \n",
      "4  Herausforderungen für die Stabilität der Netze                2.0   \n",
      "\n",
      "  q11_notify q12_smartplug  \n",
      "0         Ja            Ja  \n",
      "1         Ja            Ja  \n",
      "2         Ja            Ja  \n",
      "3         Ja            Ja  \n",
      "4         Ja            Ja  \n",
      "\n",
      "Info zu master_df_f1:\n",
      "<class 'pandas.core.frame.DataFrame'>\n",
      "RangeIndex: 775 entries, 0 to 774\n",
      "Data columns (total 19 columns):\n",
      " #   Column                      Non-Null Count  Dtype  \n",
      "---  ------                      --------------  -----  \n",
      " 0   respondent_id               775 non-null    object \n",
      " 1   device                      775 non-null    object \n",
      " 2   max_duration_hours_num      773 non-null    float64\n",
      " 3   incentive_choice            775 non-null    object \n",
      " 4   incentive_pct_required      432 non-null    float64\n",
      " 5   incentive_pct_required_num  432 non-null    float64\n",
      " 6   age                         750 non-null    float64\n",
      " 7   gender                      775 non-null    object \n",
      " 8   household_size              775 non-null    object \n",
      " 9   accommodation_type          775 non-null    object \n",
      " 10  electricity_type            775 non-null    object \n",
      " 11  q13_income                  775 non-null    object \n",
      " 12  q14_education               775 non-null    object \n",
      " 13  q15_party                   775 non-null    object \n",
      " 14  challenge_text              775 non-null    object \n",
      " 15  consequence                 775 non-null    object \n",
      " 16  importance_rating           774 non-null    float64\n",
      " 17  q11_notify                  775 non-null    object \n",
      " 18  q12_smartplug               775 non-null    object \n",
      "dtypes: float64(5), object(14)\n",
      "memory usage: 115.2+ KB\n",
      "\n",
      "Anzahl unique Respondent IDs im master_df_f1: 155\n",
      "Anzahl Zeilen im master_df_f1: 775\n",
      "\n",
      "--- Abschnitt 0: Setup und Datenladung Abgeschlossen ---\n"
     ]
    }
   ],
   "source": [
    "# === Abschnitt 0: Setup und Laden der Kerndaten ===\n",
    "import pandas as pd\n",
    "import numpy as np\n",
    "import plotly.express as px\n",
    "import plotly.graph_objects as go\n",
    "# import matplotlib.pyplot as plt # Alternative für manche Plots, falls benötigt\n",
    "# import seaborn as sns          # Alternative für manche Plots, falls benötigt\n",
    "import os\n",
    "import sys\n",
    "from pathlib import Path\n",
    "from datetime import datetime, timedelta\n",
    "\n",
    "\n",
    "# --- Pfad-Setup ---\n",
    "# Bitte stelle sicher, dass dieser Teil für deine lokale Ordnerstruktur korrekt funktioniert.\n",
    "try:\n",
    "    NOTEBOOK_FILE_PATH = Path(__file__).resolve()\n",
    "    SCRIPT_DIR_F1 = NOTEBOOK_FILE_PATH.parent\n",
    "except NameError:\n",
    "    SCRIPT_DIR_F1 = Path(os.getcwd()).resolve()\n",
    "    print(f\"Hinweis: __file__ nicht verfügbar, SCRIPT_DIR_F1 auf aktuelles Arbeitsverzeichnis gesetzt: {SCRIPT_DIR_F1}\")\n",
    "\n",
    "# Annahme: Dieses Notebook liegt in PowerE/scripts/F1_Analyse_Kompensationsforderungen/\n",
    "# oder einem ähnlichen Pfad wie dein vorheriges Notebook.\n",
    "# Passe dies ggf. an, falls du das neue Notebook woanders speicherst.\n",
    "if SCRIPT_DIR_F1.name == \"F1_Analyse_Kompensationsforderungen\" and SCRIPT_DIR_F1.parent.name == \"scripts\" and SCRIPT_DIR_F1.parent.parent.name == \"PowerE\":\n",
    "    PROJECT_ROOT_NB = SCRIPT_DIR_F1.parent.parent\n",
    "elif SCRIPT_DIR_F1.name == \"scripts\" and SCRIPT_DIR_F1.parent.name == \"PowerE\": # Falls das Notebook direkt in 'scripts' liegt\n",
    "     PROJECT_ROOT_NB = SCRIPT_DIR_F1.parent\n",
    "elif SCRIPT_DIR_F1.name == \"PowerE\": # Falls das Notebook im Projekt-Root liegt\n",
    "    PROJECT_ROOT_NB = SCRIPT_DIR_F1\n",
    "else:\n",
    "    # Fallback, versuche einen sinnvollen Projekt-Root zu finden oder setze ihn manuell.\n",
    "    # Im Zweifel: PROJECT_ROOT_NB = Path(\"DEIN/PFAD/ZU/PowerE\").resolve()\n",
    "    current_path = Path(os.getcwd()).resolve()\n",
    "    if current_path.name == \"PowerE\": # Sehr häufig, dass man im Projekt-Root startet\n",
    "        PROJECT_ROOT_NB = current_path\n",
    "    else: # Generischer Fallback: Gehe zwei Ebenen hoch vom aktuellen Notebook-Verzeichnis\n",
    "        PROJECT_ROOT_NB = SCRIPT_DIR_F1.parent.parent\n",
    "        print(f\"WARNUNG: Projekt-Root-Bestimmung ist möglicherweise ungenau. PROJECT_ROOT_NB geraten als: {PROJECT_ROOT_NB}\")\n",
    "        print(\"Bitte stelle sicher, dass dies dein 'PowerE'-Verzeichnis ist und deine 'src'-Module von hier aus erreichbar sind.\")\n",
    "\n",
    "if str(PROJECT_ROOT_NB) not in sys.path:\n",
    "    sys.path.insert(0, str(PROJECT_ROOT_NB))\n",
    "    print(f\"Projekt-Root '{PROJECT_ROOT_NB}' zum sys.path hinzugefügt.\")\n",
    "else:\n",
    "    print(f\"Projekt-Root '{PROJECT_ROOT_NB}' ist bereits im sys.path.\")\n",
    "\n",
    "print(f\"Verwendeter Projekt-Root für dieses Notebook: {PROJECT_ROOT_NB}\")\n",
    "\n",
    "# --- Importe deiner benutzerdefinierten Module ---\n",
    "# Stelle sicher, dass diese Pfade relativ zum PROJECT_ROOT_NB korrekt sind.\n",
    "try:\n",
    "    from src.logic.respondent_level_model.data_transformer import create_respondent_flexibility_df\n",
    "    from src.data_loader.survey_loader.demographics import load_demographics\n",
    "    from src.data_loader.survey_loader.attitudes import load_attitudes\n",
    "    from src.data_loader.survey_loader.demand_response import load_importance, load_notification, load_smart_plug\n",
    "    from src.data_loader.survey_loader.socioeconomics import load_socioeconomics\n",
    "    # HIER IST DER KORREKTE PLATZ FÜR DEN IMPORT:\n",
    "    from src.logic.respondent_level_model.flexibility_potential.b_participation_calculator import calculate_participation_metrics\n",
    "    print(\"Alle benötigten Module aus 'src' erfolgreich importiert.\")\n",
    "except ImportError as e:\n",
    "    print(f\"FEHLER beim Importieren von Modulen aus 'src': {e}\")\n",
    "    print(\"Bitte stelle sicher, dass der PROJECT_ROOT_NB korrekt ist, alle __init__.py Dateien in 'src' und dessen Unterordnern vorhanden sind und die Modulnamen exakt stimmen.\")\n",
    "    # Hier könntest du sys.exit(1) verwenden, wenn das Notebook als Skript laufen würde,\n",
    "    # aber im interaktiven Modus ist es besser, den Fehler anzuzeigen und ggf. manuell zu korrigieren.\n",
    "    raise e # Fehler erneut auslösen, um die Zelle zu stoppen\n",
    "except Exception as e:\n",
    "    print(f\"Ein unerwarteter Fehler beim Importieren deiner Module ist aufgetreten: {e}\")\n",
    "    raise e\n",
    "\n",
    "# --- Lade df_respondent_flexibility (Kombination aus Q9 Dauer & Q10 Anreiz) ---\n",
    "print(\"\\nLade df_respondent_flexibility (Q9 & Q10 kombiniert)...\")\n",
    "df_flex = pd.DataFrame() # Initialisieren für den Fall eines Fehlers\n",
    "try:\n",
    "    # Die Funktion create_respondent_flexibility_df sollte intern das PROJECT_ROOT_NB\n",
    "    # nicht mehr benötigen, wenn deine Ladefunktionen (load_q9_nonuse_long, etc.)\n",
    "    # ihre Pfade relativ zum src-Ordner oder absolut korrekt bilden.\n",
    "    # Falls sie es doch benötigen, müsstest du es übergeben: create_respondent_flexibility_df(PROJECT_ROOT_NB)\n",
    "    df_flex = create_respondent_flexibility_df()\n",
    "    print(f\"df_flexibility geladen. Shape: {df_flex.shape}\")\n",
    "    if df_flex.empty:\n",
    "        print(\"WARNUNG: df_flexibility ist leer! Die weitere Analyse wird nicht aussagekräftig sein.\")\n",
    "    else:\n",
    "        # Stelle sicher, dass respondent_id als string behandelt wird für merges\n",
    "        if 'respondent_id' in df_flex.columns:\n",
    "            df_flex['respondent_id'] = df_flex['respondent_id'].astype(str)\n",
    "        else:\n",
    "            print(\"WARNUNG: 'respondent_id' Spalte nicht in df_flex gefunden.\")\n",
    "\n",
    "        # Wichtig: Umbenennung der Spalte für Klarheit und Konsistenz mit Q9 Mapping\n",
    "        # Das q9_duration_mapping in create_respondent_flexibility_df erstellt 'max_duration_hours'.\n",
    "        # Wir nennen sie hier explizit 'max_duration_hours_num' für numerische Analysen.\n",
    "        if 'max_duration_hours' in df_flex.columns:\n",
    "            df_flex.rename(columns={'max_duration_hours': 'max_duration_hours_num'}, inplace=True)\n",
    "            df_flex['max_duration_hours_num'] = pd.to_numeric(df_flex['max_duration_hours_num'], errors='coerce')\n",
    "            print(\"Spalte 'max_duration_hours' zu 'max_duration_hours_num' umbenannt und in numerischen Typ konvertiert.\")\n",
    "        else:\n",
    "            print(\"WARNUNG: 'max_duration_hours' (oder 'max_duration_hours_num') nicht in df_flex.\")\n",
    "\n",
    "        # Ggf. incentive_pct_required auch numerisch machen, falls nicht schon in create_respondent_flexibility_df passiert\n",
    "        if 'incentive_pct_required' in df_flex.columns:\n",
    "            df_flex['incentive_pct_required_num'] = pd.to_numeric(df_flex['incentive_pct_required'], errors='coerce')\n",
    "            # Optional: df_flex.drop(columns=['incentive_pct_required'], inplace=True) wenn die _num Spalte reicht\n",
    "            print(\"Spalte 'incentive_pct_required' zu 'incentive_pct_required_num' konvertiert/erstellt.\")\n",
    "        else:\n",
    "            print(\"WARNUNG: 'incentive_pct_required' nicht in df_flex.\")\n",
    "\n",
    "        print(\"\\nErste Zeilen von df_flex (nach möglicher Umbenennung/Konvertierung):\")\n",
    "        # display(df_flex.head()) # In .py-Skripten ist display nicht verfügbar, print verwenden\n",
    "        print(df_flex.head())\n",
    "        print(\"\\nInfo zu df_flex:\")\n",
    "        df_flex.info()\n",
    "\n",
    "except FileNotFoundError as e:\n",
    "    print(f\"FEHLER beim Erstellen von df_flexibility (zugrundeliegende Q9/Q10 CSVs nicht gefunden?): {e}\")\n",
    "except Exception as e:\n",
    "    print(f\"Ein anderer Fehler beim Erstellen von df_flexibility: {e}\")\n",
    "    # raise e # Optional: Fehler weiterleiten, um Ausführung zu stoppen\n",
    "\n",
    "# --- Laden und Integration weiterer relevanter Umfragedaten zu master_df_f1 ---\n",
    "master_df_f1 = pd.DataFrame() # Initialisieren\n",
    "\n",
    "if not df_flex.empty and 'respondent_id' in df_flex.columns:\n",
    "    master_df_f1 = df_flex.copy()\n",
    "\n",
    "    # Dictionary deiner Ladefunktionen und der Schlüssel, unter denen sie im master_df landen sollen\n",
    "    # Das Format ist: \"daten_gruppe\": (lade_funktion, optional_präfix_falls_dict_zurückgegeben_wird)\n",
    "    # Wenn die Ladefunktion direkt ein DataFrame zurückgibt, ist der zweite Teil None oder ein Key für den Merge\n",
    "    data_loader_functions = {\n",
    "        \"demographics\": (load_demographics, None),\n",
    "        \"socioeconomics\": (load_socioeconomics, None),\n",
    "        \"attitudes\": (load_attitudes, None), # Enthält Q6 (challenge_text) und Q7 (consequence)\n",
    "        \"q8_importance\": (load_importance, \"importance_rating\"), # load_importance gibt DF zurück, Spalte für Wert ist 'importance_rating'\n",
    "        \"q11_notification\": (load_notification, \"q11_notify\"), # Spalte für Wert ist 'q11_notify'\n",
    "        \"q12_smartplug\": (load_smart_plug, \"q12_smartplug\") # Spalte für Wert ist 'q12_smartplug'\n",
    "    }\n",
    "\n",
    "    print(\"\\n--- Beginne Laden und Mergen zusätzlicher Daten ---\")\n",
    "    for group_key, (loader_func, value_col_or_prefix) in data_loader_functions.items():\n",
    "        print(f\"\\nLade und merge Daten für: {group_key}...\")\n",
    "        try:\n",
    "            # Annahme: Deine Ladefunktionen erwarten PROJECT_ROOT_NB oder finden ihre Daten relativ.\n",
    "            # Falls sie es explizit brauchen: loaded_data = loader_func(PROJECT_ROOT_NB)\n",
    "            loaded_data = loader_func(PROJECT_ROOT_NB)\n",
    "\n",
    "            if isinstance(loaded_data, dict): # Für Loader, die ein Dict von DFs zurückgeben\n",
    "                for sub_key, df_to_merge in loaded_data.items():\n",
    "                    print(f\"  Merging Untergruppe: {sub_key} (Shape: {df_to_merge.shape if not df_to_merge.empty else 'leer'})\")\n",
    "                    if not df_to_merge.empty and 'respondent_id' in df_to_merge.columns:\n",
    "                        df_to_merge['respondent_id'] = df_to_merge['respondent_id'].astype(str)\n",
    "                        master_df_f1 = pd.merge(master_df_f1, df_to_merge, on=\"respondent_id\", how=\"left\", suffixes=('', f'_{sub_key}_dup'))\n",
    "                    else:\n",
    "                        print(f\"    WARNUNG: DataFrame für '{sub_key}' aus '{group_key}' ist leer oder hat keine 'respondent_id'.\")\n",
    "\n",
    "            elif isinstance(loaded_data, pd.DataFrame): # Für Loader, die direkt einen DataFrame zurückgeben\n",
    "                df_to_merge = loaded_data\n",
    "                print(f\"  Merging Datenquelle: {group_key} (Shape: {df_to_merge.shape if not df_to_merge.empty else 'leer'})\")\n",
    "                \n",
    "                if not df_to_merge.empty and 'respondent_id' in df_to_merge.columns:\n",
    "                    df_to_merge['respondent_id'] = df_to_merge['respondent_id'].astype(str)\n",
    "\n",
    "                    if group_key == \"q8_importance\":\n",
    "                        # ----- BEGINN SPEZIFISCHE LOGIK NUR FÜR q8_importance -----\n",
    "                        print(f\"    Spezifische Behandlung für '{group_key}' (Wide-Format erwartet).\")\n",
    "                        device_columns_q8 = [col for col in df_to_merge.columns if col != 'respondent_id']\n",
    "\n",
    "                        if not device_columns_q8:\n",
    "                            print(f\"    WARNUNG: Keine Geräte-Spalten in '{group_key}' für melt-Operation gefunden (außer respondent_id). Überspringe Merge.\")\n",
    "                        else:\n",
    "                            # value_col_or_prefix ist 'importance_rating' für q8_importance\n",
    "                            df_q8_long = df_to_merge.melt(\n",
    "                                id_vars=['respondent_id'],\n",
    "                                value_vars=device_columns_q8,\n",
    "                                var_name='device', \n",
    "                                value_name=value_col_or_prefix # Sollte 'importance_rating' sein\n",
    "                            )\n",
    "                            print(f\"    '{group_key}' nach melt: Shape {df_q8_long.shape}. Erste Zeilen:\")\n",
    "                            print(df_q8_long.head(2)) # Nur eine kleine Vorschau\n",
    "                            \n",
    "                            master_df_f1 = pd.merge(master_df_f1, df_q8_long, on=[\"respondent_id\", \"device\"], how=\"left\", suffixes=('', f'_{group_key}_dup'))\n",
    "                            print(f\"    '{group_key}' (nach melt und merge) gemerged.\")\n",
    "                        # ----- ENDE SPEZIFISCHE LOGIK NUR FÜR q8_importance -----\n",
    "                    \n",
    "                    else: \n",
    "                        # ----- BEGINN STANDARD-MERGE FÜR ANDERE DATAFRAMES (z.B. Q11, Q12) -----\n",
    "                        # Diese werden pro Respondent nur einmal gemerged und die Werte auf alle seine Gerätezeilen im master_df_f1 dupliziert,\n",
    "                        # da master_df_f1 (basierend auf df_flex) mehrere Zeilen pro respondent_id (eine pro Gerät) hat.\n",
    "                        print(f\"    Standard-Merge für DataFrame '{group_key}' auf 'respondent_id'.\")\n",
    "                        master_df_f1 = pd.merge(master_df_f1, df_to_merge, on=\"respondent_id\", how=\"left\", suffixes=('', f'_{group_key}_dup'))\n",
    "                        print(f\"    '{group_key}' gemerged.\")\n",
    "                        # ----- ENDE STANDARD-MERGE FÜR ANDERE DATAFRAMES -----\n",
    "\n",
    "                else: # Gehört zu: if not df_to_merge.empty and 'respondent_id' in df_to_merge.columns:\n",
    "                    print(f\"    WARNUNG: DataFrame für '{group_key}' ist leer oder hat keine 'respondent_id'. Wird übersprungen.\")\n",
    "            \n",
    "            else:\n",
    "                print(f\"    WARNUNG: Unerwarteter Rückgabetyp von loader_func für '{group_key}'. Erwartet dict oder DataFrame, bekam {type(loaded_data)}.\")\n",
    "\n",
    "        except FileNotFoundError as e:\n",
    "            print(f\"    FEHLER bei {group_key}: Mindestens eine Datei nicht gefunden: {e}\")\n",
    "        except Exception as e:\n",
    "            print(f\"    Ein anderer Fehler beim Laden/Mergen von '{group_key}': {e}\")\n",
    "            import traceback\n",
    "            traceback.print_exc()\n",
    "\n",
    "    print(\"Spalten in master_df_f1:\", master_df_f1.columns.tolist())\n",
    "    print(\"\\nZufällige Zeilen aus master_df_f1:\")\n",
    "    if not master_df_f1.empty:\n",
    "\n",
    "    # display(master_df_f1.sample(5)) # Für Jupyter Notebook\n",
    "        print(master_df_f1.sample(5)) # Für .py oder wenn display nicht geht\n",
    "        # Überprüfe, ob Spalten wie 'age', 'q13_income', 'importance_rating', 'q11_notify' etc. Werte enthalten.\n",
    "    else:\n",
    "        print(\"master_df_f1 ist noch leer.\")\n",
    "\n",
    "        # Wichtig für die folgende deskriptive Statistik der Stichprobe (N=155)\n",
    "    # Wir brauchen einen DataFrame mit unique Respondents für die Demografie etc.\n",
    "    if 'respondent_id' in master_df_f1.columns:\n",
    "        df_respondents_unique = master_df_f1.drop_duplicates(subset=['respondent_id']).copy()\n",
    "        print(f\"\\nShape von df_respondents_unique (für Stichprobenbeschreibung): {df_respondents_unique.shape}\") # Sollte (155, Anzahl_Spalten) sein\n",
    "\n",
    "        # Sicherstellen, dass Spalten, die numerisch sein sollten, es auch sind\n",
    "        if 'age' in master_df_f1.columns: # aus demographics\n",
    "             master_df_f1['age'] = pd.to_numeric(master_df_f1['age'], errors='coerce')\n",
    "        if 'importance_rating' in master_df_f1.columns: # aus q8_importance\n",
    "             master_df_f1['importance_rating'] = pd.to_numeric(master_df_f1['importance_rating'], errors='coerce')\n",
    "\n",
    "        # Überprüfe auf doppelte Spaltennamen nach dem Merge (außer 'respondent_id', 'device')\n",
    "        cols = pd.Series(master_df_f1.columns)\n",
    "        for dup in cols[cols.duplicated()].unique():\n",
    "            print(f\"WARNUNG: Doppelte Spalte '{dup}' im master_df_f1 nach Merge.\")\n",
    "            # Überlege dir eine Strategie, um Duplikate zu behandeln, z.B. eine bevorzugen oder umbenennen.\n",
    "            # Beispiel: master_df_f1[dup] = master_df_f1[dup].bfill(axis=1).iloc[:,0] # Füllt NaN von links und nimmt die erste Spalte\n",
    "\n",
    "        print(\"Erste 5 Zeilen von master_df_f1:\")\n",
    "        # display(master_df_f1.head())\n",
    "        print(master_df_f1.head())\n",
    "        print(\"\\nInfo zu master_df_f1:\")\n",
    "        master_df_f1.info(verbose=True, show_counts=True)\n",
    "        print(f\"\\nAnzahl unique Respondent IDs im master_df_f1: {master_df_f1['respondent_id'].nunique() if 'respondent_id' in master_df_f1.columns else 'N/A'}\")\n",
    "        print(f\"Anzahl Zeilen im master_df_f1: {len(master_df_f1)}\")\n",
    "    else:\n",
    "        print(\"WARNUNG: 'respondent_id' nicht in master_df_f1. df_respondents_unique kann nicht erstellt werden.\")\n",
    "        df_respondents_unique = pd.DataFrame()\n",
    "\n",
    "else:\n",
    "    print(\"FEHLER: df_flex ist leer oder hat keine 'respondent_id'-Spalte. Der Merge-Prozess für master_df_f1 wird übersprungen.\")\n",
    "    master_df_f1 = pd.DataFrame() # Sicherstellen, dass es existiert, auch wenn leer\n",
    "\n",
    "print(\"\\n--- Abschnitt 0: Setup und Datenladung Abgeschlossen ---\")"
   ]
  },
  {
   "cell_type": "code",
   "execution_count": 47,
   "metadata": {},
   "outputs": [],
   "source": [
    "# Abschnitt 1: Deskriptive Statistik der Stichprobe\n",
    "\n",
    "#Bevor die spezifischen Forschungsfragen beantwortet werden, erfolgt eine Beschreibung der Stichprobe hinsichtlich ihrer soziodemografischen Merkmale und ihres Energiebezugs.\n",
    "#Dies dient der Einordnung der Ergebnisse und der Abschätzung ihrer Generalisierbarkeit."
   ]
  },
  {
   "cell_type": "code",
   "execution_count": null,
   "metadata": {},
   "outputs": [],
   "source": []
  },
  {
   "cell_type": "code",
   "execution_count": 48,
   "metadata": {},
   "outputs": [
    {
     "name": "stdout",
     "output_type": "stream",
     "text": [
      "Beginne Analyse der Gerätewichtigkeit (Q8) basierend auf master_df_f1 (Shape: (775, 19))\n",
      "\n",
      "--- Q8: Wichtigkeit der jederzeitigen Gerätenutzung ---\n",
      "Mittlere und mediane Wichtigkeit pro Gerät (1=sehr unwichtig, 5=sehr wichtig):\n",
      "                                     mean  median   std  count\n",
      "device                                                        \n",
      "Backofen und Herd                    4.23     5.0  1.08    155\n",
      "Bürogeräte                           3.89     4.0  1.27    154\n",
      "Waschmaschine                        3.73     4.0  1.24    155\n",
      "Fernseher und Entertainment-Systeme  3.34     3.0  1.35    155\n",
      "Geschirrspüler                       2.90     3.0  1.35    155\n"
     ]
    },
    {
     "data": {
      "application/vnd.plotly.v1+json": {
       "config": {
        "plotlyServerURL": "https://plot.ly"
       },
       "data": [
        {
         "hovertemplate": "Haushaltsgerät=%{x}<br>Mittlere Wichtigkeit (1-5)=%{text}<extra></extra>",
         "legendgroup": "",
         "marker": {
          "color": "#636efa",
          "pattern": {
           "shape": ""
          }
         },
         "name": "",
         "orientation": "v",
         "showlegend": false,
         "text": {
          "bdata": "7FG4HoXrEEAfhetRuB4PQNejcD0K1w1AuB6F61G4CkAzMzMzMzMHQA==",
          "dtype": "f8"
         },
         "textposition": "outside",
         "texttemplate": "%{text:.2f}",
         "type": "bar",
         "x": [
          "Backofen und Herd",
          "Bürogeräte",
          "Waschmaschine",
          "Fernseher und Entertainment-Systeme",
          "Geschirrspüler"
         ],
         "xaxis": "x",
         "y": {
          "bdata": "7FG4HoXrEEAfhetRuB4PQNejcD0K1w1AuB6F61G4CkAzMzMzMzMHQA==",
          "dtype": "f8"
         },
         "yaxis": "y"
        }
       ],
       "layout": {
        "barmode": "relative",
        "legend": {
         "tracegroupgap": 0
        },
        "template": {
         "data": {
          "bar": [
           {
            "error_x": {
             "color": "#2a3f5f"
            },
            "error_y": {
             "color": "#2a3f5f"
            },
            "marker": {
             "line": {
              "color": "#E5ECF6",
              "width": 0.5
             },
             "pattern": {
              "fillmode": "overlay",
              "size": 10,
              "solidity": 0.2
             }
            },
            "type": "bar"
           }
          ],
          "barpolar": [
           {
            "marker": {
             "line": {
              "color": "#E5ECF6",
              "width": 0.5
             },
             "pattern": {
              "fillmode": "overlay",
              "size": 10,
              "solidity": 0.2
             }
            },
            "type": "barpolar"
           }
          ],
          "carpet": [
           {
            "aaxis": {
             "endlinecolor": "#2a3f5f",
             "gridcolor": "white",
             "linecolor": "white",
             "minorgridcolor": "white",
             "startlinecolor": "#2a3f5f"
            },
            "baxis": {
             "endlinecolor": "#2a3f5f",
             "gridcolor": "white",
             "linecolor": "white",
             "minorgridcolor": "white",
             "startlinecolor": "#2a3f5f"
            },
            "type": "carpet"
           }
          ],
          "choropleth": [
           {
            "colorbar": {
             "outlinewidth": 0,
             "ticks": ""
            },
            "type": "choropleth"
           }
          ],
          "contour": [
           {
            "colorbar": {
             "outlinewidth": 0,
             "ticks": ""
            },
            "colorscale": [
             [
              0,
              "#0d0887"
             ],
             [
              0.1111111111111111,
              "#46039f"
             ],
             [
              0.2222222222222222,
              "#7201a8"
             ],
             [
              0.3333333333333333,
              "#9c179e"
             ],
             [
              0.4444444444444444,
              "#bd3786"
             ],
             [
              0.5555555555555556,
              "#d8576b"
             ],
             [
              0.6666666666666666,
              "#ed7953"
             ],
             [
              0.7777777777777778,
              "#fb9f3a"
             ],
             [
              0.8888888888888888,
              "#fdca26"
             ],
             [
              1,
              "#f0f921"
             ]
            ],
            "type": "contour"
           }
          ],
          "contourcarpet": [
           {
            "colorbar": {
             "outlinewidth": 0,
             "ticks": ""
            },
            "type": "contourcarpet"
           }
          ],
          "heatmap": [
           {
            "colorbar": {
             "outlinewidth": 0,
             "ticks": ""
            },
            "colorscale": [
             [
              0,
              "#0d0887"
             ],
             [
              0.1111111111111111,
              "#46039f"
             ],
             [
              0.2222222222222222,
              "#7201a8"
             ],
             [
              0.3333333333333333,
              "#9c179e"
             ],
             [
              0.4444444444444444,
              "#bd3786"
             ],
             [
              0.5555555555555556,
              "#d8576b"
             ],
             [
              0.6666666666666666,
              "#ed7953"
             ],
             [
              0.7777777777777778,
              "#fb9f3a"
             ],
             [
              0.8888888888888888,
              "#fdca26"
             ],
             [
              1,
              "#f0f921"
             ]
            ],
            "type": "heatmap"
           }
          ],
          "histogram": [
           {
            "marker": {
             "pattern": {
              "fillmode": "overlay",
              "size": 10,
              "solidity": 0.2
             }
            },
            "type": "histogram"
           }
          ],
          "histogram2d": [
           {
            "colorbar": {
             "outlinewidth": 0,
             "ticks": ""
            },
            "colorscale": [
             [
              0,
              "#0d0887"
             ],
             [
              0.1111111111111111,
              "#46039f"
             ],
             [
              0.2222222222222222,
              "#7201a8"
             ],
             [
              0.3333333333333333,
              "#9c179e"
             ],
             [
              0.4444444444444444,
              "#bd3786"
             ],
             [
              0.5555555555555556,
              "#d8576b"
             ],
             [
              0.6666666666666666,
              "#ed7953"
             ],
             [
              0.7777777777777778,
              "#fb9f3a"
             ],
             [
              0.8888888888888888,
              "#fdca26"
             ],
             [
              1,
              "#f0f921"
             ]
            ],
            "type": "histogram2d"
           }
          ],
          "histogram2dcontour": [
           {
            "colorbar": {
             "outlinewidth": 0,
             "ticks": ""
            },
            "colorscale": [
             [
              0,
              "#0d0887"
             ],
             [
              0.1111111111111111,
              "#46039f"
             ],
             [
              0.2222222222222222,
              "#7201a8"
             ],
             [
              0.3333333333333333,
              "#9c179e"
             ],
             [
              0.4444444444444444,
              "#bd3786"
             ],
             [
              0.5555555555555556,
              "#d8576b"
             ],
             [
              0.6666666666666666,
              "#ed7953"
             ],
             [
              0.7777777777777778,
              "#fb9f3a"
             ],
             [
              0.8888888888888888,
              "#fdca26"
             ],
             [
              1,
              "#f0f921"
             ]
            ],
            "type": "histogram2dcontour"
           }
          ],
          "mesh3d": [
           {
            "colorbar": {
             "outlinewidth": 0,
             "ticks": ""
            },
            "type": "mesh3d"
           }
          ],
          "parcoords": [
           {
            "line": {
             "colorbar": {
              "outlinewidth": 0,
              "ticks": ""
             }
            },
            "type": "parcoords"
           }
          ],
          "pie": [
           {
            "automargin": true,
            "type": "pie"
           }
          ],
          "scatter": [
           {
            "fillpattern": {
             "fillmode": "overlay",
             "size": 10,
             "solidity": 0.2
            },
            "type": "scatter"
           }
          ],
          "scatter3d": [
           {
            "line": {
             "colorbar": {
              "outlinewidth": 0,
              "ticks": ""
             }
            },
            "marker": {
             "colorbar": {
              "outlinewidth": 0,
              "ticks": ""
             }
            },
            "type": "scatter3d"
           }
          ],
          "scattercarpet": [
           {
            "marker": {
             "colorbar": {
              "outlinewidth": 0,
              "ticks": ""
             }
            },
            "type": "scattercarpet"
           }
          ],
          "scattergeo": [
           {
            "marker": {
             "colorbar": {
              "outlinewidth": 0,
              "ticks": ""
             }
            },
            "type": "scattergeo"
           }
          ],
          "scattergl": [
           {
            "marker": {
             "colorbar": {
              "outlinewidth": 0,
              "ticks": ""
             }
            },
            "type": "scattergl"
           }
          ],
          "scattermap": [
           {
            "marker": {
             "colorbar": {
              "outlinewidth": 0,
              "ticks": ""
             }
            },
            "type": "scattermap"
           }
          ],
          "scattermapbox": [
           {
            "marker": {
             "colorbar": {
              "outlinewidth": 0,
              "ticks": ""
             }
            },
            "type": "scattermapbox"
           }
          ],
          "scatterpolar": [
           {
            "marker": {
             "colorbar": {
              "outlinewidth": 0,
              "ticks": ""
             }
            },
            "type": "scatterpolar"
           }
          ],
          "scatterpolargl": [
           {
            "marker": {
             "colorbar": {
              "outlinewidth": 0,
              "ticks": ""
             }
            },
            "type": "scatterpolargl"
           }
          ],
          "scatterternary": [
           {
            "marker": {
             "colorbar": {
              "outlinewidth": 0,
              "ticks": ""
             }
            },
            "type": "scatterternary"
           }
          ],
          "surface": [
           {
            "colorbar": {
             "outlinewidth": 0,
             "ticks": ""
            },
            "colorscale": [
             [
              0,
              "#0d0887"
             ],
             [
              0.1111111111111111,
              "#46039f"
             ],
             [
              0.2222222222222222,
              "#7201a8"
             ],
             [
              0.3333333333333333,
              "#9c179e"
             ],
             [
              0.4444444444444444,
              "#bd3786"
             ],
             [
              0.5555555555555556,
              "#d8576b"
             ],
             [
              0.6666666666666666,
              "#ed7953"
             ],
             [
              0.7777777777777778,
              "#fb9f3a"
             ],
             [
              0.8888888888888888,
              "#fdca26"
             ],
             [
              1,
              "#f0f921"
             ]
            ],
            "type": "surface"
           }
          ],
          "table": [
           {
            "cells": {
             "fill": {
              "color": "#EBF0F8"
             },
             "line": {
              "color": "white"
             }
            },
            "header": {
             "fill": {
              "color": "#C8D4E3"
             },
             "line": {
              "color": "white"
             }
            },
            "type": "table"
           }
          ]
         },
         "layout": {
          "annotationdefaults": {
           "arrowcolor": "#2a3f5f",
           "arrowhead": 0,
           "arrowwidth": 1
          },
          "autotypenumbers": "strict",
          "coloraxis": {
           "colorbar": {
            "outlinewidth": 0,
            "ticks": ""
           }
          },
          "colorscale": {
           "diverging": [
            [
             0,
             "#8e0152"
            ],
            [
             0.1,
             "#c51b7d"
            ],
            [
             0.2,
             "#de77ae"
            ],
            [
             0.3,
             "#f1b6da"
            ],
            [
             0.4,
             "#fde0ef"
            ],
            [
             0.5,
             "#f7f7f7"
            ],
            [
             0.6,
             "#e6f5d0"
            ],
            [
             0.7,
             "#b8e186"
            ],
            [
             0.8,
             "#7fbc41"
            ],
            [
             0.9,
             "#4d9221"
            ],
            [
             1,
             "#276419"
            ]
           ],
           "sequential": [
            [
             0,
             "#0d0887"
            ],
            [
             0.1111111111111111,
             "#46039f"
            ],
            [
             0.2222222222222222,
             "#7201a8"
            ],
            [
             0.3333333333333333,
             "#9c179e"
            ],
            [
             0.4444444444444444,
             "#bd3786"
            ],
            [
             0.5555555555555556,
             "#d8576b"
            ],
            [
             0.6666666666666666,
             "#ed7953"
            ],
            [
             0.7777777777777778,
             "#fb9f3a"
            ],
            [
             0.8888888888888888,
             "#fdca26"
            ],
            [
             1,
             "#f0f921"
            ]
           ],
           "sequentialminus": [
            [
             0,
             "#0d0887"
            ],
            [
             0.1111111111111111,
             "#46039f"
            ],
            [
             0.2222222222222222,
             "#7201a8"
            ],
            [
             0.3333333333333333,
             "#9c179e"
            ],
            [
             0.4444444444444444,
             "#bd3786"
            ],
            [
             0.5555555555555556,
             "#d8576b"
            ],
            [
             0.6666666666666666,
             "#ed7953"
            ],
            [
             0.7777777777777778,
             "#fb9f3a"
            ],
            [
             0.8888888888888888,
             "#fdca26"
            ],
            [
             1,
             "#f0f921"
            ]
           ]
          },
          "colorway": [
           "#636efa",
           "#EF553B",
           "#00cc96",
           "#ab63fa",
           "#FFA15A",
           "#19d3f3",
           "#FF6692",
           "#B6E880",
           "#FF97FF",
           "#FECB52"
          ],
          "font": {
           "color": "#2a3f5f"
          },
          "geo": {
           "bgcolor": "white",
           "lakecolor": "white",
           "landcolor": "#E5ECF6",
           "showlakes": true,
           "showland": true,
           "subunitcolor": "white"
          },
          "hoverlabel": {
           "align": "left"
          },
          "hovermode": "closest",
          "mapbox": {
           "style": "light"
          },
          "paper_bgcolor": "white",
          "plot_bgcolor": "#E5ECF6",
          "polar": {
           "angularaxis": {
            "gridcolor": "white",
            "linecolor": "white",
            "ticks": ""
           },
           "bgcolor": "#E5ECF6",
           "radialaxis": {
            "gridcolor": "white",
            "linecolor": "white",
            "ticks": ""
           }
          },
          "scene": {
           "xaxis": {
            "backgroundcolor": "#E5ECF6",
            "gridcolor": "white",
            "gridwidth": 2,
            "linecolor": "white",
            "showbackground": true,
            "ticks": "",
            "zerolinecolor": "white"
           },
           "yaxis": {
            "backgroundcolor": "#E5ECF6",
            "gridcolor": "white",
            "gridwidth": 2,
            "linecolor": "white",
            "showbackground": true,
            "ticks": "",
            "zerolinecolor": "white"
           },
           "zaxis": {
            "backgroundcolor": "#E5ECF6",
            "gridcolor": "white",
            "gridwidth": 2,
            "linecolor": "white",
            "showbackground": true,
            "ticks": "",
            "zerolinecolor": "white"
           }
          },
          "shapedefaults": {
           "line": {
            "color": "#2a3f5f"
           }
          },
          "ternary": {
           "aaxis": {
            "gridcolor": "white",
            "linecolor": "white",
            "ticks": ""
           },
           "baxis": {
            "gridcolor": "white",
            "linecolor": "white",
            "ticks": ""
           },
           "bgcolor": "#E5ECF6",
           "caxis": {
            "gridcolor": "white",
            "linecolor": "white",
            "ticks": ""
           }
          },
          "title": {
           "x": 0.05
          },
          "xaxis": {
           "automargin": true,
           "gridcolor": "white",
           "linecolor": "white",
           "ticks": "",
           "title": {
            "standoff": 15
           },
           "zerolinecolor": "white",
           "zerolinewidth": 2
          },
          "yaxis": {
           "automargin": true,
           "gridcolor": "white",
           "linecolor": "white",
           "ticks": "",
           "title": {
            "standoff": 15
           },
           "zerolinecolor": "white",
           "zerolinewidth": 2
          }
         }
        },
        "title": {
         "text": "Q8: Mittlere Wichtigkeit der jederzeitigen Gerätenutzung"
        },
        "xaxis": {
         "anchor": "y",
         "domain": [
          0,
          1
         ],
         "title": {
          "text": "Haushaltsgerät"
         }
        },
        "yaxis": {
         "anchor": "x",
         "domain": [
          0,
          1
         ],
         "range": [
          0,
          5.5
         ],
         "title": {
          "text": "Mittlere Wichtigkeit (1-5)"
         }
        }
       }
      }
     },
     "metadata": {},
     "output_type": "display_data"
    },
    {
     "name": "stdout",
     "output_type": "stream",
     "text": [
      "\n",
      "--- Abschnitt 3.1: Wichtigkeit der Geräte-Verfügbarkeit (Q8) Abgeschlossen ---\n"
     ]
    }
   ],
   "source": [
    "# Abschnitt 3: Flexibilitätsbereitschaft der Haushalte (Akzeptanz von Lastverschiebung)\n",
    "## 3.1 Wichtigkeit der Geräte-Verfügbarkeit (Q8)\n",
    "# Stelle sicher, dass master_df_f1 aus Abschnitt 0 existiert und nicht leer ist.\n",
    "# Für diese Analyse verwenden wir master_df_f1, da 'importance_rating' gerätespezifisch ist.\n",
    "if 'master_df_f1' in locals() and not master_df_f1.empty:\n",
    "    print(f\"Beginne Analyse der Gerätewichtigkeit (Q8) basierend auf master_df_f1 (Shape: {master_df_f1.shape})\")\n",
    "\n",
    "    if 'device' in master_df_f1.columns and 'importance_rating' in master_df_f1.columns:\n",
    "        print(\"\\n--- Q8: Wichtigkeit der jederzeitigen Gerätenutzung ---\")\n",
    "        \n",
    "        # Berechne deskriptive Statistiken (Mittelwert, Median, Std) pro Gerät\n",
    "        # 'importance_rating' sollte bereits numerisch sein aus Abschnitt 0\n",
    "        q8_stats_per_device = master_df_f1.groupby('device')['importance_rating'].agg(['mean', 'median', 'std', 'count']).round(2)\n",
    "        q8_stats_per_device = q8_stats_per_device.sort_values(by='mean', ascending=False) # Sortieren nach mittlerer Wichtigkeit\n",
    "        \n",
    "        print(\"Mittlere und mediane Wichtigkeit pro Gerät (1=sehr unwichtig, 5=sehr wichtig):\")\n",
    "        # display(q8_stats_per_device)\n",
    "        print(q8_stats_per_device)\n",
    "        \n",
    "        # Visualisierung der mittleren Wichtigkeit\n",
    "        # Wir nehmen den Index (Gerätenamen) für die x-Achse und 'mean' für die y-Achse\n",
    "        fig_q8_importance = px.bar(q8_stats_per_device.reset_index(), \n",
    "                                   x='device', y='mean',\n",
    "                                   title='Q8: Mittlere Wichtigkeit der jederzeitigen Gerätenutzung',\n",
    "                                   labels={'device': 'Haushaltsgerät', 'mean': 'Mittlere Wichtigkeit (1-5)'},\n",
    "                                   text='mean') # Zeigt den Wert auf den Balken an\n",
    "        fig_q8_importance.update_traces(texttemplate='%{text:.2f}', textposition='outside')\n",
    "        fig_q8_importance.update_yaxes(range=[0, 5.5]) # Y-Achse von 0 bis 5.5 für Kontext\n",
    "        fig_q8_importance.show()\n",
    "\n",
    "        # Optional: Verteilung der Wichtigkeitsratings pro Gerät (Boxplots)\n",
    "        # fig_q8_box = px.box(master_df_f1.dropna(subset=['importance_rating']), \n",
    "        #                     x='device', y='importance_rating',\n",
    "        #                     title='Q8: Verteilung der Wichtigkeitsratings pro Gerät',\n",
    "        #                     labels={'device': 'Haushaltsgerät', 'importance_rating': 'Wichtigkeit (1-5)'})\n",
    "        # fig_q8_box.update_yaxes(categoryorder='array', categoryarray=sorted(master_df_f1['device'].dropna().unique()))\n",
    "        # fig_q8_box.show()\n",
    "        \n",
    "    else:\n",
    "        print(\"WARNUNG: Spalten 'device' oder 'importance_rating' (für Q8) nicht in master_df_f1 gefunden.\")\n",
    "\n",
    "else:\n",
    "    print(\"FEHLER: master_df_f1 ist nicht verfügbar oder leer. Analyse der Gerätewichtigkeit (Q8) kann nicht durchgeführt werden.\")\n",
    "\n",
    "print(\"\\n--- Abschnitt 3.1: Wichtigkeit der Geräte-Verfügbarkeit (Q8) Abgeschlossen ---\")"
   ]
  },
  {
   "cell_type": "code",
   "execution_count": 49,
   "metadata": {},
   "outputs": [
    {
     "name": "stdout",
     "output_type": "stream",
     "text": [
      "Beginne Analyse der akzeptierten Nichtnutzungsdauer (Q9) pro Gerät basierend auf master_df_f1 (Shape: (775, 19))\n",
      "\n",
      "--- Q9: Verteilung der akzeptierten Nichtnutzungsdauer pro Gerät ---\n",
      "Prozentuale Verteilung der akzeptierten Nichtnutzungsdauer pro Gerät (%):\n",
      "max_duration_hours_num               0.0   1.5   4.5   9.0   18.0  30.0  NaN \n",
      "device                                                                       \n",
      "Backofen und Herd                    22.6  16.1  16.1  20.0  18.1   7.1   0.0\n",
      "Bürogeräte                           31.0  13.5  14.8  14.2  14.2  11.6   0.6\n",
      "Fernseher und Entertainment-Systeme  18.1  12.3  11.6  10.3  21.9  25.8   0.0\n",
      "Geschirrspüler                        5.8   7.1   8.4  17.4  25.2  36.1   0.0\n",
      "Waschmaschine                         8.4   9.0   6.5  13.5  29.7  32.3   0.6\n"
     ]
    },
    {
     "data": {
      "application/vnd.plotly.v1+json": {
       "config": {
        "plotlyServerURL": "https://plot.ly"
       },
       "data": [
        {
         "alignmentgroup": "True",
         "cliponaxis": false,
         "hovertemplate": "Max. Nichtnutzungsdauer (Stunden, aus Q9)=0.0<br>Haushaltsgerät=%{x}<br>Anteil der Nennungen (%)=%{text}<extra></extra>",
         "legendgroup": "0.0",
         "marker": {
          "color": "#636efa",
          "pattern": {
           "shape": ""
          }
         },
         "name": "0.0",
         "offsetgroup": "0.0",
         "orientation": "v",
         "showlegend": true,
         "text": {
          "bdata": "mpmZmZmZNkAAAAAAAAA/QJqZmZmZGTJAMzMzMzMzF0DNzMzMzMwgQA==",
          "dtype": "f8"
         },
         "textposition": "outside",
         "texttemplate": "%{text:.1f}%",
         "type": "bar",
         "x": [
          "Backofen und Herd",
          "Bürogeräte",
          "Fernseher und Entertainment-Systeme",
          "Geschirrspüler",
          "Waschmaschine"
         ],
         "xaxis": "x",
         "y": {
          "bdata": "mpmZmZmZNkAAAAAAAAA/QJqZmZmZGTJAMzMzMzMzF0DNzMzMzMwgQA==",
          "dtype": "f8"
         },
         "yaxis": "y"
        },
        {
         "alignmentgroup": "True",
         "cliponaxis": false,
         "hovertemplate": "Max. Nichtnutzungsdauer (Stunden, aus Q9)=9.0<br>Haushaltsgerät=%{x}<br>Anteil der Nennungen (%)=%{text}<extra></extra>",
         "legendgroup": "9.0",
         "marker": {
          "color": "#EF553B",
          "pattern": {
           "shape": ""
          }
         },
         "name": "9.0",
         "offsetgroup": "9.0",
         "orientation": "v",
         "showlegend": true,
         "text": {
          "bdata": "AAAAAAAANEBmZmZmZmYsQJqZmZmZmSRAZmZmZmZmMUAAAAAAAAArQA==",
          "dtype": "f8"
         },
         "textposition": "outside",
         "texttemplate": "%{text:.1f}%",
         "type": "bar",
         "x": [
          "Backofen und Herd",
          "Bürogeräte",
          "Fernseher und Entertainment-Systeme",
          "Geschirrspüler",
          "Waschmaschine"
         ],
         "xaxis": "x",
         "y": {
          "bdata": "AAAAAAAANEBmZmZmZmYsQJqZmZmZmSRAZmZmZmZmMUAAAAAAAAArQA==",
          "dtype": "f8"
         },
         "yaxis": "y"
        },
        {
         "alignmentgroup": "True",
         "cliponaxis": false,
         "hovertemplate": "Max. Nichtnutzungsdauer (Stunden, aus Q9)=18.0<br>Haushaltsgerät=%{x}<br>Anteil der Nennungen (%)=%{text}<extra></extra>",
         "legendgroup": "18.0",
         "marker": {
          "color": "#00cc96",
          "pattern": {
           "shape": ""
          }
         },
         "name": "18.0",
         "offsetgroup": "18.0",
         "orientation": "v",
         "showlegend": true,
         "text": {
          "bdata": "mpmZmZkZMkBmZmZmZmYsQGZmZmZm5jVAMzMzMzMzOUAzMzMzM7M9QA==",
          "dtype": "f8"
         },
         "textposition": "outside",
         "texttemplate": "%{text:.1f}%",
         "type": "bar",
         "x": [
          "Backofen und Herd",
          "Bürogeräte",
          "Fernseher und Entertainment-Systeme",
          "Geschirrspüler",
          "Waschmaschine"
         ],
         "xaxis": "x",
         "y": {
          "bdata": "mpmZmZkZMkBmZmZmZmYsQGZmZmZm5jVAMzMzMzMzOUAzMzMzM7M9QA==",
          "dtype": "f8"
         },
         "yaxis": "y"
        },
        {
         "alignmentgroup": "True",
         "cliponaxis": false,
         "hovertemplate": "Max. Nichtnutzungsdauer (Stunden, aus Q9)=1.5<br>Haushaltsgerät=%{x}<br>Anteil der Nennungen (%)=%{text}<extra></extra>",
         "legendgroup": "1.5",
         "marker": {
          "color": "#ab63fa",
          "pattern": {
           "shape": ""
          }
         },
         "name": "1.5",
         "offsetgroup": "1.5",
         "orientation": "v",
         "showlegend": true,
         "text": {
          "bdata": "mpmZmZkZMEAAAAAAAAArQJqZmZmZmShAZmZmZmZmHEAAAAAAAAAiQA==",
          "dtype": "f8"
         },
         "textposition": "outside",
         "texttemplate": "%{text:.1f}%",
         "type": "bar",
         "x": [
          "Backofen und Herd",
          "Bürogeräte",
          "Fernseher und Entertainment-Systeme",
          "Geschirrspüler",
          "Waschmaschine"
         ],
         "xaxis": "x",
         "y": {
          "bdata": "mpmZmZkZMEAAAAAAAAArQJqZmZmZmShAZmZmZmZmHEAAAAAAAAAiQA==",
          "dtype": "f8"
         },
         "yaxis": "y"
        },
        {
         "alignmentgroup": "True",
         "cliponaxis": false,
         "hovertemplate": "Max. Nichtnutzungsdauer (Stunden, aus Q9)=4.5<br>Haushaltsgerät=%{x}<br>Anteil der Nennungen (%)=%{text}<extra></extra>",
         "legendgroup": "4.5",
         "marker": {
          "color": "#FFA15A",
          "pattern": {
           "shape": ""
          }
         },
         "name": "4.5",
         "offsetgroup": "4.5",
         "orientation": "v",
         "showlegend": true,
         "text": {
          "bdata": "mpmZmZkZMECamZmZmZktQDMzMzMzMydAzczMzMzMIEAAAAAAAAAaQA==",
          "dtype": "f8"
         },
         "textposition": "outside",
         "texttemplate": "%{text:.1f}%",
         "type": "bar",
         "x": [
          "Backofen und Herd",
          "Bürogeräte",
          "Fernseher und Entertainment-Systeme",
          "Geschirrspüler",
          "Waschmaschine"
         ],
         "xaxis": "x",
         "y": {
          "bdata": "mpmZmZkZMECamZmZmZktQDMzMzMzMydAzczMzMzMIEAAAAAAAAAaQA==",
          "dtype": "f8"
         },
         "yaxis": "y"
        },
        {
         "alignmentgroup": "True",
         "cliponaxis": false,
         "hovertemplate": "Max. Nichtnutzungsdauer (Stunden, aus Q9)=30.0<br>Haushaltsgerät=%{x}<br>Anteil der Nennungen (%)=%{text}<extra></extra>",
         "legendgroup": "30.0",
         "marker": {
          "color": "#19d3f3",
          "pattern": {
           "shape": ""
          }
         },
         "name": "30.0",
         "offsetgroup": "30.0",
         "orientation": "v",
         "showlegend": true,
         "text": {
          "bdata": "ZmZmZmZmHEAzMzMzMzMnQM3MzMzMzDlAzczMzMwMQkBmZmZmZiZAQA==",
          "dtype": "f8"
         },
         "textposition": "outside",
         "texttemplate": "%{text:.1f}%",
         "type": "bar",
         "x": [
          "Backofen und Herd",
          "Bürogeräte",
          "Fernseher und Entertainment-Systeme",
          "Geschirrspüler",
          "Waschmaschine"
         ],
         "xaxis": "x",
         "y": {
          "bdata": "ZmZmZmZmHEAzMzMzMzMnQM3MzMzMzDlAzczMzMwMQkBmZmZmZiZAQA==",
          "dtype": "f8"
         },
         "yaxis": "y"
        },
        {
         "alignmentgroup": "True",
         "cliponaxis": false,
         "hovertemplate": "Max. Nichtnutzungsdauer (Stunden, aus Q9)=Keine Angabe Q9<br>Haushaltsgerät=%{x}<br>Anteil der Nennungen (%)=%{text}<extra></extra>",
         "legendgroup": "Keine Angabe Q9",
         "marker": {
          "color": "#FF6692",
          "pattern": {
           "shape": ""
          }
         },
         "name": "Keine Angabe Q9",
         "offsetgroup": "Keine Angabe Q9",
         "orientation": "v",
         "showlegend": true,
         "text": {
          "bdata": "MzMzMzMz4z8zMzMzMzPjPw==",
          "dtype": "f8"
         },
         "textposition": "outside",
         "texttemplate": "%{text:.1f}%",
         "type": "bar",
         "x": [
          "Bürogeräte",
          "Waschmaschine"
         ],
         "xaxis": "x",
         "y": {
          "bdata": "MzMzMzMz4z8zMzMzMzPjPw==",
          "dtype": "f8"
         },
         "yaxis": "y"
        }
       ],
       "layout": {
        "barmode": "group",
        "legend": {
         "title": {
          "text": "Max. Dauer (h)"
         },
         "tracegroupgap": 0
        },
        "template": {
         "data": {
          "bar": [
           {
            "error_x": {
             "color": "#2a3f5f"
            },
            "error_y": {
             "color": "#2a3f5f"
            },
            "marker": {
             "line": {
              "color": "#E5ECF6",
              "width": 0.5
             },
             "pattern": {
              "fillmode": "overlay",
              "size": 10,
              "solidity": 0.2
             }
            },
            "type": "bar"
           }
          ],
          "barpolar": [
           {
            "marker": {
             "line": {
              "color": "#E5ECF6",
              "width": 0.5
             },
             "pattern": {
              "fillmode": "overlay",
              "size": 10,
              "solidity": 0.2
             }
            },
            "type": "barpolar"
           }
          ],
          "carpet": [
           {
            "aaxis": {
             "endlinecolor": "#2a3f5f",
             "gridcolor": "white",
             "linecolor": "white",
             "minorgridcolor": "white",
             "startlinecolor": "#2a3f5f"
            },
            "baxis": {
             "endlinecolor": "#2a3f5f",
             "gridcolor": "white",
             "linecolor": "white",
             "minorgridcolor": "white",
             "startlinecolor": "#2a3f5f"
            },
            "type": "carpet"
           }
          ],
          "choropleth": [
           {
            "colorbar": {
             "outlinewidth": 0,
             "ticks": ""
            },
            "type": "choropleth"
           }
          ],
          "contour": [
           {
            "colorbar": {
             "outlinewidth": 0,
             "ticks": ""
            },
            "colorscale": [
             [
              0,
              "#0d0887"
             ],
             [
              0.1111111111111111,
              "#46039f"
             ],
             [
              0.2222222222222222,
              "#7201a8"
             ],
             [
              0.3333333333333333,
              "#9c179e"
             ],
             [
              0.4444444444444444,
              "#bd3786"
             ],
             [
              0.5555555555555556,
              "#d8576b"
             ],
             [
              0.6666666666666666,
              "#ed7953"
             ],
             [
              0.7777777777777778,
              "#fb9f3a"
             ],
             [
              0.8888888888888888,
              "#fdca26"
             ],
             [
              1,
              "#f0f921"
             ]
            ],
            "type": "contour"
           }
          ],
          "contourcarpet": [
           {
            "colorbar": {
             "outlinewidth": 0,
             "ticks": ""
            },
            "type": "contourcarpet"
           }
          ],
          "heatmap": [
           {
            "colorbar": {
             "outlinewidth": 0,
             "ticks": ""
            },
            "colorscale": [
             [
              0,
              "#0d0887"
             ],
             [
              0.1111111111111111,
              "#46039f"
             ],
             [
              0.2222222222222222,
              "#7201a8"
             ],
             [
              0.3333333333333333,
              "#9c179e"
             ],
             [
              0.4444444444444444,
              "#bd3786"
             ],
             [
              0.5555555555555556,
              "#d8576b"
             ],
             [
              0.6666666666666666,
              "#ed7953"
             ],
             [
              0.7777777777777778,
              "#fb9f3a"
             ],
             [
              0.8888888888888888,
              "#fdca26"
             ],
             [
              1,
              "#f0f921"
             ]
            ],
            "type": "heatmap"
           }
          ],
          "histogram": [
           {
            "marker": {
             "pattern": {
              "fillmode": "overlay",
              "size": 10,
              "solidity": 0.2
             }
            },
            "type": "histogram"
           }
          ],
          "histogram2d": [
           {
            "colorbar": {
             "outlinewidth": 0,
             "ticks": ""
            },
            "colorscale": [
             [
              0,
              "#0d0887"
             ],
             [
              0.1111111111111111,
              "#46039f"
             ],
             [
              0.2222222222222222,
              "#7201a8"
             ],
             [
              0.3333333333333333,
              "#9c179e"
             ],
             [
              0.4444444444444444,
              "#bd3786"
             ],
             [
              0.5555555555555556,
              "#d8576b"
             ],
             [
              0.6666666666666666,
              "#ed7953"
             ],
             [
              0.7777777777777778,
              "#fb9f3a"
             ],
             [
              0.8888888888888888,
              "#fdca26"
             ],
             [
              1,
              "#f0f921"
             ]
            ],
            "type": "histogram2d"
           }
          ],
          "histogram2dcontour": [
           {
            "colorbar": {
             "outlinewidth": 0,
             "ticks": ""
            },
            "colorscale": [
             [
              0,
              "#0d0887"
             ],
             [
              0.1111111111111111,
              "#46039f"
             ],
             [
              0.2222222222222222,
              "#7201a8"
             ],
             [
              0.3333333333333333,
              "#9c179e"
             ],
             [
              0.4444444444444444,
              "#bd3786"
             ],
             [
              0.5555555555555556,
              "#d8576b"
             ],
             [
              0.6666666666666666,
              "#ed7953"
             ],
             [
              0.7777777777777778,
              "#fb9f3a"
             ],
             [
              0.8888888888888888,
              "#fdca26"
             ],
             [
              1,
              "#f0f921"
             ]
            ],
            "type": "histogram2dcontour"
           }
          ],
          "mesh3d": [
           {
            "colorbar": {
             "outlinewidth": 0,
             "ticks": ""
            },
            "type": "mesh3d"
           }
          ],
          "parcoords": [
           {
            "line": {
             "colorbar": {
              "outlinewidth": 0,
              "ticks": ""
             }
            },
            "type": "parcoords"
           }
          ],
          "pie": [
           {
            "automargin": true,
            "type": "pie"
           }
          ],
          "scatter": [
           {
            "fillpattern": {
             "fillmode": "overlay",
             "size": 10,
             "solidity": 0.2
            },
            "type": "scatter"
           }
          ],
          "scatter3d": [
           {
            "line": {
             "colorbar": {
              "outlinewidth": 0,
              "ticks": ""
             }
            },
            "marker": {
             "colorbar": {
              "outlinewidth": 0,
              "ticks": ""
             }
            },
            "type": "scatter3d"
           }
          ],
          "scattercarpet": [
           {
            "marker": {
             "colorbar": {
              "outlinewidth": 0,
              "ticks": ""
             }
            },
            "type": "scattercarpet"
           }
          ],
          "scattergeo": [
           {
            "marker": {
             "colorbar": {
              "outlinewidth": 0,
              "ticks": ""
             }
            },
            "type": "scattergeo"
           }
          ],
          "scattergl": [
           {
            "marker": {
             "colorbar": {
              "outlinewidth": 0,
              "ticks": ""
             }
            },
            "type": "scattergl"
           }
          ],
          "scattermap": [
           {
            "marker": {
             "colorbar": {
              "outlinewidth": 0,
              "ticks": ""
             }
            },
            "type": "scattermap"
           }
          ],
          "scattermapbox": [
           {
            "marker": {
             "colorbar": {
              "outlinewidth": 0,
              "ticks": ""
             }
            },
            "type": "scattermapbox"
           }
          ],
          "scatterpolar": [
           {
            "marker": {
             "colorbar": {
              "outlinewidth": 0,
              "ticks": ""
             }
            },
            "type": "scatterpolar"
           }
          ],
          "scatterpolargl": [
           {
            "marker": {
             "colorbar": {
              "outlinewidth": 0,
              "ticks": ""
             }
            },
            "type": "scatterpolargl"
           }
          ],
          "scatterternary": [
           {
            "marker": {
             "colorbar": {
              "outlinewidth": 0,
              "ticks": ""
             }
            },
            "type": "scatterternary"
           }
          ],
          "surface": [
           {
            "colorbar": {
             "outlinewidth": 0,
             "ticks": ""
            },
            "colorscale": [
             [
              0,
              "#0d0887"
             ],
             [
              0.1111111111111111,
              "#46039f"
             ],
             [
              0.2222222222222222,
              "#7201a8"
             ],
             [
              0.3333333333333333,
              "#9c179e"
             ],
             [
              0.4444444444444444,
              "#bd3786"
             ],
             [
              0.5555555555555556,
              "#d8576b"
             ],
             [
              0.6666666666666666,
              "#ed7953"
             ],
             [
              0.7777777777777778,
              "#fb9f3a"
             ],
             [
              0.8888888888888888,
              "#fdca26"
             ],
             [
              1,
              "#f0f921"
             ]
            ],
            "type": "surface"
           }
          ],
          "table": [
           {
            "cells": {
             "fill": {
              "color": "#EBF0F8"
             },
             "line": {
              "color": "white"
             }
            },
            "header": {
             "fill": {
              "color": "#C8D4E3"
             },
             "line": {
              "color": "white"
             }
            },
            "type": "table"
           }
          ]
         },
         "layout": {
          "annotationdefaults": {
           "arrowcolor": "#2a3f5f",
           "arrowhead": 0,
           "arrowwidth": 1
          },
          "autotypenumbers": "strict",
          "coloraxis": {
           "colorbar": {
            "outlinewidth": 0,
            "ticks": ""
           }
          },
          "colorscale": {
           "diverging": [
            [
             0,
             "#8e0152"
            ],
            [
             0.1,
             "#c51b7d"
            ],
            [
             0.2,
             "#de77ae"
            ],
            [
             0.3,
             "#f1b6da"
            ],
            [
             0.4,
             "#fde0ef"
            ],
            [
             0.5,
             "#f7f7f7"
            ],
            [
             0.6,
             "#e6f5d0"
            ],
            [
             0.7,
             "#b8e186"
            ],
            [
             0.8,
             "#7fbc41"
            ],
            [
             0.9,
             "#4d9221"
            ],
            [
             1,
             "#276419"
            ]
           ],
           "sequential": [
            [
             0,
             "#0d0887"
            ],
            [
             0.1111111111111111,
             "#46039f"
            ],
            [
             0.2222222222222222,
             "#7201a8"
            ],
            [
             0.3333333333333333,
             "#9c179e"
            ],
            [
             0.4444444444444444,
             "#bd3786"
            ],
            [
             0.5555555555555556,
             "#d8576b"
            ],
            [
             0.6666666666666666,
             "#ed7953"
            ],
            [
             0.7777777777777778,
             "#fb9f3a"
            ],
            [
             0.8888888888888888,
             "#fdca26"
            ],
            [
             1,
             "#f0f921"
            ]
           ],
           "sequentialminus": [
            [
             0,
             "#0d0887"
            ],
            [
             0.1111111111111111,
             "#46039f"
            ],
            [
             0.2222222222222222,
             "#7201a8"
            ],
            [
             0.3333333333333333,
             "#9c179e"
            ],
            [
             0.4444444444444444,
             "#bd3786"
            ],
            [
             0.5555555555555556,
             "#d8576b"
            ],
            [
             0.6666666666666666,
             "#ed7953"
            ],
            [
             0.7777777777777778,
             "#fb9f3a"
            ],
            [
             0.8888888888888888,
             "#fdca26"
            ],
            [
             1,
             "#f0f921"
            ]
           ]
          },
          "colorway": [
           "#636efa",
           "#EF553B",
           "#00cc96",
           "#ab63fa",
           "#FFA15A",
           "#19d3f3",
           "#FF6692",
           "#B6E880",
           "#FF97FF",
           "#FECB52"
          ],
          "font": {
           "color": "#2a3f5f"
          },
          "geo": {
           "bgcolor": "white",
           "lakecolor": "white",
           "landcolor": "#E5ECF6",
           "showlakes": true,
           "showland": true,
           "subunitcolor": "white"
          },
          "hoverlabel": {
           "align": "left"
          },
          "hovermode": "closest",
          "mapbox": {
           "style": "light"
          },
          "paper_bgcolor": "white",
          "plot_bgcolor": "#E5ECF6",
          "polar": {
           "angularaxis": {
            "gridcolor": "white",
            "linecolor": "white",
            "ticks": ""
           },
           "bgcolor": "#E5ECF6",
           "radialaxis": {
            "gridcolor": "white",
            "linecolor": "white",
            "ticks": ""
           }
          },
          "scene": {
           "xaxis": {
            "backgroundcolor": "#E5ECF6",
            "gridcolor": "white",
            "gridwidth": 2,
            "linecolor": "white",
            "showbackground": true,
            "ticks": "",
            "zerolinecolor": "white"
           },
           "yaxis": {
            "backgroundcolor": "#E5ECF6",
            "gridcolor": "white",
            "gridwidth": 2,
            "linecolor": "white",
            "showbackground": true,
            "ticks": "",
            "zerolinecolor": "white"
           },
           "zaxis": {
            "backgroundcolor": "#E5ECF6",
            "gridcolor": "white",
            "gridwidth": 2,
            "linecolor": "white",
            "showbackground": true,
            "ticks": "",
            "zerolinecolor": "white"
           }
          },
          "shapedefaults": {
           "line": {
            "color": "#2a3f5f"
           }
          },
          "ternary": {
           "aaxis": {
            "gridcolor": "white",
            "linecolor": "white",
            "ticks": ""
           },
           "baxis": {
            "gridcolor": "white",
            "linecolor": "white",
            "ticks": ""
           },
           "bgcolor": "#E5ECF6",
           "caxis": {
            "gridcolor": "white",
            "linecolor": "white",
            "ticks": ""
           }
          },
          "title": {
           "x": 0.05
          },
          "xaxis": {
           "automargin": true,
           "gridcolor": "white",
           "linecolor": "white",
           "ticks": "",
           "title": {
            "standoff": 15
           },
           "zerolinecolor": "white",
           "zerolinewidth": 2
          },
          "yaxis": {
           "automargin": true,
           "gridcolor": "white",
           "linecolor": "white",
           "ticks": "",
           "title": {
            "standoff": 15
           },
           "zerolinecolor": "white",
           "zerolinewidth": 2
          }
         }
        },
        "title": {
         "text": "Q9: Akzeptierte Nichtnutzungsdauer pro Gerät"
        },
        "xaxis": {
         "anchor": "y",
         "categoryarray": [
          "Backofen und Herd",
          "Bürogeräte",
          "Fernseher und Entertainment-Systeme",
          "Geschirrspüler",
          "Waschmaschine"
         ],
         "categoryorder": "array",
         "domain": [
          0,
          1
         ],
         "title": {
          "text": "Haushaltsgerät"
         }
        },
        "yaxis": {
         "anchor": "x",
         "domain": [
          0,
          1
         ],
         "title": {
          "text": "Anteil der Nennungen (%)"
         }
        }
       }
      }
     },
     "metadata": {},
     "output_type": "display_data"
    },
    {
     "name": "stdout",
     "output_type": "stream",
     "text": [
      "\n",
      "--- Abschnitt 3.2: Akzeptierte Nichtnutzungsdauer (Q9) pro Gerät Abgeschlossen ---\n"
     ]
    }
   ],
   "source": [
    "## 3.2 Akzeptierte Nichtnutzungsdauer (Q9) pro Gerät\n",
    "# Stelle sicher, dass master_df_f1 aus Abschnitt 0 existiert und nicht leer ist.\n",
    "if 'master_df_f1' in locals() and not master_df_f1.empty:\n",
    "    print(f\"Beginne Analyse der akzeptierten Nichtnutzungsdauer (Q9) pro Gerät basierend auf master_df_f1 (Shape: {master_df_f1.shape})\")\n",
    "\n",
    "    if 'device' in master_df_f1.columns and 'max_duration_hours_num' in master_df_f1.columns:\n",
    "        print(\"\\n--- Q9: Verteilung der akzeptierten Nichtnutzungsdauer pro Gerät ---\")\n",
    "\n",
    "        # Gruppiere nach Gerät und dann nach der Dauer, zähle die Häufigkeiten und normalisiere pro Gerät\n",
    "        q9_duration_per_device = master_df_f1.groupby('device')['max_duration_hours_num'].value_counts(normalize=True, dropna=False).mul(100).round(1)\n",
    "        q9_duration_per_device_table = q9_duration_per_device.unstack(level='max_duration_hours_num', fill_value=0)\n",
    "\n",
    "        # Definiere die gewünschte Reihenfolge der Spalten (Dauer-Kategorien)\n",
    "        # Es ist wichtig, auch NaN zu berücksichtigen, falls vorhanden, oder sicherzustellen, dass keine da sind.\n",
    "        # Die Kategorien stammen aus deinem q9_duration_mapping.\n",
    "        duration_categories_q9_order = [0.0, 1.5, 4.5, 9.0, 18.0, 30.0, np.nan]\n",
    "        \n",
    "        # Stelle sicher, dass alle Kategorien in den Spalten vorhanden sind, fülle fehlende mit 0\n",
    "        for duration_cat in duration_categories_q9_order:\n",
    "            if duration_cat not in q9_duration_per_device_table.columns:\n",
    "                q9_duration_per_device_table[duration_cat] = 0\n",
    "        \n",
    "        # Sortiere die Spalten gemäß der definierten Reihenfolge\n",
    "        # Filtere Spalten, die tatsächlich im DataFrame sind, um KeyErrors zu vermeiden, falls np.nan nicht als Spalte existiert\n",
    "        existing_cols_in_order = [col for col in duration_categories_q9_order if col in q9_duration_per_device_table.columns]\n",
    "        q9_duration_per_device_table = q9_duration_per_device_table[existing_cols_in_order]\n",
    "\n",
    "        print(\"Prozentuale Verteilung der akzeptierten Nichtnutzungsdauer pro Gerät (%):\")\n",
    "        # display(q9_duration_per_device_table)\n",
    "        print(q9_duration_per_device_table)\n",
    "\n",
    "        # Für die Visualisierung mit Plotly Express ist ein langes Format oft einfacher.\n",
    "        # Wir nehmen q9_duration_per_device (Series mit MultiIndex) und wandeln es in einen DataFrame um.\n",
    "        q9_duration_per_device_long_df = q9_duration_per_device.rename('percentage').reset_index()\n",
    "        \n",
    "        # Stelle sicher, dass max_duration_hours_num als Kategorie behandelt wird für korrekte Plot-Sortierung\n",
    "        # und benenne NaN um für bessere Darstellung im Plot\n",
    "        q9_duration_per_device_long_df['max_duration_hours_cat'] = q9_duration_per_device_long_df['max_duration_hours_num'].fillna('Keine Angabe Q9')\n",
    "        # Definiere die Reihenfolge für die x-Achse des Plots\n",
    "        plot_category_order_q9 = [str(cat) for cat in [0.0, 1.5, 4.5, 9.0, 18.0, 30.0]] + ['Keine Angabe Q9']\n",
    "        q9_duration_per_device_long_df['max_duration_hours_cat'] = pd.Categorical(\n",
    "            q9_duration_per_device_long_df['max_duration_hours_cat'].astype(str), #astype(str) um np.nan sicher zu behandeln\n",
    "            categories=plot_category_order_q9,\n",
    "            ordered=True\n",
    "        )\n",
    "\n",
    "\n",
    "        fig_q9_duration_device = px.bar(q9_duration_per_device_long_df,\n",
    "                                        x='device', y='percentage',\n",
    "                                        color='max_duration_hours_cat',\n",
    "                                        title='Q9: Akzeptierte Nichtnutzungsdauer pro Gerät',\n",
    "                                        labels={'device': 'Haushaltsgerät', \n",
    "                                                'percentage': 'Anteil der Nennungen (%)',\n",
    "                                                'max_duration_hours_cat': 'Max. Nichtnutzungsdauer (Stunden, aus Q9)'},\n",
    "                                        barmode='group', # oder 'stack', je nach Präferenz\n",
    "                                        text='percentage')\n",
    "        fig_q9_duration_device.update_traces(texttemplate='%{text:.1f}%', textposition='outside', cliponaxis=False)\n",
    "        fig_q9_duration_device.update_xaxes(categoryorder='array', categoryarray=sorted(master_df_f1['device'].dropna().unique()))\n",
    "        fig_q9_duration_device.update_layout(legend_title_text='Max. Dauer (h)')\n",
    "        fig_q9_duration_device.show()\n",
    "        \n",
    "    else:\n",
    "        print(\"WARNUNG: Spalten 'device' oder 'max_duration_hours_num' (für Q9) nicht in master_df_f1 gefunden.\")\n",
    "\n",
    "else:\n",
    "    print(\"FEHLER: master_df_f1 ist nicht verfügbar oder leer. Analyse der akzeptierten Nichtnutzungsdauer (Q9) pro Gerät kann nicht durchgeführt werden.\")\n",
    "\n",
    "print(\"\\n--- Abschnitt 3.2: Akzeptierte Nichtnutzungsdauer (Q9) pro Gerät Abgeschlossen ---\")"
   ]
  },
  {
   "cell_type": "code",
   "execution_count": 50,
   "metadata": {},
   "outputs": [
    {
     "name": "stdout",
     "output_type": "stream",
     "text": [
      "Beginne Analyse der Teilnahmebedingungen (Q10 incentive_choice) basierend auf master_df_f1 (Shape: (775, 19))\n",
      "\n",
      "--- 3.3.1 Gesamtverteilung der Teilnahmebereitschaft (Q10 `incentive_choice`) ---\n",
      "Gesamtverteilung der Teilnahmebereitschaft (Q10) in %:\n",
      "                  Anteil (%)\n",
      "incentive_choice            \n",
      "no                      39.5\n",
      "yes_conditional         30.1\n",
      "yes_fixed               23.6\n",
      "unknown_choice           6.8\n"
     ]
    },
    {
     "data": {
      "application/vnd.plotly.v1+json": {
       "config": {
        "plotlyServerURL": "https://plot.ly"
       },
       "data": [
        {
         "hovertemplate": "Teilnahme-Typ (Q10)=%{x}<br>Anteil der Nennungen (%)=%{y}<extra></extra>",
         "legendgroup": "",
         "marker": {
          "color": "#636efa",
          "pattern": {
           "shape": ""
          }
         },
         "name": "",
         "orientation": "v",
         "showlegend": false,
         "textposition": "outside",
         "texttemplate": "%{y:.1f}%",
         "type": "bar",
         "x": [
          "no",
          "yes_conditional",
          "yes_fixed",
          "unknown_choice"
         ],
         "xaxis": "x",
         "y": {
          "bdata": "AAAAAADAQ0CamZmZmRk+QJqZmZmZmTdAMzMzMzMzG0A=",
          "dtype": "f8"
         },
         "yaxis": "y"
        }
       ],
       "layout": {
        "barmode": "relative",
        "legend": {
         "tracegroupgap": 0
        },
        "template": {
         "data": {
          "bar": [
           {
            "error_x": {
             "color": "#2a3f5f"
            },
            "error_y": {
             "color": "#2a3f5f"
            },
            "marker": {
             "line": {
              "color": "#E5ECF6",
              "width": 0.5
             },
             "pattern": {
              "fillmode": "overlay",
              "size": 10,
              "solidity": 0.2
             }
            },
            "type": "bar"
           }
          ],
          "barpolar": [
           {
            "marker": {
             "line": {
              "color": "#E5ECF6",
              "width": 0.5
             },
             "pattern": {
              "fillmode": "overlay",
              "size": 10,
              "solidity": 0.2
             }
            },
            "type": "barpolar"
           }
          ],
          "carpet": [
           {
            "aaxis": {
             "endlinecolor": "#2a3f5f",
             "gridcolor": "white",
             "linecolor": "white",
             "minorgridcolor": "white",
             "startlinecolor": "#2a3f5f"
            },
            "baxis": {
             "endlinecolor": "#2a3f5f",
             "gridcolor": "white",
             "linecolor": "white",
             "minorgridcolor": "white",
             "startlinecolor": "#2a3f5f"
            },
            "type": "carpet"
           }
          ],
          "choropleth": [
           {
            "colorbar": {
             "outlinewidth": 0,
             "ticks": ""
            },
            "type": "choropleth"
           }
          ],
          "contour": [
           {
            "colorbar": {
             "outlinewidth": 0,
             "ticks": ""
            },
            "colorscale": [
             [
              0,
              "#0d0887"
             ],
             [
              0.1111111111111111,
              "#46039f"
             ],
             [
              0.2222222222222222,
              "#7201a8"
             ],
             [
              0.3333333333333333,
              "#9c179e"
             ],
             [
              0.4444444444444444,
              "#bd3786"
             ],
             [
              0.5555555555555556,
              "#d8576b"
             ],
             [
              0.6666666666666666,
              "#ed7953"
             ],
             [
              0.7777777777777778,
              "#fb9f3a"
             ],
             [
              0.8888888888888888,
              "#fdca26"
             ],
             [
              1,
              "#f0f921"
             ]
            ],
            "type": "contour"
           }
          ],
          "contourcarpet": [
           {
            "colorbar": {
             "outlinewidth": 0,
             "ticks": ""
            },
            "type": "contourcarpet"
           }
          ],
          "heatmap": [
           {
            "colorbar": {
             "outlinewidth": 0,
             "ticks": ""
            },
            "colorscale": [
             [
              0,
              "#0d0887"
             ],
             [
              0.1111111111111111,
              "#46039f"
             ],
             [
              0.2222222222222222,
              "#7201a8"
             ],
             [
              0.3333333333333333,
              "#9c179e"
             ],
             [
              0.4444444444444444,
              "#bd3786"
             ],
             [
              0.5555555555555556,
              "#d8576b"
             ],
             [
              0.6666666666666666,
              "#ed7953"
             ],
             [
              0.7777777777777778,
              "#fb9f3a"
             ],
             [
              0.8888888888888888,
              "#fdca26"
             ],
             [
              1,
              "#f0f921"
             ]
            ],
            "type": "heatmap"
           }
          ],
          "histogram": [
           {
            "marker": {
             "pattern": {
              "fillmode": "overlay",
              "size": 10,
              "solidity": 0.2
             }
            },
            "type": "histogram"
           }
          ],
          "histogram2d": [
           {
            "colorbar": {
             "outlinewidth": 0,
             "ticks": ""
            },
            "colorscale": [
             [
              0,
              "#0d0887"
             ],
             [
              0.1111111111111111,
              "#46039f"
             ],
             [
              0.2222222222222222,
              "#7201a8"
             ],
             [
              0.3333333333333333,
              "#9c179e"
             ],
             [
              0.4444444444444444,
              "#bd3786"
             ],
             [
              0.5555555555555556,
              "#d8576b"
             ],
             [
              0.6666666666666666,
              "#ed7953"
             ],
             [
              0.7777777777777778,
              "#fb9f3a"
             ],
             [
              0.8888888888888888,
              "#fdca26"
             ],
             [
              1,
              "#f0f921"
             ]
            ],
            "type": "histogram2d"
           }
          ],
          "histogram2dcontour": [
           {
            "colorbar": {
             "outlinewidth": 0,
             "ticks": ""
            },
            "colorscale": [
             [
              0,
              "#0d0887"
             ],
             [
              0.1111111111111111,
              "#46039f"
             ],
             [
              0.2222222222222222,
              "#7201a8"
             ],
             [
              0.3333333333333333,
              "#9c179e"
             ],
             [
              0.4444444444444444,
              "#bd3786"
             ],
             [
              0.5555555555555556,
              "#d8576b"
             ],
             [
              0.6666666666666666,
              "#ed7953"
             ],
             [
              0.7777777777777778,
              "#fb9f3a"
             ],
             [
              0.8888888888888888,
              "#fdca26"
             ],
             [
              1,
              "#f0f921"
             ]
            ],
            "type": "histogram2dcontour"
           }
          ],
          "mesh3d": [
           {
            "colorbar": {
             "outlinewidth": 0,
             "ticks": ""
            },
            "type": "mesh3d"
           }
          ],
          "parcoords": [
           {
            "line": {
             "colorbar": {
              "outlinewidth": 0,
              "ticks": ""
             }
            },
            "type": "parcoords"
           }
          ],
          "pie": [
           {
            "automargin": true,
            "type": "pie"
           }
          ],
          "scatter": [
           {
            "fillpattern": {
             "fillmode": "overlay",
             "size": 10,
             "solidity": 0.2
            },
            "type": "scatter"
           }
          ],
          "scatter3d": [
           {
            "line": {
             "colorbar": {
              "outlinewidth": 0,
              "ticks": ""
             }
            },
            "marker": {
             "colorbar": {
              "outlinewidth": 0,
              "ticks": ""
             }
            },
            "type": "scatter3d"
           }
          ],
          "scattercarpet": [
           {
            "marker": {
             "colorbar": {
              "outlinewidth": 0,
              "ticks": ""
             }
            },
            "type": "scattercarpet"
           }
          ],
          "scattergeo": [
           {
            "marker": {
             "colorbar": {
              "outlinewidth": 0,
              "ticks": ""
             }
            },
            "type": "scattergeo"
           }
          ],
          "scattergl": [
           {
            "marker": {
             "colorbar": {
              "outlinewidth": 0,
              "ticks": ""
             }
            },
            "type": "scattergl"
           }
          ],
          "scattermap": [
           {
            "marker": {
             "colorbar": {
              "outlinewidth": 0,
              "ticks": ""
             }
            },
            "type": "scattermap"
           }
          ],
          "scattermapbox": [
           {
            "marker": {
             "colorbar": {
              "outlinewidth": 0,
              "ticks": ""
             }
            },
            "type": "scattermapbox"
           }
          ],
          "scatterpolar": [
           {
            "marker": {
             "colorbar": {
              "outlinewidth": 0,
              "ticks": ""
             }
            },
            "type": "scatterpolar"
           }
          ],
          "scatterpolargl": [
           {
            "marker": {
             "colorbar": {
              "outlinewidth": 0,
              "ticks": ""
             }
            },
            "type": "scatterpolargl"
           }
          ],
          "scatterternary": [
           {
            "marker": {
             "colorbar": {
              "outlinewidth": 0,
              "ticks": ""
             }
            },
            "type": "scatterternary"
           }
          ],
          "surface": [
           {
            "colorbar": {
             "outlinewidth": 0,
             "ticks": ""
            },
            "colorscale": [
             [
              0,
              "#0d0887"
             ],
             [
              0.1111111111111111,
              "#46039f"
             ],
             [
              0.2222222222222222,
              "#7201a8"
             ],
             [
              0.3333333333333333,
              "#9c179e"
             ],
             [
              0.4444444444444444,
              "#bd3786"
             ],
             [
              0.5555555555555556,
              "#d8576b"
             ],
             [
              0.6666666666666666,
              "#ed7953"
             ],
             [
              0.7777777777777778,
              "#fb9f3a"
             ],
             [
              0.8888888888888888,
              "#fdca26"
             ],
             [
              1,
              "#f0f921"
             ]
            ],
            "type": "surface"
           }
          ],
          "table": [
           {
            "cells": {
             "fill": {
              "color": "#EBF0F8"
             },
             "line": {
              "color": "white"
             }
            },
            "header": {
             "fill": {
              "color": "#C8D4E3"
             },
             "line": {
              "color": "white"
             }
            },
            "type": "table"
           }
          ]
         },
         "layout": {
          "annotationdefaults": {
           "arrowcolor": "#2a3f5f",
           "arrowhead": 0,
           "arrowwidth": 1
          },
          "autotypenumbers": "strict",
          "coloraxis": {
           "colorbar": {
            "outlinewidth": 0,
            "ticks": ""
           }
          },
          "colorscale": {
           "diverging": [
            [
             0,
             "#8e0152"
            ],
            [
             0.1,
             "#c51b7d"
            ],
            [
             0.2,
             "#de77ae"
            ],
            [
             0.3,
             "#f1b6da"
            ],
            [
             0.4,
             "#fde0ef"
            ],
            [
             0.5,
             "#f7f7f7"
            ],
            [
             0.6,
             "#e6f5d0"
            ],
            [
             0.7,
             "#b8e186"
            ],
            [
             0.8,
             "#7fbc41"
            ],
            [
             0.9,
             "#4d9221"
            ],
            [
             1,
             "#276419"
            ]
           ],
           "sequential": [
            [
             0,
             "#0d0887"
            ],
            [
             0.1111111111111111,
             "#46039f"
            ],
            [
             0.2222222222222222,
             "#7201a8"
            ],
            [
             0.3333333333333333,
             "#9c179e"
            ],
            [
             0.4444444444444444,
             "#bd3786"
            ],
            [
             0.5555555555555556,
             "#d8576b"
            ],
            [
             0.6666666666666666,
             "#ed7953"
            ],
            [
             0.7777777777777778,
             "#fb9f3a"
            ],
            [
             0.8888888888888888,
             "#fdca26"
            ],
            [
             1,
             "#f0f921"
            ]
           ],
           "sequentialminus": [
            [
             0,
             "#0d0887"
            ],
            [
             0.1111111111111111,
             "#46039f"
            ],
            [
             0.2222222222222222,
             "#7201a8"
            ],
            [
             0.3333333333333333,
             "#9c179e"
            ],
            [
             0.4444444444444444,
             "#bd3786"
            ],
            [
             0.5555555555555556,
             "#d8576b"
            ],
            [
             0.6666666666666666,
             "#ed7953"
            ],
            [
             0.7777777777777778,
             "#fb9f3a"
            ],
            [
             0.8888888888888888,
             "#fdca26"
            ],
            [
             1,
             "#f0f921"
            ]
           ]
          },
          "colorway": [
           "#636efa",
           "#EF553B",
           "#00cc96",
           "#ab63fa",
           "#FFA15A",
           "#19d3f3",
           "#FF6692",
           "#B6E880",
           "#FF97FF",
           "#FECB52"
          ],
          "font": {
           "color": "#2a3f5f"
          },
          "geo": {
           "bgcolor": "white",
           "lakecolor": "white",
           "landcolor": "#E5ECF6",
           "showlakes": true,
           "showland": true,
           "subunitcolor": "white"
          },
          "hoverlabel": {
           "align": "left"
          },
          "hovermode": "closest",
          "mapbox": {
           "style": "light"
          },
          "paper_bgcolor": "white",
          "plot_bgcolor": "#E5ECF6",
          "polar": {
           "angularaxis": {
            "gridcolor": "white",
            "linecolor": "white",
            "ticks": ""
           },
           "bgcolor": "#E5ECF6",
           "radialaxis": {
            "gridcolor": "white",
            "linecolor": "white",
            "ticks": ""
           }
          },
          "scene": {
           "xaxis": {
            "backgroundcolor": "#E5ECF6",
            "gridcolor": "white",
            "gridwidth": 2,
            "linecolor": "white",
            "showbackground": true,
            "ticks": "",
            "zerolinecolor": "white"
           },
           "yaxis": {
            "backgroundcolor": "#E5ECF6",
            "gridcolor": "white",
            "gridwidth": 2,
            "linecolor": "white",
            "showbackground": true,
            "ticks": "",
            "zerolinecolor": "white"
           },
           "zaxis": {
            "backgroundcolor": "#E5ECF6",
            "gridcolor": "white",
            "gridwidth": 2,
            "linecolor": "white",
            "showbackground": true,
            "ticks": "",
            "zerolinecolor": "white"
           }
          },
          "shapedefaults": {
           "line": {
            "color": "#2a3f5f"
           }
          },
          "ternary": {
           "aaxis": {
            "gridcolor": "white",
            "linecolor": "white",
            "ticks": ""
           },
           "baxis": {
            "gridcolor": "white",
            "linecolor": "white",
            "ticks": ""
           },
           "bgcolor": "#E5ECF6",
           "caxis": {
            "gridcolor": "white",
            "linecolor": "white",
            "ticks": ""
           }
          },
          "title": {
           "x": 0.05
          },
          "xaxis": {
           "automargin": true,
           "gridcolor": "white",
           "linecolor": "white",
           "ticks": "",
           "title": {
            "standoff": 15
           },
           "zerolinecolor": "white",
           "zerolinewidth": 2
          },
          "yaxis": {
           "automargin": true,
           "gridcolor": "white",
           "linecolor": "white",
           "ticks": "",
           "title": {
            "standoff": 15
           },
           "zerolinecolor": "white",
           "zerolinewidth": 2
          }
         }
        },
        "title": {
         "text": "Gesamte Teilnahmebereitschaft (Q10)"
        },
        "xaxis": {
         "anchor": "y",
         "domain": [
          0,
          1
         ],
         "title": {
          "text": "Teilnahme-Typ (Q10)"
         }
        },
        "yaxis": {
         "anchor": "x",
         "domain": [
          0,
          1
         ],
         "title": {
          "text": "Anteil der Nennungen (%)"
         }
        }
       }
      }
     },
     "metadata": {},
     "output_type": "display_data"
    },
    {
     "name": "stdout",
     "output_type": "stream",
     "text": [
      "\n",
      "--- 3.3.2 Teilnahmebereitschaft (Q10 `incentive_choice`) pro Gerät ---\n",
      "Prozentuale Verteilung der Teilnahmebereitschaft (Q10) pro Gerät (%):\n",
      "incentive_choice                       no  unknown_choice  yes_conditional  \\\n",
      "device                                                                       \n",
      "Backofen und Herd                    54.8             7.1             27.7   \n",
      "Bürogeräte                           50.3             5.8             21.3   \n",
      "Fernseher und Entertainment-Systeme  30.3             7.1             33.5   \n",
      "Geschirrspüler                       22.6             7.7             34.2   \n",
      "Waschmaschine                        39.4             6.5             33.5   \n",
      "\n",
      "incentive_choice                     yes_fixed  \n",
      "device                                          \n",
      "Backofen und Herd                         10.3  \n",
      "Bürogeräte                                22.6  \n",
      "Fernseher und Entertainment-Systeme       29.0  \n",
      "Geschirrspüler                            35.5  \n",
      "Waschmaschine                             20.6  \n"
     ]
    },
    {
     "data": {
      "application/vnd.plotly.v1+json": {
       "config": {
        "plotlyServerURL": "https://plot.ly"
       },
       "data": [
        {
         "alignmentgroup": "True",
         "cliponaxis": false,
         "hovertemplate": "Teilnahme-Typ (Q10)=no<br>Haushaltsgerät=%{x}<br>Anteil der Nennungen (%)=%{y}<extra></extra>",
         "legendgroup": "no",
         "marker": {
          "color": "#636efa",
          "pattern": {
           "shape": ""
          }
         },
         "name": "no",
         "offsetgroup": "no",
         "orientation": "v",
         "showlegend": true,
         "textposition": "outside",
         "texttemplate": "%{y:.1f}%",
         "type": "bar",
         "x": [
          "Backofen und Herd",
          "Bürogeräte",
          "Fernseher und Entertainment-Systeme",
          "Geschirrspüler",
          "Waschmaschine"
         ],
         "xaxis": "x",
         "y": {
          "bdata": "ZmZmZmZmS0BmZmZmZiZJQM3MzMzMTD5AmpmZmZmZNkAzMzMzM7NDQA==",
          "dtype": "f8"
         },
         "yaxis": "y"
        },
        {
         "alignmentgroup": "True",
         "cliponaxis": false,
         "hovertemplate": "Teilnahme-Typ (Q10)=yes_conditional<br>Haushaltsgerät=%{x}<br>Anteil der Nennungen (%)=%{y}<extra></extra>",
         "legendgroup": "yes_conditional",
         "marker": {
          "color": "#EF553B",
          "pattern": {
           "shape": ""
          }
         },
         "name": "yes_conditional",
         "offsetgroup": "yes_conditional",
         "orientation": "v",
         "showlegend": true,
         "textposition": "outside",
         "texttemplate": "%{y:.1f}%",
         "type": "bar",
         "x": [
          "Backofen und Herd",
          "Bürogeräte",
          "Fernseher und Entertainment-Systeme",
          "Geschirrspüler",
          "Waschmaschine"
         ],
         "xaxis": "x",
         "y": {
          "bdata": "MzMzMzOzO0DNzMzMzEw1QAAAAAAAwEBAmpmZmZkZQUAAAAAAAMBAQA==",
          "dtype": "f8"
         },
         "yaxis": "y"
        },
        {
         "alignmentgroup": "True",
         "cliponaxis": false,
         "hovertemplate": "Teilnahme-Typ (Q10)=yes_fixed<br>Haushaltsgerät=%{x}<br>Anteil der Nennungen (%)=%{y}<extra></extra>",
         "legendgroup": "yes_fixed",
         "marker": {
          "color": "#00cc96",
          "pattern": {
           "shape": ""
          }
         },
         "name": "yes_fixed",
         "offsetgroup": "yes_fixed",
         "orientation": "v",
         "showlegend": true,
         "textposition": "outside",
         "texttemplate": "%{y:.1f}%",
         "type": "bar",
         "x": [
          "Backofen und Herd",
          "Bürogeräte",
          "Fernseher und Entertainment-Systeme",
          "Geschirrspüler",
          "Waschmaschine"
         ],
         "xaxis": "x",
         "y": {
          "bdata": "mpmZmZmZJECamZmZmZk2QAAAAAAAAD1AAAAAAADAQUCamZmZmZk0QA==",
          "dtype": "f8"
         },
         "yaxis": "y"
        },
        {
         "alignmentgroup": "True",
         "cliponaxis": false,
         "hovertemplate": "Teilnahme-Typ (Q10)=unknown_choice<br>Haushaltsgerät=%{x}<br>Anteil der Nennungen (%)=%{y}<extra></extra>",
         "legendgroup": "unknown_choice",
         "marker": {
          "color": "#ab63fa",
          "pattern": {
           "shape": ""
          }
         },
         "name": "unknown_choice",
         "offsetgroup": "unknown_choice",
         "orientation": "v",
         "showlegend": true,
         "textposition": "outside",
         "texttemplate": "%{y:.1f}%",
         "type": "bar",
         "x": [
          "Backofen und Herd",
          "Bürogeräte",
          "Fernseher und Entertainment-Systeme",
          "Geschirrspüler",
          "Waschmaschine"
         ],
         "xaxis": "x",
         "y": {
          "bdata": "ZmZmZmZmHEAzMzMzMzMXQGZmZmZmZhxAzczMzMzMHkAAAAAAAAAaQA==",
          "dtype": "f8"
         },
         "yaxis": "y"
        }
       ],
       "layout": {
        "barmode": "group",
        "legend": {
         "title": {
          "text": "Teilnahme-Typ (Q10)"
         },
         "tracegroupgap": 0
        },
        "template": {
         "data": {
          "bar": [
           {
            "error_x": {
             "color": "#2a3f5f"
            },
            "error_y": {
             "color": "#2a3f5f"
            },
            "marker": {
             "line": {
              "color": "#E5ECF6",
              "width": 0.5
             },
             "pattern": {
              "fillmode": "overlay",
              "size": 10,
              "solidity": 0.2
             }
            },
            "type": "bar"
           }
          ],
          "barpolar": [
           {
            "marker": {
             "line": {
              "color": "#E5ECF6",
              "width": 0.5
             },
             "pattern": {
              "fillmode": "overlay",
              "size": 10,
              "solidity": 0.2
             }
            },
            "type": "barpolar"
           }
          ],
          "carpet": [
           {
            "aaxis": {
             "endlinecolor": "#2a3f5f",
             "gridcolor": "white",
             "linecolor": "white",
             "minorgridcolor": "white",
             "startlinecolor": "#2a3f5f"
            },
            "baxis": {
             "endlinecolor": "#2a3f5f",
             "gridcolor": "white",
             "linecolor": "white",
             "minorgridcolor": "white",
             "startlinecolor": "#2a3f5f"
            },
            "type": "carpet"
           }
          ],
          "choropleth": [
           {
            "colorbar": {
             "outlinewidth": 0,
             "ticks": ""
            },
            "type": "choropleth"
           }
          ],
          "contour": [
           {
            "colorbar": {
             "outlinewidth": 0,
             "ticks": ""
            },
            "colorscale": [
             [
              0,
              "#0d0887"
             ],
             [
              0.1111111111111111,
              "#46039f"
             ],
             [
              0.2222222222222222,
              "#7201a8"
             ],
             [
              0.3333333333333333,
              "#9c179e"
             ],
             [
              0.4444444444444444,
              "#bd3786"
             ],
             [
              0.5555555555555556,
              "#d8576b"
             ],
             [
              0.6666666666666666,
              "#ed7953"
             ],
             [
              0.7777777777777778,
              "#fb9f3a"
             ],
             [
              0.8888888888888888,
              "#fdca26"
             ],
             [
              1,
              "#f0f921"
             ]
            ],
            "type": "contour"
           }
          ],
          "contourcarpet": [
           {
            "colorbar": {
             "outlinewidth": 0,
             "ticks": ""
            },
            "type": "contourcarpet"
           }
          ],
          "heatmap": [
           {
            "colorbar": {
             "outlinewidth": 0,
             "ticks": ""
            },
            "colorscale": [
             [
              0,
              "#0d0887"
             ],
             [
              0.1111111111111111,
              "#46039f"
             ],
             [
              0.2222222222222222,
              "#7201a8"
             ],
             [
              0.3333333333333333,
              "#9c179e"
             ],
             [
              0.4444444444444444,
              "#bd3786"
             ],
             [
              0.5555555555555556,
              "#d8576b"
             ],
             [
              0.6666666666666666,
              "#ed7953"
             ],
             [
              0.7777777777777778,
              "#fb9f3a"
             ],
             [
              0.8888888888888888,
              "#fdca26"
             ],
             [
              1,
              "#f0f921"
             ]
            ],
            "type": "heatmap"
           }
          ],
          "histogram": [
           {
            "marker": {
             "pattern": {
              "fillmode": "overlay",
              "size": 10,
              "solidity": 0.2
             }
            },
            "type": "histogram"
           }
          ],
          "histogram2d": [
           {
            "colorbar": {
             "outlinewidth": 0,
             "ticks": ""
            },
            "colorscale": [
             [
              0,
              "#0d0887"
             ],
             [
              0.1111111111111111,
              "#46039f"
             ],
             [
              0.2222222222222222,
              "#7201a8"
             ],
             [
              0.3333333333333333,
              "#9c179e"
             ],
             [
              0.4444444444444444,
              "#bd3786"
             ],
             [
              0.5555555555555556,
              "#d8576b"
             ],
             [
              0.6666666666666666,
              "#ed7953"
             ],
             [
              0.7777777777777778,
              "#fb9f3a"
             ],
             [
              0.8888888888888888,
              "#fdca26"
             ],
             [
              1,
              "#f0f921"
             ]
            ],
            "type": "histogram2d"
           }
          ],
          "histogram2dcontour": [
           {
            "colorbar": {
             "outlinewidth": 0,
             "ticks": ""
            },
            "colorscale": [
             [
              0,
              "#0d0887"
             ],
             [
              0.1111111111111111,
              "#46039f"
             ],
             [
              0.2222222222222222,
              "#7201a8"
             ],
             [
              0.3333333333333333,
              "#9c179e"
             ],
             [
              0.4444444444444444,
              "#bd3786"
             ],
             [
              0.5555555555555556,
              "#d8576b"
             ],
             [
              0.6666666666666666,
              "#ed7953"
             ],
             [
              0.7777777777777778,
              "#fb9f3a"
             ],
             [
              0.8888888888888888,
              "#fdca26"
             ],
             [
              1,
              "#f0f921"
             ]
            ],
            "type": "histogram2dcontour"
           }
          ],
          "mesh3d": [
           {
            "colorbar": {
             "outlinewidth": 0,
             "ticks": ""
            },
            "type": "mesh3d"
           }
          ],
          "parcoords": [
           {
            "line": {
             "colorbar": {
              "outlinewidth": 0,
              "ticks": ""
             }
            },
            "type": "parcoords"
           }
          ],
          "pie": [
           {
            "automargin": true,
            "type": "pie"
           }
          ],
          "scatter": [
           {
            "fillpattern": {
             "fillmode": "overlay",
             "size": 10,
             "solidity": 0.2
            },
            "type": "scatter"
           }
          ],
          "scatter3d": [
           {
            "line": {
             "colorbar": {
              "outlinewidth": 0,
              "ticks": ""
             }
            },
            "marker": {
             "colorbar": {
              "outlinewidth": 0,
              "ticks": ""
             }
            },
            "type": "scatter3d"
           }
          ],
          "scattercarpet": [
           {
            "marker": {
             "colorbar": {
              "outlinewidth": 0,
              "ticks": ""
             }
            },
            "type": "scattercarpet"
           }
          ],
          "scattergeo": [
           {
            "marker": {
             "colorbar": {
              "outlinewidth": 0,
              "ticks": ""
             }
            },
            "type": "scattergeo"
           }
          ],
          "scattergl": [
           {
            "marker": {
             "colorbar": {
              "outlinewidth": 0,
              "ticks": ""
             }
            },
            "type": "scattergl"
           }
          ],
          "scattermap": [
           {
            "marker": {
             "colorbar": {
              "outlinewidth": 0,
              "ticks": ""
             }
            },
            "type": "scattermap"
           }
          ],
          "scattermapbox": [
           {
            "marker": {
             "colorbar": {
              "outlinewidth": 0,
              "ticks": ""
             }
            },
            "type": "scattermapbox"
           }
          ],
          "scatterpolar": [
           {
            "marker": {
             "colorbar": {
              "outlinewidth": 0,
              "ticks": ""
             }
            },
            "type": "scatterpolar"
           }
          ],
          "scatterpolargl": [
           {
            "marker": {
             "colorbar": {
              "outlinewidth": 0,
              "ticks": ""
             }
            },
            "type": "scatterpolargl"
           }
          ],
          "scatterternary": [
           {
            "marker": {
             "colorbar": {
              "outlinewidth": 0,
              "ticks": ""
             }
            },
            "type": "scatterternary"
           }
          ],
          "surface": [
           {
            "colorbar": {
             "outlinewidth": 0,
             "ticks": ""
            },
            "colorscale": [
             [
              0,
              "#0d0887"
             ],
             [
              0.1111111111111111,
              "#46039f"
             ],
             [
              0.2222222222222222,
              "#7201a8"
             ],
             [
              0.3333333333333333,
              "#9c179e"
             ],
             [
              0.4444444444444444,
              "#bd3786"
             ],
             [
              0.5555555555555556,
              "#d8576b"
             ],
             [
              0.6666666666666666,
              "#ed7953"
             ],
             [
              0.7777777777777778,
              "#fb9f3a"
             ],
             [
              0.8888888888888888,
              "#fdca26"
             ],
             [
              1,
              "#f0f921"
             ]
            ],
            "type": "surface"
           }
          ],
          "table": [
           {
            "cells": {
             "fill": {
              "color": "#EBF0F8"
             },
             "line": {
              "color": "white"
             }
            },
            "header": {
             "fill": {
              "color": "#C8D4E3"
             },
             "line": {
              "color": "white"
             }
            },
            "type": "table"
           }
          ]
         },
         "layout": {
          "annotationdefaults": {
           "arrowcolor": "#2a3f5f",
           "arrowhead": 0,
           "arrowwidth": 1
          },
          "autotypenumbers": "strict",
          "coloraxis": {
           "colorbar": {
            "outlinewidth": 0,
            "ticks": ""
           }
          },
          "colorscale": {
           "diverging": [
            [
             0,
             "#8e0152"
            ],
            [
             0.1,
             "#c51b7d"
            ],
            [
             0.2,
             "#de77ae"
            ],
            [
             0.3,
             "#f1b6da"
            ],
            [
             0.4,
             "#fde0ef"
            ],
            [
             0.5,
             "#f7f7f7"
            ],
            [
             0.6,
             "#e6f5d0"
            ],
            [
             0.7,
             "#b8e186"
            ],
            [
             0.8,
             "#7fbc41"
            ],
            [
             0.9,
             "#4d9221"
            ],
            [
             1,
             "#276419"
            ]
           ],
           "sequential": [
            [
             0,
             "#0d0887"
            ],
            [
             0.1111111111111111,
             "#46039f"
            ],
            [
             0.2222222222222222,
             "#7201a8"
            ],
            [
             0.3333333333333333,
             "#9c179e"
            ],
            [
             0.4444444444444444,
             "#bd3786"
            ],
            [
             0.5555555555555556,
             "#d8576b"
            ],
            [
             0.6666666666666666,
             "#ed7953"
            ],
            [
             0.7777777777777778,
             "#fb9f3a"
            ],
            [
             0.8888888888888888,
             "#fdca26"
            ],
            [
             1,
             "#f0f921"
            ]
           ],
           "sequentialminus": [
            [
             0,
             "#0d0887"
            ],
            [
             0.1111111111111111,
             "#46039f"
            ],
            [
             0.2222222222222222,
             "#7201a8"
            ],
            [
             0.3333333333333333,
             "#9c179e"
            ],
            [
             0.4444444444444444,
             "#bd3786"
            ],
            [
             0.5555555555555556,
             "#d8576b"
            ],
            [
             0.6666666666666666,
             "#ed7953"
            ],
            [
             0.7777777777777778,
             "#fb9f3a"
            ],
            [
             0.8888888888888888,
             "#fdca26"
            ],
            [
             1,
             "#f0f921"
            ]
           ]
          },
          "colorway": [
           "#636efa",
           "#EF553B",
           "#00cc96",
           "#ab63fa",
           "#FFA15A",
           "#19d3f3",
           "#FF6692",
           "#B6E880",
           "#FF97FF",
           "#FECB52"
          ],
          "font": {
           "color": "#2a3f5f"
          },
          "geo": {
           "bgcolor": "white",
           "lakecolor": "white",
           "landcolor": "#E5ECF6",
           "showlakes": true,
           "showland": true,
           "subunitcolor": "white"
          },
          "hoverlabel": {
           "align": "left"
          },
          "hovermode": "closest",
          "mapbox": {
           "style": "light"
          },
          "paper_bgcolor": "white",
          "plot_bgcolor": "#E5ECF6",
          "polar": {
           "angularaxis": {
            "gridcolor": "white",
            "linecolor": "white",
            "ticks": ""
           },
           "bgcolor": "#E5ECF6",
           "radialaxis": {
            "gridcolor": "white",
            "linecolor": "white",
            "ticks": ""
           }
          },
          "scene": {
           "xaxis": {
            "backgroundcolor": "#E5ECF6",
            "gridcolor": "white",
            "gridwidth": 2,
            "linecolor": "white",
            "showbackground": true,
            "ticks": "",
            "zerolinecolor": "white"
           },
           "yaxis": {
            "backgroundcolor": "#E5ECF6",
            "gridcolor": "white",
            "gridwidth": 2,
            "linecolor": "white",
            "showbackground": true,
            "ticks": "",
            "zerolinecolor": "white"
           },
           "zaxis": {
            "backgroundcolor": "#E5ECF6",
            "gridcolor": "white",
            "gridwidth": 2,
            "linecolor": "white",
            "showbackground": true,
            "ticks": "",
            "zerolinecolor": "white"
           }
          },
          "shapedefaults": {
           "line": {
            "color": "#2a3f5f"
           }
          },
          "ternary": {
           "aaxis": {
            "gridcolor": "white",
            "linecolor": "white",
            "ticks": ""
           },
           "baxis": {
            "gridcolor": "white",
            "linecolor": "white",
            "ticks": ""
           },
           "bgcolor": "#E5ECF6",
           "caxis": {
            "gridcolor": "white",
            "linecolor": "white",
            "ticks": ""
           }
          },
          "title": {
           "x": 0.05
          },
          "xaxis": {
           "automargin": true,
           "gridcolor": "white",
           "linecolor": "white",
           "ticks": "",
           "title": {
            "standoff": 15
           },
           "zerolinecolor": "white",
           "zerolinewidth": 2
          },
          "yaxis": {
           "automargin": true,
           "gridcolor": "white",
           "linecolor": "white",
           "ticks": "",
           "title": {
            "standoff": 15
           },
           "zerolinecolor": "white",
           "zerolinewidth": 2
          }
         }
        },
        "title": {
         "text": "Teilnahmebereitschaft (Q10) pro Gerät"
        },
        "xaxis": {
         "anchor": "y",
         "categoryarray": [
          "Backofen und Herd",
          "Bürogeräte",
          "Fernseher und Entertainment-Systeme",
          "Geschirrspüler",
          "Waschmaschine"
         ],
         "categoryorder": "array",
         "domain": [
          0,
          1
         ],
         "title": {
          "text": "Haushaltsgerät"
         }
        },
        "yaxis": {
         "anchor": "x",
         "domain": [
          0,
          1
         ],
         "title": {
          "text": "Anteil der Nennungen (%)"
         }
        }
       }
      }
     },
     "metadata": {},
     "output_type": "display_data"
    },
    {
     "name": "stdout",
     "output_type": "stream",
     "text": [
      "\n",
      "--- 3.3.3 Teilnahmebereitschaft (Q10 `incentive_choice`) nach max. Nichtnutzungsdauer (Q9 `max_duration_hours_num`) ---\n",
      "Prozentuale Verteilung der Teilnahmebereitschaft (Q10) nach max. Nichtnutzungsdauer (Q9) (%):\n",
      "incentive_choice          no  unknown_choice  yes_conditional  yes_fixed\n",
      "max_duration_hours_num                                                  \n",
      "0.0                     72.2             6.8             16.5        4.5\n",
      "1.5                     41.1             4.4             36.7       17.8\n",
      "4.5                     40.4             6.7             32.6       20.2\n",
      "9.0                     33.3             6.0             33.3       27.4\n",
      "18.0                    35.5             8.3             29.0       27.2\n",
      "30.0                    21.1             7.4             34.3       37.1\n"
     ]
    },
    {
     "data": {
      "application/vnd.plotly.v1+json": {
       "config": {
        "plotlyServerURL": "https://plot.ly"
       },
       "data": [
        {
         "alignmentgroup": "True",
         "cliponaxis": false,
         "hovertemplate": "Teilnahme-Typ (Q10)=no<br>Max. Nichtnutzungsdauer (Stunden, aus Q9)=%{x}<br>Anteil der Nennungen (%)=%{y}<extra></extra>",
         "legendgroup": "no",
         "marker": {
          "color": "#636efa",
          "pattern": {
           "shape": ""
          }
         },
         "name": "no",
         "offsetgroup": "no",
         "orientation": "v",
         "showlegend": true,
         "textposition": "outside",
         "texttemplate": "%{y:.1f}%",
         "type": "bar",
         "x": [
          "0.0",
          "1.5",
          "4.5",
          "9.0",
          "18.0",
          "30.0"
         ],
         "xaxis": "x",
         "y": {
          "bdata": "zczMzMwMUkDNzMzMzIxEQDMzMzMzM0RAZmZmZmamQEAAAAAAAMBBQJqZmZmZGTVA",
          "dtype": "f8"
         },
         "yaxis": "y"
        },
        {
         "alignmentgroup": "True",
         "cliponaxis": false,
         "hovertemplate": "Teilnahme-Typ (Q10)=yes_conditional<br>Max. Nichtnutzungsdauer (Stunden, aus Q9)=%{x}<br>Anteil der Nennungen (%)=%{y}<extra></extra>",
         "legendgroup": "yes_conditional",
         "marker": {
          "color": "#EF553B",
          "pattern": {
           "shape": ""
          }
         },
         "name": "yes_conditional",
         "offsetgroup": "yes_conditional",
         "orientation": "v",
         "showlegend": true,
         "textposition": "outside",
         "texttemplate": "%{y:.1f}%",
         "type": "bar",
         "x": [
          "0.0",
          "1.5",
          "4.5",
          "9.0",
          "18.0",
          "30.0"
         ],
         "xaxis": "x",
         "y": {
          "bdata": "AAAAAACAMECamZmZmVlCQM3MzMzMTEBAZmZmZmamQEAAAAAAAAA9QGZmZmZmJkFA",
          "dtype": "f8"
         },
         "yaxis": "y"
        },
        {
         "alignmentgroup": "True",
         "cliponaxis": false,
         "hovertemplate": "Teilnahme-Typ (Q10)=unknown_choice<br>Max. Nichtnutzungsdauer (Stunden, aus Q9)=%{x}<br>Anteil der Nennungen (%)=%{y}<extra></extra>",
         "legendgroup": "unknown_choice",
         "marker": {
          "color": "#00cc96",
          "pattern": {
           "shape": ""
          }
         },
         "name": "unknown_choice",
         "offsetgroup": "unknown_choice",
         "orientation": "v",
         "showlegend": true,
         "textposition": "outside",
         "texttemplate": "%{y:.1f}%",
         "type": "bar",
         "x": [
          "0.0",
          "1.5",
          "4.5",
          "9.0",
          "18.0",
          "30.0"
         ],
         "xaxis": "x",
         "y": {
          "bdata": "MzMzMzMzG0CamZmZmZkRQM3MzMzMzBpAAAAAAAAAGECamZmZmZkgQJqZmZmZmR1A",
          "dtype": "f8"
         },
         "yaxis": "y"
        },
        {
         "alignmentgroup": "True",
         "cliponaxis": false,
         "hovertemplate": "Teilnahme-Typ (Q10)=yes_fixed<br>Max. Nichtnutzungsdauer (Stunden, aus Q9)=%{x}<br>Anteil der Nennungen (%)=%{y}<extra></extra>",
         "legendgroup": "yes_fixed",
         "marker": {
          "color": "#ab63fa",
          "pattern": {
           "shape": ""
          }
         },
         "name": "yes_fixed",
         "offsetgroup": "yes_fixed",
         "orientation": "v",
         "showlegend": true,
         "textposition": "outside",
         "texttemplate": "%{y:.1f}%",
         "type": "bar",
         "x": [
          "0.0",
          "1.5",
          "4.5",
          "9.0",
          "18.0",
          "30.0"
         ],
         "xaxis": "x",
         "y": {
          "bdata": "AAAAAAAAEkDNzMzMzMwxQDMzMzMzMzRAZmZmZmZmO0AzMzMzMzM7QM3MzMzMjEJA",
          "dtype": "f8"
         },
         "yaxis": "y"
        }
       ],
       "layout": {
        "barmode": "group",
        "legend": {
         "title": {
          "text": "Teilnahme-Typ (Q10)"
         },
         "tracegroupgap": 0
        },
        "template": {
         "data": {
          "bar": [
           {
            "error_x": {
             "color": "#2a3f5f"
            },
            "error_y": {
             "color": "#2a3f5f"
            },
            "marker": {
             "line": {
              "color": "#E5ECF6",
              "width": 0.5
             },
             "pattern": {
              "fillmode": "overlay",
              "size": 10,
              "solidity": 0.2
             }
            },
            "type": "bar"
           }
          ],
          "barpolar": [
           {
            "marker": {
             "line": {
              "color": "#E5ECF6",
              "width": 0.5
             },
             "pattern": {
              "fillmode": "overlay",
              "size": 10,
              "solidity": 0.2
             }
            },
            "type": "barpolar"
           }
          ],
          "carpet": [
           {
            "aaxis": {
             "endlinecolor": "#2a3f5f",
             "gridcolor": "white",
             "linecolor": "white",
             "minorgridcolor": "white",
             "startlinecolor": "#2a3f5f"
            },
            "baxis": {
             "endlinecolor": "#2a3f5f",
             "gridcolor": "white",
             "linecolor": "white",
             "minorgridcolor": "white",
             "startlinecolor": "#2a3f5f"
            },
            "type": "carpet"
           }
          ],
          "choropleth": [
           {
            "colorbar": {
             "outlinewidth": 0,
             "ticks": ""
            },
            "type": "choropleth"
           }
          ],
          "contour": [
           {
            "colorbar": {
             "outlinewidth": 0,
             "ticks": ""
            },
            "colorscale": [
             [
              0,
              "#0d0887"
             ],
             [
              0.1111111111111111,
              "#46039f"
             ],
             [
              0.2222222222222222,
              "#7201a8"
             ],
             [
              0.3333333333333333,
              "#9c179e"
             ],
             [
              0.4444444444444444,
              "#bd3786"
             ],
             [
              0.5555555555555556,
              "#d8576b"
             ],
             [
              0.6666666666666666,
              "#ed7953"
             ],
             [
              0.7777777777777778,
              "#fb9f3a"
             ],
             [
              0.8888888888888888,
              "#fdca26"
             ],
             [
              1,
              "#f0f921"
             ]
            ],
            "type": "contour"
           }
          ],
          "contourcarpet": [
           {
            "colorbar": {
             "outlinewidth": 0,
             "ticks": ""
            },
            "type": "contourcarpet"
           }
          ],
          "heatmap": [
           {
            "colorbar": {
             "outlinewidth": 0,
             "ticks": ""
            },
            "colorscale": [
             [
              0,
              "#0d0887"
             ],
             [
              0.1111111111111111,
              "#46039f"
             ],
             [
              0.2222222222222222,
              "#7201a8"
             ],
             [
              0.3333333333333333,
              "#9c179e"
             ],
             [
              0.4444444444444444,
              "#bd3786"
             ],
             [
              0.5555555555555556,
              "#d8576b"
             ],
             [
              0.6666666666666666,
              "#ed7953"
             ],
             [
              0.7777777777777778,
              "#fb9f3a"
             ],
             [
              0.8888888888888888,
              "#fdca26"
             ],
             [
              1,
              "#f0f921"
             ]
            ],
            "type": "heatmap"
           }
          ],
          "histogram": [
           {
            "marker": {
             "pattern": {
              "fillmode": "overlay",
              "size": 10,
              "solidity": 0.2
             }
            },
            "type": "histogram"
           }
          ],
          "histogram2d": [
           {
            "colorbar": {
             "outlinewidth": 0,
             "ticks": ""
            },
            "colorscale": [
             [
              0,
              "#0d0887"
             ],
             [
              0.1111111111111111,
              "#46039f"
             ],
             [
              0.2222222222222222,
              "#7201a8"
             ],
             [
              0.3333333333333333,
              "#9c179e"
             ],
             [
              0.4444444444444444,
              "#bd3786"
             ],
             [
              0.5555555555555556,
              "#d8576b"
             ],
             [
              0.6666666666666666,
              "#ed7953"
             ],
             [
              0.7777777777777778,
              "#fb9f3a"
             ],
             [
              0.8888888888888888,
              "#fdca26"
             ],
             [
              1,
              "#f0f921"
             ]
            ],
            "type": "histogram2d"
           }
          ],
          "histogram2dcontour": [
           {
            "colorbar": {
             "outlinewidth": 0,
             "ticks": ""
            },
            "colorscale": [
             [
              0,
              "#0d0887"
             ],
             [
              0.1111111111111111,
              "#46039f"
             ],
             [
              0.2222222222222222,
              "#7201a8"
             ],
             [
              0.3333333333333333,
              "#9c179e"
             ],
             [
              0.4444444444444444,
              "#bd3786"
             ],
             [
              0.5555555555555556,
              "#d8576b"
             ],
             [
              0.6666666666666666,
              "#ed7953"
             ],
             [
              0.7777777777777778,
              "#fb9f3a"
             ],
             [
              0.8888888888888888,
              "#fdca26"
             ],
             [
              1,
              "#f0f921"
             ]
            ],
            "type": "histogram2dcontour"
           }
          ],
          "mesh3d": [
           {
            "colorbar": {
             "outlinewidth": 0,
             "ticks": ""
            },
            "type": "mesh3d"
           }
          ],
          "parcoords": [
           {
            "line": {
             "colorbar": {
              "outlinewidth": 0,
              "ticks": ""
             }
            },
            "type": "parcoords"
           }
          ],
          "pie": [
           {
            "automargin": true,
            "type": "pie"
           }
          ],
          "scatter": [
           {
            "fillpattern": {
             "fillmode": "overlay",
             "size": 10,
             "solidity": 0.2
            },
            "type": "scatter"
           }
          ],
          "scatter3d": [
           {
            "line": {
             "colorbar": {
              "outlinewidth": 0,
              "ticks": ""
             }
            },
            "marker": {
             "colorbar": {
              "outlinewidth": 0,
              "ticks": ""
             }
            },
            "type": "scatter3d"
           }
          ],
          "scattercarpet": [
           {
            "marker": {
             "colorbar": {
              "outlinewidth": 0,
              "ticks": ""
             }
            },
            "type": "scattercarpet"
           }
          ],
          "scattergeo": [
           {
            "marker": {
             "colorbar": {
              "outlinewidth": 0,
              "ticks": ""
             }
            },
            "type": "scattergeo"
           }
          ],
          "scattergl": [
           {
            "marker": {
             "colorbar": {
              "outlinewidth": 0,
              "ticks": ""
             }
            },
            "type": "scattergl"
           }
          ],
          "scattermap": [
           {
            "marker": {
             "colorbar": {
              "outlinewidth": 0,
              "ticks": ""
             }
            },
            "type": "scattermap"
           }
          ],
          "scattermapbox": [
           {
            "marker": {
             "colorbar": {
              "outlinewidth": 0,
              "ticks": ""
             }
            },
            "type": "scattermapbox"
           }
          ],
          "scatterpolar": [
           {
            "marker": {
             "colorbar": {
              "outlinewidth": 0,
              "ticks": ""
             }
            },
            "type": "scatterpolar"
           }
          ],
          "scatterpolargl": [
           {
            "marker": {
             "colorbar": {
              "outlinewidth": 0,
              "ticks": ""
             }
            },
            "type": "scatterpolargl"
           }
          ],
          "scatterternary": [
           {
            "marker": {
             "colorbar": {
              "outlinewidth": 0,
              "ticks": ""
             }
            },
            "type": "scatterternary"
           }
          ],
          "surface": [
           {
            "colorbar": {
             "outlinewidth": 0,
             "ticks": ""
            },
            "colorscale": [
             [
              0,
              "#0d0887"
             ],
             [
              0.1111111111111111,
              "#46039f"
             ],
             [
              0.2222222222222222,
              "#7201a8"
             ],
             [
              0.3333333333333333,
              "#9c179e"
             ],
             [
              0.4444444444444444,
              "#bd3786"
             ],
             [
              0.5555555555555556,
              "#d8576b"
             ],
             [
              0.6666666666666666,
              "#ed7953"
             ],
             [
              0.7777777777777778,
              "#fb9f3a"
             ],
             [
              0.8888888888888888,
              "#fdca26"
             ],
             [
              1,
              "#f0f921"
             ]
            ],
            "type": "surface"
           }
          ],
          "table": [
           {
            "cells": {
             "fill": {
              "color": "#EBF0F8"
             },
             "line": {
              "color": "white"
             }
            },
            "header": {
             "fill": {
              "color": "#C8D4E3"
             },
             "line": {
              "color": "white"
             }
            },
            "type": "table"
           }
          ]
         },
         "layout": {
          "annotationdefaults": {
           "arrowcolor": "#2a3f5f",
           "arrowhead": 0,
           "arrowwidth": 1
          },
          "autotypenumbers": "strict",
          "coloraxis": {
           "colorbar": {
            "outlinewidth": 0,
            "ticks": ""
           }
          },
          "colorscale": {
           "diverging": [
            [
             0,
             "#8e0152"
            ],
            [
             0.1,
             "#c51b7d"
            ],
            [
             0.2,
             "#de77ae"
            ],
            [
             0.3,
             "#f1b6da"
            ],
            [
             0.4,
             "#fde0ef"
            ],
            [
             0.5,
             "#f7f7f7"
            ],
            [
             0.6,
             "#e6f5d0"
            ],
            [
             0.7,
             "#b8e186"
            ],
            [
             0.8,
             "#7fbc41"
            ],
            [
             0.9,
             "#4d9221"
            ],
            [
             1,
             "#276419"
            ]
           ],
           "sequential": [
            [
             0,
             "#0d0887"
            ],
            [
             0.1111111111111111,
             "#46039f"
            ],
            [
             0.2222222222222222,
             "#7201a8"
            ],
            [
             0.3333333333333333,
             "#9c179e"
            ],
            [
             0.4444444444444444,
             "#bd3786"
            ],
            [
             0.5555555555555556,
             "#d8576b"
            ],
            [
             0.6666666666666666,
             "#ed7953"
            ],
            [
             0.7777777777777778,
             "#fb9f3a"
            ],
            [
             0.8888888888888888,
             "#fdca26"
            ],
            [
             1,
             "#f0f921"
            ]
           ],
           "sequentialminus": [
            [
             0,
             "#0d0887"
            ],
            [
             0.1111111111111111,
             "#46039f"
            ],
            [
             0.2222222222222222,
             "#7201a8"
            ],
            [
             0.3333333333333333,
             "#9c179e"
            ],
            [
             0.4444444444444444,
             "#bd3786"
            ],
            [
             0.5555555555555556,
             "#d8576b"
            ],
            [
             0.6666666666666666,
             "#ed7953"
            ],
            [
             0.7777777777777778,
             "#fb9f3a"
            ],
            [
             0.8888888888888888,
             "#fdca26"
            ],
            [
             1,
             "#f0f921"
            ]
           ]
          },
          "colorway": [
           "#636efa",
           "#EF553B",
           "#00cc96",
           "#ab63fa",
           "#FFA15A",
           "#19d3f3",
           "#FF6692",
           "#B6E880",
           "#FF97FF",
           "#FECB52"
          ],
          "font": {
           "color": "#2a3f5f"
          },
          "geo": {
           "bgcolor": "white",
           "lakecolor": "white",
           "landcolor": "#E5ECF6",
           "showlakes": true,
           "showland": true,
           "subunitcolor": "white"
          },
          "hoverlabel": {
           "align": "left"
          },
          "hovermode": "closest",
          "mapbox": {
           "style": "light"
          },
          "paper_bgcolor": "white",
          "plot_bgcolor": "#E5ECF6",
          "polar": {
           "angularaxis": {
            "gridcolor": "white",
            "linecolor": "white",
            "ticks": ""
           },
           "bgcolor": "#E5ECF6",
           "radialaxis": {
            "gridcolor": "white",
            "linecolor": "white",
            "ticks": ""
           }
          },
          "scene": {
           "xaxis": {
            "backgroundcolor": "#E5ECF6",
            "gridcolor": "white",
            "gridwidth": 2,
            "linecolor": "white",
            "showbackground": true,
            "ticks": "",
            "zerolinecolor": "white"
           },
           "yaxis": {
            "backgroundcolor": "#E5ECF6",
            "gridcolor": "white",
            "gridwidth": 2,
            "linecolor": "white",
            "showbackground": true,
            "ticks": "",
            "zerolinecolor": "white"
           },
           "zaxis": {
            "backgroundcolor": "#E5ECF6",
            "gridcolor": "white",
            "gridwidth": 2,
            "linecolor": "white",
            "showbackground": true,
            "ticks": "",
            "zerolinecolor": "white"
           }
          },
          "shapedefaults": {
           "line": {
            "color": "#2a3f5f"
           }
          },
          "ternary": {
           "aaxis": {
            "gridcolor": "white",
            "linecolor": "white",
            "ticks": ""
           },
           "baxis": {
            "gridcolor": "white",
            "linecolor": "white",
            "ticks": ""
           },
           "bgcolor": "#E5ECF6",
           "caxis": {
            "gridcolor": "white",
            "linecolor": "white",
            "ticks": ""
           }
          },
          "title": {
           "x": 0.05
          },
          "xaxis": {
           "automargin": true,
           "gridcolor": "white",
           "linecolor": "white",
           "ticks": "",
           "title": {
            "standoff": 15
           },
           "zerolinecolor": "white",
           "zerolinewidth": 2
          },
          "yaxis": {
           "automargin": true,
           "gridcolor": "white",
           "linecolor": "white",
           "ticks": "",
           "title": {
            "standoff": 15
           },
           "zerolinecolor": "white",
           "zerolinewidth": 2
          }
         }
        },
        "title": {
         "text": "Teilnahmebereitschaft (Q10) nach max. Nichtnutzungsdauer (Q9)"
        },
        "xaxis": {
         "anchor": "y",
         "domain": [
          0,
          1
         ],
         "title": {
          "text": "Max. Nichtnutzungsdauer (Stunden, aus Q9)"
         }
        },
        "yaxis": {
         "anchor": "x",
         "domain": [
          0,
          1
         ],
         "title": {
          "text": "Anteil der Nennungen (%)"
         }
        }
       }
      }
     },
     "metadata": {},
     "output_type": "display_data"
    },
    {
     "name": "stdout",
     "output_type": "stream",
     "text": [
      "\n",
      "--- Abschnitt 3.3: Bedingungen für die Teilnahme (Q10 `incentive_choice`) Abgeschlossen ---\n"
     ]
    }
   ],
   "source": [
    "## 3.3 Bedingungen für die Teilnahme an Lastverschiebung (Q10 `incentive_choice`)\n",
    "# Stelle sicher, dass master_df_f1 aus Abschnitt 0 existiert und nicht leer ist.\n",
    "if 'master_df_f1' in locals() and not master_df_f1.empty:\n",
    "    print(f\"Beginne Analyse der Teilnahmebedingungen (Q10 incentive_choice) basierend auf master_df_f1 (Shape: {master_df_f1.shape})\")\n",
    "\n",
    "    # --- 3.3.1 Gesamtverteilung der Teilnahmebereitschaft (Q10) ---\n",
    "    if 'incentive_choice' in master_df_f1.columns:\n",
    "        print(\"\\n--- 3.3.1 Gesamtverteilung der Teilnahmebereitschaft (Q10 `incentive_choice`) ---\")\n",
    "        overall_participation_q10 = master_df_f1['incentive_choice'].value_counts(normalize=True, dropna=False).mul(100).round(1)\n",
    "        \n",
    "        # Umbenennen von NaN für bessere Darstellung, falls vorhanden\n",
    "        overall_participation_q10.rename(index={np.nan: 'Keine Angabe Q10'}, inplace=True)\n",
    "        \n",
    "        print(\"Gesamtverteilung der Teilnahmebereitschaft (Q10) in %:\")\n",
    "        # display(overall_participation_q10.to_frame(name='Anteil (%)'))\n",
    "        print(overall_participation_q10.to_frame(name='Anteil (%)'))\n",
    "        \n",
    "        fig_q10_overall = px.bar(overall_participation_q10.reset_index(), \n",
    "                                 x='incentive_choice', y='proportion', # 'proportion' ist Standardname von value_counts\n",
    "                                 title='Gesamte Teilnahmebereitschaft (Q10)', \n",
    "                                 labels={'proportion':'Anteil der Nennungen (%)', 'incentive_choice': 'Teilnahme-Typ (Q10)'},\n",
    "                                 text_auto=True)\n",
    "        fig_q10_overall.update_traces(texttemplate='%{y:.1f}%', textposition='outside')\n",
    "        fig_q10_overall.show()\n",
    "    else:\n",
    "        print(\"WARNUNG: Spalte 'incentive_choice' nicht in master_df_f1 gefunden.\")\n",
    "\n",
    "    # --- 3.3.2 Teilnahmebereitschaft (Q10) pro Gerät ---\n",
    "    if 'device' in master_df_f1.columns and 'incentive_choice' in master_df_f1.columns:\n",
    "        print(\"\\n--- 3.3.2 Teilnahmebereitschaft (Q10 `incentive_choice`) pro Gerät ---\")\n",
    "        q10_by_device = master_df_f1.groupby('device')['incentive_choice'].value_counts(normalize=True, dropna=False).mul(100).round(1)\n",
    "        q10_by_device_table = q10_by_device.unstack(level='incentive_choice', fill_value=0)\n",
    "        \n",
    "        # Umbenennen von NaN-Spalte für bessere Darstellung, falls vorhanden\n",
    "        if np.nan in q10_by_device_table.columns:\n",
    "            q10_by_device_table.rename(columns={np.nan: 'Keine Angabe Q10'}, inplace=True)\n",
    "\n",
    "        print(\"Prozentuale Verteilung der Teilnahmebereitschaft (Q10) pro Gerät (%):\")\n",
    "        # display(q10_by_device_table)\n",
    "        print(q10_by_device_table)\n",
    "\n",
    "        q10_by_device_long_df = q10_by_device.rename('percentage').reset_index()\n",
    "        # Umbenennen von NaN für bessere Darstellung im Plot\n",
    "        q10_by_device_long_df['incentive_choice'] = q10_by_device_long_df['incentive_choice'].fillna('Keine Angabe Q10')\n",
    "        \n",
    "        fig_q10_device = px.bar(q10_by_device_long_df, x='device', y='percentage', color='incentive_choice',\n",
    "                               barmode='group', title='Teilnahmebereitschaft (Q10) pro Gerät',\n",
    "                               labels={'percentage':'Anteil der Nennungen (%)', 'device':'Haushaltsgerät', 'incentive_choice':'Teilnahme-Typ (Q10)'},\n",
    "                               text_auto=True)\n",
    "        fig_q10_device.update_traces(texttemplate='%{y:.1f}%', textposition='outside', cliponaxis=False)\n",
    "        fig_q10_device.update_xaxes(categoryorder='array', categoryarray=sorted(master_df_f1['device'].dropna().unique()))\n",
    "        fig_q10_device.show()\n",
    "    else:\n",
    "        print(\"WARNUNG: Spalten 'device' oder 'incentive_choice' nicht in master_df_f1 für Analyse pro Gerät gefunden.\")\n",
    "\n",
    "    # --- 3.3.3 Teilnahmebereitschaft (Q10) in Abhängigkeit der akzeptierten Nichtnutzungsdauer (Q9) ---\n",
    "    if 'max_duration_hours_num' in master_df_f1.columns and 'incentive_choice' in master_df_f1.columns:\n",
    "        print(\"\\n--- 3.3.3 Teilnahmebereitschaft (Q10 `incentive_choice`) nach max. Nichtnutzungsdauer (Q9 `max_duration_hours_num`) ---\")\n",
    "        q10_by_duration_q9 = master_df_f1.groupby('max_duration_hours_num')['incentive_choice'].value_counts(normalize=True, dropna=False).mul(100).round(1)\n",
    "        q10_by_duration_q9_table = q10_by_duration_q9.unstack(level='incentive_choice', fill_value=0)\n",
    "\n",
    "        # Umbenennen von NaN-Spalte für bessere Darstellung, falls vorhanden\n",
    "        if np.nan in q10_by_duration_q9_table.columns:\n",
    "            q10_by_duration_q9_table.rename(columns={np.nan: 'Keine Angabe Q10'}, inplace=True)\n",
    "        \n",
    "        # Sicherstellen, dass die Zeilen (Dauer-Kategorien) in gewünschter Reihenfolge sind\n",
    "        duration_categories_q9_order_rows = [0.0, 1.5, 4.5, 9.0, 18.0, 30.0, np.nan]\n",
    "        # Filtere Zeilen, die tatsächlich im DataFrame sind, um KeyErrors zu vermeiden\n",
    "        existing_rows_in_order = [row for row in duration_categories_q9_order_rows if row in q10_by_duration_q9_table.index]\n",
    "        if np.nan in duration_categories_q9_order_rows and np.nan not in existing_rows_in_order and q10_by_duration_q9_table.index.hasnans: # Falls NaN im Index aber nicht explizit da ist\n",
    "            existing_rows_in_order.append(np.nan)\n",
    "\n",
    "        q10_by_duration_q9_table = q10_by_duration_q9_table.reindex(existing_rows_in_order)\n",
    "\n",
    "\n",
    "        print(\"Prozentuale Verteilung der Teilnahmebereitschaft (Q10) nach max. Nichtnutzungsdauer (Q9) (%):\")\n",
    "        # display(q10_by_duration_q9_table)\n",
    "        print(q10_by_duration_q9_table)\n",
    "\n",
    "        q10_by_duration_q9_long_df = q10_by_duration_q9.rename('percentage').reset_index()\n",
    "        # Umbenennen von NaN für bessere Darstellung im Plot (sowohl für Dauer als auch für incentive_choice)\n",
    "        q10_by_duration_q9_long_df['max_duration_hours_cat'] = q10_by_duration_q9_long_df['max_duration_hours_num'].fillna('Keine Angabe Q9')\n",
    "        q10_by_duration_q9_long_df['incentive_choice'] = q10_by_duration_q9_long_df['incentive_choice'].fillna('Keine Angabe Q10')\n",
    "        \n",
    "        # Definiere die Reihenfolge für die x-Achse des Plots (Dauer)\n",
    "        plot_duration_category_order_q9 = [str(cat) for cat in [0.0, 1.5, 4.5, 9.0, 18.0, 30.0]] + ['Keine Angabe Q9']\n",
    "        q10_by_duration_q9_long_df['max_duration_hours_cat'] = pd.Categorical(\n",
    "            q10_by_duration_q9_long_df['max_duration_hours_cat'].astype(str),\n",
    "            categories=plot_duration_category_order_q9,\n",
    "            ordered=True\n",
    "        )\n",
    "        \n",
    "        fig_q10_duration_q9 = px.bar(q10_by_duration_q9_long_df.sort_values('max_duration_hours_cat'), # Sortiere nach Dauer für den Plot\n",
    "                                     x='max_duration_hours_cat', y='percentage', color='incentive_choice',\n",
    "                                     barmode='group', title='Teilnahmebereitschaft (Q10) nach max. Nichtnutzungsdauer (Q9)',\n",
    "                                     labels={'percentage':'Anteil der Nennungen (%)', \n",
    "                                             'max_duration_hours_cat':'Max. Nichtnutzungsdauer (Stunden, aus Q9)', \n",
    "                                             'incentive_choice':'Teilnahme-Typ (Q10)'},\n",
    "                                     text_auto=True)\n",
    "        fig_q10_duration_q9.update_traces(texttemplate='%{y:.1f}%', textposition='outside', cliponaxis=False)\n",
    "        fig_q10_duration_q9.show()\n",
    "    else:\n",
    "        print(\"WARNUNG: Spalten 'max_duration_hours_num' oder 'incentive_choice' nicht in master_df_f1 für Analyse nach Dauer gefunden.\")\n",
    "\n",
    "else:\n",
    "    print(\"FEHLER: master_df_f1 ist nicht verfügbar oder leer. Analyse der Teilnahmebedingungen (Q10) kann nicht durchgeführt werden.\")\n",
    "\n",
    "print(\"\\n--- Abschnitt 3.3: Bedingungen für die Teilnahme (Q10 `incentive_choice`) Abgeschlossen ---\")"
   ]
  },
  {
   "cell_type": "code",
   "execution_count": 51,
   "metadata": {},
   "outputs": [
    {
     "name": "stdout",
     "output_type": "stream",
     "text": [
      "Beginne deskriptive Analyse der explizit genannten Kompensationsforderungen pro Gerät (basierend auf master_df_f1)\n",
      "Anzahl der Nennungen mit 'yes_conditional': 233\n",
      "Anzahl davon mit valider Kompensationsforderung (für diese deskriptive Analyse): 187 (80.3%)\n",
      "\n",
      "--- Deskriptive Statistik der explizit genannten Kompensationsforderung pro Gerät ---\n",
      "Deskriptive Statistik der Kompensationsforderung pro Gerät (explizit genannt):\n",
      "                                     count   mean    std  min   25%   50%  \\\n",
      "device                                                                      \n",
      "Backofen und Herd                     33.0  21.85  23.94  2.0  10.0  10.0   \n",
      "Bürogeräte                            28.0  21.86  20.34  1.0  10.0  15.0   \n",
      "Fernseher und Entertainment-Systeme   41.0  23.49  22.27  2.0  10.0  15.0   \n",
      "Geschirrspüler                        45.0  20.16  18.60  2.0  10.0  10.0   \n",
      "Waschmaschine                         40.0  26.32  22.86  4.0  10.0  20.0   \n",
      "\n",
      "                                      75%    max  \n",
      "device                                            \n",
      "Backofen und Herd                    25.0  100.0  \n",
      "Bürogeräte                           30.0  100.0  \n",
      "Fernseher und Entertainment-Systeme  30.0  100.0  \n",
      "Geschirrspüler                       25.0  100.0  \n",
      "Waschmaschine                        40.0  100.0  \n"
     ]
    },
    {
     "data": {
      "application/vnd.plotly.v1+json": {
       "config": {
        "plotlyServerURL": "https://plot.ly"
       },
       "data": [
        {
         "hovertemplate": "Haushaltsgerät=%{x}<br>Median Kompensation (%)=%{text}<extra></extra>",
         "legendgroup": "",
         "marker": {
          "color": "#636efa",
          "pattern": {
           "shape": ""
          }
         },
         "name": "",
         "orientation": "v",
         "showlegend": false,
         "text": {
          "bdata": "AAAAAAAAJEAAAAAAAAAkQAAAAAAAAC5AAAAAAAAALkAAAAAAAAA0QA==",
          "dtype": "f8"
         },
         "textposition": "outside",
         "texttemplate": "%{text:.1f}%",
         "type": "bar",
         "x": [
          "Backofen und Herd",
          "Geschirrspüler",
          "Bürogeräte",
          "Fernseher und Entertainment-Systeme",
          "Waschmaschine"
         ],
         "xaxis": "x",
         "y": {
          "bdata": "AAAAAAAAJEAAAAAAAAAkQAAAAAAAAC5AAAAAAAAALkAAAAAAAAA0QA==",
          "dtype": "f8"
         },
         "yaxis": "y"
        }
       ],
       "layout": {
        "barmode": "relative",
        "legend": {
         "tracegroupgap": 0
        },
        "template": {
         "data": {
          "bar": [
           {
            "error_x": {
             "color": "#2a3f5f"
            },
            "error_y": {
             "color": "#2a3f5f"
            },
            "marker": {
             "line": {
              "color": "#E5ECF6",
              "width": 0.5
             },
             "pattern": {
              "fillmode": "overlay",
              "size": 10,
              "solidity": 0.2
             }
            },
            "type": "bar"
           }
          ],
          "barpolar": [
           {
            "marker": {
             "line": {
              "color": "#E5ECF6",
              "width": 0.5
             },
             "pattern": {
              "fillmode": "overlay",
              "size": 10,
              "solidity": 0.2
             }
            },
            "type": "barpolar"
           }
          ],
          "carpet": [
           {
            "aaxis": {
             "endlinecolor": "#2a3f5f",
             "gridcolor": "white",
             "linecolor": "white",
             "minorgridcolor": "white",
             "startlinecolor": "#2a3f5f"
            },
            "baxis": {
             "endlinecolor": "#2a3f5f",
             "gridcolor": "white",
             "linecolor": "white",
             "minorgridcolor": "white",
             "startlinecolor": "#2a3f5f"
            },
            "type": "carpet"
           }
          ],
          "choropleth": [
           {
            "colorbar": {
             "outlinewidth": 0,
             "ticks": ""
            },
            "type": "choropleth"
           }
          ],
          "contour": [
           {
            "colorbar": {
             "outlinewidth": 0,
             "ticks": ""
            },
            "colorscale": [
             [
              0,
              "#0d0887"
             ],
             [
              0.1111111111111111,
              "#46039f"
             ],
             [
              0.2222222222222222,
              "#7201a8"
             ],
             [
              0.3333333333333333,
              "#9c179e"
             ],
             [
              0.4444444444444444,
              "#bd3786"
             ],
             [
              0.5555555555555556,
              "#d8576b"
             ],
             [
              0.6666666666666666,
              "#ed7953"
             ],
             [
              0.7777777777777778,
              "#fb9f3a"
             ],
             [
              0.8888888888888888,
              "#fdca26"
             ],
             [
              1,
              "#f0f921"
             ]
            ],
            "type": "contour"
           }
          ],
          "contourcarpet": [
           {
            "colorbar": {
             "outlinewidth": 0,
             "ticks": ""
            },
            "type": "contourcarpet"
           }
          ],
          "heatmap": [
           {
            "colorbar": {
             "outlinewidth": 0,
             "ticks": ""
            },
            "colorscale": [
             [
              0,
              "#0d0887"
             ],
             [
              0.1111111111111111,
              "#46039f"
             ],
             [
              0.2222222222222222,
              "#7201a8"
             ],
             [
              0.3333333333333333,
              "#9c179e"
             ],
             [
              0.4444444444444444,
              "#bd3786"
             ],
             [
              0.5555555555555556,
              "#d8576b"
             ],
             [
              0.6666666666666666,
              "#ed7953"
             ],
             [
              0.7777777777777778,
              "#fb9f3a"
             ],
             [
              0.8888888888888888,
              "#fdca26"
             ],
             [
              1,
              "#f0f921"
             ]
            ],
            "type": "heatmap"
           }
          ],
          "histogram": [
           {
            "marker": {
             "pattern": {
              "fillmode": "overlay",
              "size": 10,
              "solidity": 0.2
             }
            },
            "type": "histogram"
           }
          ],
          "histogram2d": [
           {
            "colorbar": {
             "outlinewidth": 0,
             "ticks": ""
            },
            "colorscale": [
             [
              0,
              "#0d0887"
             ],
             [
              0.1111111111111111,
              "#46039f"
             ],
             [
              0.2222222222222222,
              "#7201a8"
             ],
             [
              0.3333333333333333,
              "#9c179e"
             ],
             [
              0.4444444444444444,
              "#bd3786"
             ],
             [
              0.5555555555555556,
              "#d8576b"
             ],
             [
              0.6666666666666666,
              "#ed7953"
             ],
             [
              0.7777777777777778,
              "#fb9f3a"
             ],
             [
              0.8888888888888888,
              "#fdca26"
             ],
             [
              1,
              "#f0f921"
             ]
            ],
            "type": "histogram2d"
           }
          ],
          "histogram2dcontour": [
           {
            "colorbar": {
             "outlinewidth": 0,
             "ticks": ""
            },
            "colorscale": [
             [
              0,
              "#0d0887"
             ],
             [
              0.1111111111111111,
              "#46039f"
             ],
             [
              0.2222222222222222,
              "#7201a8"
             ],
             [
              0.3333333333333333,
              "#9c179e"
             ],
             [
              0.4444444444444444,
              "#bd3786"
             ],
             [
              0.5555555555555556,
              "#d8576b"
             ],
             [
              0.6666666666666666,
              "#ed7953"
             ],
             [
              0.7777777777777778,
              "#fb9f3a"
             ],
             [
              0.8888888888888888,
              "#fdca26"
             ],
             [
              1,
              "#f0f921"
             ]
            ],
            "type": "histogram2dcontour"
           }
          ],
          "mesh3d": [
           {
            "colorbar": {
             "outlinewidth": 0,
             "ticks": ""
            },
            "type": "mesh3d"
           }
          ],
          "parcoords": [
           {
            "line": {
             "colorbar": {
              "outlinewidth": 0,
              "ticks": ""
             }
            },
            "type": "parcoords"
           }
          ],
          "pie": [
           {
            "automargin": true,
            "type": "pie"
           }
          ],
          "scatter": [
           {
            "fillpattern": {
             "fillmode": "overlay",
             "size": 10,
             "solidity": 0.2
            },
            "type": "scatter"
           }
          ],
          "scatter3d": [
           {
            "line": {
             "colorbar": {
              "outlinewidth": 0,
              "ticks": ""
             }
            },
            "marker": {
             "colorbar": {
              "outlinewidth": 0,
              "ticks": ""
             }
            },
            "type": "scatter3d"
           }
          ],
          "scattercarpet": [
           {
            "marker": {
             "colorbar": {
              "outlinewidth": 0,
              "ticks": ""
             }
            },
            "type": "scattercarpet"
           }
          ],
          "scattergeo": [
           {
            "marker": {
             "colorbar": {
              "outlinewidth": 0,
              "ticks": ""
             }
            },
            "type": "scattergeo"
           }
          ],
          "scattergl": [
           {
            "marker": {
             "colorbar": {
              "outlinewidth": 0,
              "ticks": ""
             }
            },
            "type": "scattergl"
           }
          ],
          "scattermap": [
           {
            "marker": {
             "colorbar": {
              "outlinewidth": 0,
              "ticks": ""
             }
            },
            "type": "scattermap"
           }
          ],
          "scattermapbox": [
           {
            "marker": {
             "colorbar": {
              "outlinewidth": 0,
              "ticks": ""
             }
            },
            "type": "scattermapbox"
           }
          ],
          "scatterpolar": [
           {
            "marker": {
             "colorbar": {
              "outlinewidth": 0,
              "ticks": ""
             }
            },
            "type": "scatterpolar"
           }
          ],
          "scatterpolargl": [
           {
            "marker": {
             "colorbar": {
              "outlinewidth": 0,
              "ticks": ""
             }
            },
            "type": "scatterpolargl"
           }
          ],
          "scatterternary": [
           {
            "marker": {
             "colorbar": {
              "outlinewidth": 0,
              "ticks": ""
             }
            },
            "type": "scatterternary"
           }
          ],
          "surface": [
           {
            "colorbar": {
             "outlinewidth": 0,
             "ticks": ""
            },
            "colorscale": [
             [
              0,
              "#0d0887"
             ],
             [
              0.1111111111111111,
              "#46039f"
             ],
             [
              0.2222222222222222,
              "#7201a8"
             ],
             [
              0.3333333333333333,
              "#9c179e"
             ],
             [
              0.4444444444444444,
              "#bd3786"
             ],
             [
              0.5555555555555556,
              "#d8576b"
             ],
             [
              0.6666666666666666,
              "#ed7953"
             ],
             [
              0.7777777777777778,
              "#fb9f3a"
             ],
             [
              0.8888888888888888,
              "#fdca26"
             ],
             [
              1,
              "#f0f921"
             ]
            ],
            "type": "surface"
           }
          ],
          "table": [
           {
            "cells": {
             "fill": {
              "color": "#EBF0F8"
             },
             "line": {
              "color": "white"
             }
            },
            "header": {
             "fill": {
              "color": "#C8D4E3"
             },
             "line": {
              "color": "white"
             }
            },
            "type": "table"
           }
          ]
         },
         "layout": {
          "annotationdefaults": {
           "arrowcolor": "#2a3f5f",
           "arrowhead": 0,
           "arrowwidth": 1
          },
          "autotypenumbers": "strict",
          "coloraxis": {
           "colorbar": {
            "outlinewidth": 0,
            "ticks": ""
           }
          },
          "colorscale": {
           "diverging": [
            [
             0,
             "#8e0152"
            ],
            [
             0.1,
             "#c51b7d"
            ],
            [
             0.2,
             "#de77ae"
            ],
            [
             0.3,
             "#f1b6da"
            ],
            [
             0.4,
             "#fde0ef"
            ],
            [
             0.5,
             "#f7f7f7"
            ],
            [
             0.6,
             "#e6f5d0"
            ],
            [
             0.7,
             "#b8e186"
            ],
            [
             0.8,
             "#7fbc41"
            ],
            [
             0.9,
             "#4d9221"
            ],
            [
             1,
             "#276419"
            ]
           ],
           "sequential": [
            [
             0,
             "#0d0887"
            ],
            [
             0.1111111111111111,
             "#46039f"
            ],
            [
             0.2222222222222222,
             "#7201a8"
            ],
            [
             0.3333333333333333,
             "#9c179e"
            ],
            [
             0.4444444444444444,
             "#bd3786"
            ],
            [
             0.5555555555555556,
             "#d8576b"
            ],
            [
             0.6666666666666666,
             "#ed7953"
            ],
            [
             0.7777777777777778,
             "#fb9f3a"
            ],
            [
             0.8888888888888888,
             "#fdca26"
            ],
            [
             1,
             "#f0f921"
            ]
           ],
           "sequentialminus": [
            [
             0,
             "#0d0887"
            ],
            [
             0.1111111111111111,
             "#46039f"
            ],
            [
             0.2222222222222222,
             "#7201a8"
            ],
            [
             0.3333333333333333,
             "#9c179e"
            ],
            [
             0.4444444444444444,
             "#bd3786"
            ],
            [
             0.5555555555555556,
             "#d8576b"
            ],
            [
             0.6666666666666666,
             "#ed7953"
            ],
            [
             0.7777777777777778,
             "#fb9f3a"
            ],
            [
             0.8888888888888888,
             "#fdca26"
            ],
            [
             1,
             "#f0f921"
            ]
           ]
          },
          "colorway": [
           "#636efa",
           "#EF553B",
           "#00cc96",
           "#ab63fa",
           "#FFA15A",
           "#19d3f3",
           "#FF6692",
           "#B6E880",
           "#FF97FF",
           "#FECB52"
          ],
          "font": {
           "color": "#2a3f5f"
          },
          "geo": {
           "bgcolor": "white",
           "lakecolor": "white",
           "landcolor": "#E5ECF6",
           "showlakes": true,
           "showland": true,
           "subunitcolor": "white"
          },
          "hoverlabel": {
           "align": "left"
          },
          "hovermode": "closest",
          "mapbox": {
           "style": "light"
          },
          "paper_bgcolor": "white",
          "plot_bgcolor": "#E5ECF6",
          "polar": {
           "angularaxis": {
            "gridcolor": "white",
            "linecolor": "white",
            "ticks": ""
           },
           "bgcolor": "#E5ECF6",
           "radialaxis": {
            "gridcolor": "white",
            "linecolor": "white",
            "ticks": ""
           }
          },
          "scene": {
           "xaxis": {
            "backgroundcolor": "#E5ECF6",
            "gridcolor": "white",
            "gridwidth": 2,
            "linecolor": "white",
            "showbackground": true,
            "ticks": "",
            "zerolinecolor": "white"
           },
           "yaxis": {
            "backgroundcolor": "#E5ECF6",
            "gridcolor": "white",
            "gridwidth": 2,
            "linecolor": "white",
            "showbackground": true,
            "ticks": "",
            "zerolinecolor": "white"
           },
           "zaxis": {
            "backgroundcolor": "#E5ECF6",
            "gridcolor": "white",
            "gridwidth": 2,
            "linecolor": "white",
            "showbackground": true,
            "ticks": "",
            "zerolinecolor": "white"
           }
          },
          "shapedefaults": {
           "line": {
            "color": "#2a3f5f"
           }
          },
          "ternary": {
           "aaxis": {
            "gridcolor": "white",
            "linecolor": "white",
            "ticks": ""
           },
           "baxis": {
            "gridcolor": "white",
            "linecolor": "white",
            "ticks": ""
           },
           "bgcolor": "#E5ECF6",
           "caxis": {
            "gridcolor": "white",
            "linecolor": "white",
            "ticks": ""
           }
          },
          "title": {
           "x": 0.05
          },
          "xaxis": {
           "automargin": true,
           "gridcolor": "white",
           "linecolor": "white",
           "ticks": "",
           "title": {
            "standoff": 15
           },
           "zerolinecolor": "white",
           "zerolinewidth": 2
          },
          "yaxis": {
           "automargin": true,
           "gridcolor": "white",
           "linecolor": "white",
           "ticks": "",
           "title": {
            "standoff": 15
           },
           "zerolinecolor": "white",
           "zerolinewidth": 2
          }
         }
        },
        "title": {
         "text": "Median der explizit genannten Kompensationsforderung pro Gerät"
        },
        "xaxis": {
         "anchor": "y",
         "categoryarray": [
          "Backofen und Herd",
          "Geschirrspüler",
          "Bürogeräte",
          "Fernseher und Entertainment-Systeme",
          "Waschmaschine"
         ],
         "categoryorder": "array",
         "domain": [
          0,
          1
         ],
         "title": {
          "text": "Haushaltsgerät"
         }
        },
        "yaxis": {
         "anchor": "x",
         "domain": [
          0,
          1
         ],
         "range": [
          0,
          23
         ],
         "title": {
          "text": "Median Kompensation (%)"
         }
        }
       }
      }
     },
     "metadata": {},
     "output_type": "display_data"
    },
    {
     "name": "stdout",
     "output_type": "stream",
     "text": [
      "\n",
      "--- Abschnitt 4.1: Deskriptive Analyse der explizit genannten Kompensationsforderungen pro Gerät Abgeschlossen ---\n"
     ]
    }
   ],
   "source": [
    "# Abschnitt 4: Monetäre Kompensationsforderungen und modelliertes Flexibilitätspotenzial\n",
    "## 4.1 Deskriptive Analyse der explizit genannten Kompensationsforderungen pro Gerät\n",
    "# Stelle sicher, dass master_df_f1 aus Abschnitt 0 existiert und nicht leer ist.\n",
    "if 'master_df_f1' in locals() and not master_df_f1.empty:\n",
    "    print(f\"Beginne deskriptive Analyse der explizit genannten Kompensationsforderungen pro Gerät (basierend auf master_df_f1)\")\n",
    "\n",
    "    if 'incentive_choice' in master_df_f1.columns and 'incentive_pct_required_num' in master_df_f1.columns:\n",
    "        # Erstelle DataFrame nur mit Teilnehmern, die Kompensation fordern und einen Wert angegeben haben\n",
    "        df_compens_demand_stated = master_df_f1[master_df_f1['incentive_choice'] == 'yes_conditional'].copy()\n",
    "        \n",
    "        original_yes_conditional_count = len(df_compens_demand_stated)\n",
    "        df_compens_demand_stated.dropna(subset=['incentive_pct_required_num'], inplace=True)\n",
    "        valid_compens_demand_count = len(df_compens_demand_stated)\n",
    "        \n",
    "        print(f\"Anzahl der Nennungen mit 'yes_conditional': {original_yes_conditional_count}\")\n",
    "        if original_yes_conditional_count > 0:\n",
    "            print(f\"Anzahl davon mit valider Kompensationsforderung (für diese deskriptive Analyse): {valid_compens_demand_count} ({(valid_compens_demand_count/original_yes_conditional_count*100):.1f}%)\")\n",
    "        else:\n",
    "            print(\"Keine Nennungen mit 'yes_conditional' gefunden.\")\n",
    "\n",
    "        if not df_compens_demand_stated.empty:\n",
    "            print(\"\\n--- Deskriptive Statistik der explizit genannten Kompensationsforderung pro Gerät ---\")\n",
    "            # Berechnung der deskriptiven Statistiken pro Gerät\n",
    "            # Die Spalte '50%' entspricht dem Median.\n",
    "            stated_compens_stats_per_device = df_compens_demand_stated.groupby('device')['incentive_pct_required_num'].describe().round(2)\n",
    "            \n",
    "            print(\"Deskriptive Statistik der Kompensationsforderung pro Gerät (explizit genannt):\")\n",
    "            # display(stated_compens_stats_per_device)\n",
    "            print(stated_compens_stats_per_device)\n",
    "            \n",
    "            # Optional: Einfacher Bar-Plot der Mediane (Spalte '50%') oder Mittelwerte ('mean')\n",
    "            # Wir verwenden hier den Median, da er robuster gegenüber Ausreissern ist.\n",
    "            # Sortierung für den Plot nach Median\n",
    "            plot_data_median_compens = stated_compens_stats_per_device[['50%']].sort_values(by='50%', ascending=True).reset_index()\n",
    "\n",
    "            fig_median_compens_device = px.bar(plot_data_median_compens, \n",
    "                                               x='device', y='50%',\n",
    "                                               title='Median der explizit genannten Kompensationsforderung pro Gerät',\n",
    "                                               labels={'device': 'Haushaltsgerät', '50%': 'Median Kompensation (%)'},\n",
    "                                               text='50%')\n",
    "            fig_median_compens_device.update_traces(texttemplate='%{text:.1f}%', textposition='outside')\n",
    "            fig_median_compens_device.update_yaxes(range=[0, plot_data_median_compens['50%'].max() * 1.15]) # Y-Achsenbereich anpassen\n",
    "            fig_median_compens_device.update_xaxes(categoryorder='array', categoryarray=plot_data_median_compens['device']) # Reihenfolge beibehalten\n",
    "            fig_median_compens_device.show()\n",
    "\n",
    "        else:\n",
    "            print(\"Keine Daten für 'yes_conditional' Teilnehmer mit validen expliziten Kompensationsforderungen gefunden.\")\n",
    "    else:\n",
    "        print(\"WARNUNG: Spalten 'incentive_choice' oder 'incentive_pct_required_num' nicht in master_df_f1 gefunden.\")\n",
    "else:\n",
    "    print(\"FEHLER: master_df_f1 ist nicht verfügbar oder leer. Analyse kann nicht durchgeführt werden.\")\n",
    "\n",
    "print(\"\\n--- Abschnitt 4.1: Deskriptive Analyse der explizit genannten Kompensationsforderungen pro Gerät Abgeschlossen ---\")"
   ]
  },
  {
   "cell_type": "code",
   "execution_count": null,
   "metadata": {},
   "outputs": [
    {
     "name": "stdout",
     "output_type": "stream",
     "text": [
      "master_df_f1 und calculate_participation_metrics sind verfügbar.\n",
      "Funktion 'plot_3d_participation_surface' definiert.\n",
      "Beginne mit der Erstellung und Analyse der 3D-Plots für Flexibilitätspotenzial.\n",
      "\n",
      "Erstelle Plot und extrahiere Daten für Geschirrspüler...\n",
      "\n",
      "--- Erstelle 3D-Plot für: Geschirrspüler ---\n",
      "Verwendete Event-Dauern für Plot von Geschirrspüler (max 30.0h): [np.float64(1.5), np.float64(4.5), np.float64(9.0), np.float64(18.0), np.float64(30.0)] Stunden\n",
      "Daten für Geschirrspüler generiert. Min Rate: 15.5%, Max Rate: 62.6%\n"
     ]
    },
    {
     "ename": "ValueError",
     "evalue": "Invalid property specified for object of type plotly.graph_objs.layout.scene.Camera: 'x'\n\nDid you mean \"up\"?\n\n    Valid properties:\n        center\n            Sets the (x,y,z) components of the 'center' camera\n            vector This vector determines the translation (x,y,z)\n            space about the center of this scene. By default, there\n            is no such translation.\n        eye\n            Sets the (x,y,z) components of the 'eye' camera vector.\n            This vector determines the view point about the origin\n            of this scene.\n        projection\n            :class:`plotly.graph_objects.layout.scene.camera.Projec\n            tion` instance or dict with compatible properties\n        up\n            Sets the (x,y,z) components of the 'up' camera vector.\n            This vector determines the up direction of this scene\n            with respect to the page. The default is *{x: 0, y: 0,\n            z: 1}* which means that the z axis points up.\n        \nDid you mean \"up\"?\n\nBad property path:\nx\n^",
     "output_type": "error",
     "traceback": [
      "\u001b[0;31m---------------------------------------------------------------------------\u001b[0m",
      "\u001b[0;31mValueError\u001b[0m                                Traceback (most recent call last)",
      "Cell \u001b[0;32mIn[53], line 130\u001b[0m\n\u001b[1;32m    128\u001b[0m target_device_gs \u001b[38;5;241m=\u001b[39m \u001b[38;5;124m\"\u001b[39m\u001b[38;5;124mGeschirrspüler\u001b[39m\u001b[38;5;124m\"\u001b[39m\n\u001b[1;32m    129\u001b[0m \u001b[38;5;28mprint\u001b[39m(\u001b[38;5;124mf\u001b[39m\u001b[38;5;124m\"\u001b[39m\u001b[38;5;130;01m\\n\u001b[39;00m\u001b[38;5;124mErstelle Plot und extrahiere Daten für \u001b[39m\u001b[38;5;132;01m{\u001b[39;00mtarget_device_gs\u001b[38;5;132;01m}\u001b[39;00m\u001b[38;5;124m...\u001b[39m\u001b[38;5;124m\"\u001b[39m)\n\u001b[0;32m--> 130\u001b[0m fig_3d_gs \u001b[38;5;241m=\u001b[39m \u001b[43mplot_3d_participation_surface\u001b[49m\u001b[43m(\u001b[49m\u001b[43mmaster_df_f1\u001b[49m\u001b[43m,\u001b[49m\u001b[43m \u001b[49m\u001b[43mtarget_device_gs\u001b[49m\u001b[43m)\u001b[49m \u001b[38;5;66;03m# Übergebe master_df_f1\u001b[39;00m\n\u001b[1;32m    131\u001b[0m \u001b[38;5;28;01mif\u001b[39;00m fig_3d_gs:\n\u001b[1;32m    132\u001b[0m     fig_3d_gs\u001b[38;5;241m.\u001b[39mshow()\n",
      "Cell \u001b[0;32mIn[53], line 94\u001b[0m, in \u001b[0;36mplot_3d_participation_surface\u001b[0;34m(df_input_data, target_appliance_name, max_duration_plot_axis_param, incentives_plot_range_param)\u001b[0m\n\u001b[1;32m     86\u001b[0m \u001b[38;5;28;01mif\u001b[39;00m Z_participation\u001b[38;5;241m.\u001b[39msize \u001b[38;5;241m>\u001b[39m \u001b[38;5;241m0\u001b[39m \u001b[38;5;129;01mand\u001b[39;00m \u001b[38;5;129;01mnot\u001b[39;00m np\u001b[38;5;241m.\u001b[39mall(np\u001b[38;5;241m.\u001b[39misnan(Z_participation)):\n\u001b[1;32m     87\u001b[0m     fig \u001b[38;5;241m=\u001b[39m go\u001b[38;5;241m.\u001b[39mFigure(data\u001b[38;5;241m=\u001b[39m[go\u001b[38;5;241m.\u001b[39mSurface(\n\u001b[1;32m     88\u001b[0m         z\u001b[38;5;241m=\u001b[39mZ_participation, x\u001b[38;5;241m=\u001b[39mX_incentives, y\u001b[38;5;241m=\u001b[39mY_durations, \n\u001b[1;32m     89\u001b[0m         colorscale\u001b[38;5;241m=\u001b[39m\u001b[38;5;124m'\u001b[39m\u001b[38;5;124mViridis\u001b[39m\u001b[38;5;124m'\u001b[39m, colorbar_title\u001b[38;5;241m=\u001b[39m\u001b[38;5;124m'\u001b[39m\u001b[38;5;124mTeilnahme (\u001b[39m\u001b[38;5;124m%\u001b[39m\u001b[38;5;124m)\u001b[39m\u001b[38;5;124m'\u001b[39m, \n\u001b[0;32m   (...)\u001b[0m\n\u001b[1;32m     92\u001b[0m         cmin\u001b[38;5;241m=\u001b[39mCOLOR_CMIN_3D, cmax\u001b[38;5;241m=\u001b[39mCOLOR_CMAX_3D \n\u001b[1;32m     93\u001b[0m     )])\n\u001b[0;32m---> 94\u001b[0m     \u001b[43mfig\u001b[49m\u001b[38;5;241;43m.\u001b[39;49m\u001b[43mupdate_layout\u001b[49m\u001b[43m(\u001b[49m\n\u001b[1;32m     95\u001b[0m \u001b[43m    \u001b[49m\u001b[43mtitle\u001b[49m\u001b[38;5;241;43m=\u001b[39;49m\u001b[38;5;124;43mf\u001b[39;49m\u001b[38;5;124;43m'\u001b[39;49m\u001b[38;5;124;43mFlexibilitätspotenzial: \u001b[39;49m\u001b[38;5;132;43;01m{\u001b[39;49;00m\u001b[43mtarget_appliance_name\u001b[49m\u001b[38;5;132;43;01m}\u001b[39;49;00m\u001b[38;5;124;43m<br>Modellierte Teilnahmequote (Umfrage-basiert, %)\u001b[39;49m\u001b[38;5;124;43m'\u001b[39;49m\u001b[43m,\u001b[49m\n\u001b[1;32m     96\u001b[0m \u001b[43m    \u001b[49m\u001b[43mscene\u001b[49m\u001b[38;5;241;43m=\u001b[39;49m\u001b[38;5;28;43mdict\u001b[39;49m\u001b[43m(\u001b[49m\n\u001b[1;32m     97\u001b[0m \u001b[43m        \u001b[49m\u001b[38;5;66;43;03m# ... andere scene Parameter ...\u001b[39;49;00m\n\u001b[1;32m     98\u001b[0m \u001b[43m        \u001b[49m\u001b[43mxaxis\u001b[49m\u001b[38;5;241;43m=\u001b[39;49m\u001b[38;5;28;43mdict\u001b[39;49m\u001b[43m(\u001b[49m\u001b[43mtitle\u001b[49m\u001b[38;5;241;43m=\u001b[39;49m\u001b[38;5;124;43m'\u001b[39;49m\u001b[38;5;124;43mAnreiz (Kompensation in \u001b[39;49m\u001b[38;5;124;43m%\u001b[39;49m\u001b[38;5;124;43m)\u001b[39;49m\u001b[38;5;124;43m'\u001b[39;49m\u001b[43m,\u001b[49m\u001b[43m \u001b[49m\u001b[38;5;28;43mrange\u001b[39;49m\u001b[38;5;241;43m=\u001b[39;49m\u001b[43m[\u001b[49m\u001b[38;5;241;43m0\u001b[39;49m\u001b[43m,\u001b[49m\u001b[43m \u001b[49m\u001b[43mMAX_INCENTIVE_PCT_ON_PLOT_NB\u001b[49m\u001b[43m]\u001b[49m\u001b[43m)\u001b[49m\u001b[43m,\u001b[49m\u001b[43m \u001b[49m\u001b[38;5;66;43;03m# X-Achsen-Limits explizit setzen\u001b[39;49;00m\n\u001b[1;32m     99\u001b[0m \u001b[43m        \u001b[49m\u001b[43myaxis\u001b[49m\u001b[38;5;241;43m=\u001b[39;49m\u001b[38;5;28;43mdict\u001b[39;49m\u001b[43m(\u001b[49m\u001b[43mtitle\u001b[49m\u001b[38;5;241;43m=\u001b[39;49m\u001b[38;5;124;43m'\u001b[39;49m\u001b[38;5;124;43mEvent-Dauer (Stunden, aus Q9)\u001b[39;49m\u001b[38;5;124;43m'\u001b[39;49m\u001b[43m,\u001b[49m\u001b[43m \u001b[49m\u001b[38;5;28;43mrange\u001b[39;49m\u001b[38;5;241;43m=\u001b[39;49m\u001b[43m[\u001b[49m\u001b[38;5;241;43m0\u001b[39;49m\u001b[43m,\u001b[49m\u001b[43m \u001b[49m\u001b[43mMAX_EVENT_DURATION_ON_PLOT_NB\u001b[49m\u001b[43m]\u001b[49m\u001b[43m)\u001b[49m\u001b[43m,\u001b[49m\u001b[43m \u001b[49m\u001b[38;5;66;43;03m# Y-Achsen-Limits explizit setzen\u001b[39;49;00m\n\u001b[1;32m    100\u001b[0m \u001b[43m        \u001b[49m\u001b[43mzaxis\u001b[49m\u001b[38;5;241;43m=\u001b[39;49m\u001b[38;5;28;43mdict\u001b[39;49m\u001b[43m(\u001b[49m\u001b[43mtitle\u001b[49m\u001b[38;5;241;43m=\u001b[39;49m\u001b[38;5;124;43m'\u001b[39;49m\u001b[38;5;124;43mTeilnahmequote (\u001b[39;49m\u001b[38;5;124;43m%\u001b[39;49m\u001b[38;5;124;43m)\u001b[39;49m\u001b[38;5;124;43m'\u001b[39;49m\u001b[43m,\u001b[49m\u001b[43m \u001b[49m\u001b[38;5;28;43mrange\u001b[39;49m\u001b[38;5;241;43m=\u001b[39;49m\u001b[43m[\u001b[49m\u001b[43mCOLOR_CMIN_3D\u001b[49m\u001b[43m,\u001b[49m\u001b[43m \u001b[49m\u001b[43mCOLOR_CMAX_3D\u001b[49m\u001b[43m]\u001b[49m\u001b[43m)\u001b[49m\u001b[43m,\u001b[49m\n\u001b[1;32m    101\u001b[0m \u001b[43m        \u001b[49m\u001b[43mcamera\u001b[49m\u001b[38;5;241;43m=\u001b[39;49m\u001b[43mCAMERA_EYE_SETTINGS\u001b[49m\u001b[43m,\u001b[49m\n\u001b[1;32m    102\u001b[0m \u001b[43m        \u001b[49m\u001b[43maspectratio\u001b[49m\u001b[38;5;241;43m=\u001b[39;49m\u001b[38;5;28;43mdict\u001b[39;49m\u001b[43m(\u001b[49m\u001b[43mx\u001b[49m\u001b[38;5;241;43m=\u001b[39;49m\u001b[38;5;241;43m1\u001b[39;49m\u001b[43m,\u001b[49m\u001b[43m \u001b[49m\u001b[43my\u001b[49m\u001b[38;5;241;43m=\u001b[39;49m\u001b[38;5;241;43m1\u001b[39;49m\u001b[43m,\u001b[49m\u001b[43m \u001b[49m\u001b[43mz\u001b[49m\u001b[38;5;241;43m=\u001b[39;49m\u001b[38;5;241;43m0.7\u001b[39;49m\u001b[43m)\u001b[49m\u001b[43m \u001b[49m\u001b[38;5;66;43;03m# Behalte dies bei oder teste x=1,y=1,z=1\u001b[39;49;00m\n\u001b[1;32m    103\u001b[0m \u001b[43m    \u001b[49m\u001b[43m)\u001b[49m\u001b[43m,\u001b[49m\n\u001b[1;32m    104\u001b[0m \u001b[43m    \u001b[49m\u001b[43mmargin\u001b[49m\u001b[38;5;241;43m=\u001b[39;49m\u001b[38;5;28;43mdict\u001b[39;49m\u001b[43m(\u001b[49m\u001b[43ml\u001b[49m\u001b[38;5;241;43m=\u001b[39;49m\u001b[38;5;241;43m10\u001b[39;49m\u001b[43m,\u001b[49m\u001b[43m \u001b[49m\u001b[43mr\u001b[49m\u001b[38;5;241;43m=\u001b[39;49m\u001b[38;5;241;43m10\u001b[39;49m\u001b[43m,\u001b[49m\u001b[43m \u001b[49m\u001b[43mb\u001b[49m\u001b[38;5;241;43m=\u001b[39;49m\u001b[38;5;241;43m10\u001b[39;49m\u001b[43m,\u001b[49m\u001b[43m \u001b[49m\u001b[43mt\u001b[49m\u001b[38;5;241;43m=\u001b[39;49m\u001b[38;5;241;43m80\u001b[39;49m\u001b[43m)\u001b[49m\n\u001b[1;32m    105\u001b[0m \u001b[43m\u001b[49m\u001b[43m)\u001b[49m\n\u001b[1;32m    106\u001b[0m     \u001b[38;5;28;01mreturn\u001b[39;00m fig\n\u001b[1;32m    107\u001b[0m \u001b[38;5;28;01melse\u001b[39;00m:\n",
      "File \u001b[0;32m~/Documents/GitHub/PowerE/.venv/lib/python3.10/site-packages/plotly/graph_objs/_figure.py:787\u001b[0m, in \u001b[0;36mFigure.update_layout\u001b[0;34m(self, dict1, overwrite, **kwargs)\u001b[0m\n\u001b[1;32m    761\u001b[0m \u001b[38;5;28;01mdef\u001b[39;00m\u001b[38;5;250m \u001b[39m\u001b[38;5;21mupdate_layout\u001b[39m(\u001b[38;5;28mself\u001b[39m, dict1\u001b[38;5;241m=\u001b[39m\u001b[38;5;28;01mNone\u001b[39;00m, overwrite\u001b[38;5;241m=\u001b[39m\u001b[38;5;28;01mFalse\u001b[39;00m, \u001b[38;5;241m*\u001b[39m\u001b[38;5;241m*\u001b[39mkwargs) \u001b[38;5;241m-\u001b[39m\u001b[38;5;241m>\u001b[39m \u001b[38;5;124m\"\u001b[39m\u001b[38;5;124mFigure\u001b[39m\u001b[38;5;124m\"\u001b[39m:\n\u001b[1;32m    762\u001b[0m \u001b[38;5;250m    \u001b[39m\u001b[38;5;124;03m\"\"\"\u001b[39;00m\n\u001b[1;32m    763\u001b[0m \n\u001b[1;32m    764\u001b[0m \u001b[38;5;124;03m    Update the properties of the figure's layout with a dict and/or with\u001b[39;00m\n\u001b[0;32m   (...)\u001b[0m\n\u001b[1;32m    785\u001b[0m \n\u001b[1;32m    786\u001b[0m \u001b[38;5;124;03m    \"\"\"\u001b[39;00m\n\u001b[0;32m--> 787\u001b[0m     \u001b[38;5;28;01mreturn\u001b[39;00m \u001b[38;5;28;43msuper\u001b[39;49m\u001b[43m(\u001b[49m\u001b[43mFigure\u001b[49m\u001b[43m,\u001b[49m\u001b[43m \u001b[49m\u001b[38;5;28;43mself\u001b[39;49m\u001b[43m)\u001b[49m\u001b[38;5;241;43m.\u001b[39;49m\u001b[43mupdate_layout\u001b[49m\u001b[43m(\u001b[49m\u001b[43mdict1\u001b[49m\u001b[43m,\u001b[49m\u001b[43m \u001b[49m\u001b[43moverwrite\u001b[49m\u001b[43m,\u001b[49m\u001b[43m \u001b[49m\u001b[38;5;241;43m*\u001b[39;49m\u001b[38;5;241;43m*\u001b[39;49m\u001b[43mkwargs\u001b[49m\u001b[43m)\u001b[49m\n",
      "File \u001b[0;32m~/Documents/GitHub/PowerE/.venv/lib/python3.10/site-packages/plotly/basedatatypes.py:1392\u001b[0m, in \u001b[0;36mBaseFigure.update_layout\u001b[0;34m(self, dict1, overwrite, **kwargs)\u001b[0m\n\u001b[1;32m   1368\u001b[0m \u001b[38;5;28;01mdef\u001b[39;00m\u001b[38;5;250m \u001b[39m\u001b[38;5;21mupdate_layout\u001b[39m(\u001b[38;5;28mself\u001b[39m, dict1\u001b[38;5;241m=\u001b[39m\u001b[38;5;28;01mNone\u001b[39;00m, overwrite\u001b[38;5;241m=\u001b[39m\u001b[38;5;28;01mFalse\u001b[39;00m, \u001b[38;5;241m*\u001b[39m\u001b[38;5;241m*\u001b[39mkwargs):\n\u001b[1;32m   1369\u001b[0m \u001b[38;5;250m    \u001b[39m\u001b[38;5;124;03m\"\"\"\u001b[39;00m\n\u001b[1;32m   1370\u001b[0m \u001b[38;5;124;03m    Update the properties of the figure's layout with a dict and/or with\u001b[39;00m\n\u001b[1;32m   1371\u001b[0m \u001b[38;5;124;03m    keyword arguments.\u001b[39;00m\n\u001b[0;32m   (...)\u001b[0m\n\u001b[1;32m   1390\u001b[0m \u001b[38;5;124;03m        The Figure object that the update_layout method was called on\u001b[39;00m\n\u001b[1;32m   1391\u001b[0m \u001b[38;5;124;03m    \"\"\"\u001b[39;00m\n\u001b[0;32m-> 1392\u001b[0m     \u001b[38;5;28;43mself\u001b[39;49m\u001b[38;5;241;43m.\u001b[39;49m\u001b[43mlayout\u001b[49m\u001b[38;5;241;43m.\u001b[39;49m\u001b[43mupdate\u001b[49m\u001b[43m(\u001b[49m\u001b[43mdict1\u001b[49m\u001b[43m,\u001b[49m\u001b[43m \u001b[49m\u001b[43moverwrite\u001b[49m\u001b[38;5;241;43m=\u001b[39;49m\u001b[43moverwrite\u001b[49m\u001b[43m,\u001b[49m\u001b[43m \u001b[49m\u001b[38;5;241;43m*\u001b[39;49m\u001b[38;5;241;43m*\u001b[39;49m\u001b[43mkwargs\u001b[49m\u001b[43m)\u001b[49m\n\u001b[1;32m   1393\u001b[0m     \u001b[38;5;28;01mreturn\u001b[39;00m \u001b[38;5;28mself\u001b[39m\n",
      "File \u001b[0;32m~/Documents/GitHub/PowerE/.venv/lib/python3.10/site-packages/plotly/basedatatypes.py:5123\u001b[0m, in \u001b[0;36mBasePlotlyType.update\u001b[0;34m(self, dict1, overwrite, **kwargs)\u001b[0m\n\u001b[1;32m   5121\u001b[0m     \u001b[38;5;28;01mwith\u001b[39;00m \u001b[38;5;28mself\u001b[39m\u001b[38;5;241m.\u001b[39mfigure\u001b[38;5;241m.\u001b[39mbatch_update():\n\u001b[1;32m   5122\u001b[0m         BaseFigure\u001b[38;5;241m.\u001b[39m_perform_update(\u001b[38;5;28mself\u001b[39m, dict1, overwrite\u001b[38;5;241m=\u001b[39moverwrite)\n\u001b[0;32m-> 5123\u001b[0m         \u001b[43mBaseFigure\u001b[49m\u001b[38;5;241;43m.\u001b[39;49m\u001b[43m_perform_update\u001b[49m\u001b[43m(\u001b[49m\u001b[38;5;28;43mself\u001b[39;49m\u001b[43m,\u001b[49m\u001b[43m \u001b[49m\u001b[43mkwargs\u001b[49m\u001b[43m,\u001b[49m\u001b[43m \u001b[49m\u001b[43moverwrite\u001b[49m\u001b[38;5;241;43m=\u001b[39;49m\u001b[43moverwrite\u001b[49m\u001b[43m)\u001b[49m\n\u001b[1;32m   5124\u001b[0m \u001b[38;5;28;01melse\u001b[39;00m:\n\u001b[1;32m   5125\u001b[0m     BaseFigure\u001b[38;5;241m.\u001b[39m_perform_update(\u001b[38;5;28mself\u001b[39m, dict1, overwrite\u001b[38;5;241m=\u001b[39moverwrite)\n",
      "File \u001b[0;32m~/Documents/GitHub/PowerE/.venv/lib/python3.10/site-packages/plotly/basedatatypes.py:3905\u001b[0m, in \u001b[0;36mBaseFigure._perform_update\u001b[0;34m(plotly_obj, update_obj, overwrite)\u001b[0m\n\u001b[1;32m   3899\u001b[0m validator \u001b[38;5;241m=\u001b[39m plotly_obj\u001b[38;5;241m.\u001b[39m_get_prop_validator(key)\n\u001b[1;32m   3901\u001b[0m \u001b[38;5;28;01mif\u001b[39;00m \u001b[38;5;28misinstance\u001b[39m(validator, CompoundValidator) \u001b[38;5;129;01mand\u001b[39;00m \u001b[38;5;28misinstance\u001b[39m(val, \u001b[38;5;28mdict\u001b[39m):\n\u001b[1;32m   3902\u001b[0m \n\u001b[1;32m   3903\u001b[0m     \u001b[38;5;66;03m# Update compound objects recursively\u001b[39;00m\n\u001b[1;32m   3904\u001b[0m     \u001b[38;5;66;03m# plotly_obj[key].update(val)\u001b[39;00m\n\u001b[0;32m-> 3905\u001b[0m     \u001b[43mBaseFigure\u001b[49m\u001b[38;5;241;43m.\u001b[39;49m\u001b[43m_perform_update\u001b[49m\u001b[43m(\u001b[49m\u001b[43mplotly_obj\u001b[49m\u001b[43m[\u001b[49m\u001b[43mkey\u001b[49m\u001b[43m]\u001b[49m\u001b[43m,\u001b[49m\u001b[43m \u001b[49m\u001b[43mval\u001b[49m\u001b[43m)\u001b[49m\n\u001b[1;32m   3906\u001b[0m \u001b[38;5;28;01melif\u001b[39;00m \u001b[38;5;28misinstance\u001b[39m(validator, CompoundArrayValidator):\n\u001b[1;32m   3907\u001b[0m     \u001b[38;5;28;01mif\u001b[39;00m plotly_obj[key]:\n\u001b[1;32m   3908\u001b[0m         \u001b[38;5;66;03m# plotly_obj has an existing non-empty array for key\u001b[39;00m\n\u001b[1;32m   3909\u001b[0m         \u001b[38;5;66;03m# In this case we merge val into the existing elements\u001b[39;00m\n",
      "File \u001b[0;32m~/Documents/GitHub/PowerE/.venv/lib/python3.10/site-packages/plotly/basedatatypes.py:3905\u001b[0m, in \u001b[0;36mBaseFigure._perform_update\u001b[0;34m(plotly_obj, update_obj, overwrite)\u001b[0m\n\u001b[1;32m   3899\u001b[0m validator \u001b[38;5;241m=\u001b[39m plotly_obj\u001b[38;5;241m.\u001b[39m_get_prop_validator(key)\n\u001b[1;32m   3901\u001b[0m \u001b[38;5;28;01mif\u001b[39;00m \u001b[38;5;28misinstance\u001b[39m(validator, CompoundValidator) \u001b[38;5;129;01mand\u001b[39;00m \u001b[38;5;28misinstance\u001b[39m(val, \u001b[38;5;28mdict\u001b[39m):\n\u001b[1;32m   3902\u001b[0m \n\u001b[1;32m   3903\u001b[0m     \u001b[38;5;66;03m# Update compound objects recursively\u001b[39;00m\n\u001b[1;32m   3904\u001b[0m     \u001b[38;5;66;03m# plotly_obj[key].update(val)\u001b[39;00m\n\u001b[0;32m-> 3905\u001b[0m     \u001b[43mBaseFigure\u001b[49m\u001b[38;5;241;43m.\u001b[39;49m\u001b[43m_perform_update\u001b[49m\u001b[43m(\u001b[49m\u001b[43mplotly_obj\u001b[49m\u001b[43m[\u001b[49m\u001b[43mkey\u001b[49m\u001b[43m]\u001b[49m\u001b[43m,\u001b[49m\u001b[43m \u001b[49m\u001b[43mval\u001b[49m\u001b[43m)\u001b[49m\n\u001b[1;32m   3906\u001b[0m \u001b[38;5;28;01melif\u001b[39;00m \u001b[38;5;28misinstance\u001b[39m(validator, CompoundArrayValidator):\n\u001b[1;32m   3907\u001b[0m     \u001b[38;5;28;01mif\u001b[39;00m plotly_obj[key]:\n\u001b[1;32m   3908\u001b[0m         \u001b[38;5;66;03m# plotly_obj has an existing non-empty array for key\u001b[39;00m\n\u001b[1;32m   3909\u001b[0m         \u001b[38;5;66;03m# In this case we merge val into the existing elements\u001b[39;00m\n",
      "File \u001b[0;32m~/Documents/GitHub/PowerE/.venv/lib/python3.10/site-packages/plotly/basedatatypes.py:3882\u001b[0m, in \u001b[0;36mBaseFigure._perform_update\u001b[0;34m(plotly_obj, update_obj, overwrite)\u001b[0m\n\u001b[1;32m   3880\u001b[0m     err \u001b[38;5;241m=\u001b[39m _check_path_in_prop_tree(plotly_obj, key, error_cast\u001b[38;5;241m=\u001b[39m\u001b[38;5;167;01mValueError\u001b[39;00m)\n\u001b[1;32m   3881\u001b[0m     \u001b[38;5;28;01mif\u001b[39;00m err \u001b[38;5;129;01mis\u001b[39;00m \u001b[38;5;129;01mnot\u001b[39;00m \u001b[38;5;28;01mNone\u001b[39;00m:\n\u001b[0;32m-> 3882\u001b[0m         \u001b[38;5;28;01mraise\u001b[39;00m err\n\u001b[1;32m   3884\u001b[0m \u001b[38;5;66;03m# Convert update_obj to dict\u001b[39;00m\n\u001b[1;32m   3885\u001b[0m \u001b[38;5;66;03m# --------------------------\u001b[39;00m\n\u001b[1;32m   3886\u001b[0m \u001b[38;5;28;01mif\u001b[39;00m \u001b[38;5;28misinstance\u001b[39m(update_obj, BasePlotlyType):\n",
      "\u001b[0;31mValueError\u001b[0m: Invalid property specified for object of type plotly.graph_objs.layout.scene.Camera: 'x'\n\nDid you mean \"up\"?\n\n    Valid properties:\n        center\n            Sets the (x,y,z) components of the 'center' camera\n            vector This vector determines the translation (x,y,z)\n            space about the center of this scene. By default, there\n            is no such translation.\n        eye\n            Sets the (x,y,z) components of the 'eye' camera vector.\n            This vector determines the view point about the origin\n            of this scene.\n        projection\n            :class:`plotly.graph_objects.layout.scene.camera.Projec\n            tion` instance or dict with compatible properties\n        up\n            Sets the (x,y,z) components of the 'up' camera vector.\n            This vector determines the up direction of this scene\n            with respect to the page. The default is *{x: 0, y: 0,\n            z: 1}* which means that the z axis points up.\n        \nDid you mean \"up\"?\n\nBad property path:\nx\n^"
     ]
    }
   ],
   "source": [
    "## 4.2 Modellbasiertes Flexibilitätspotenzial in Abhängigkeit von Anreiz und Dauer\n",
    "\n",
    "# Stelle sicher, dass master_df_f1 und calculate_participation_metrics verfügbar sind\n",
    "if 'master_df_f1' in locals() and not master_df_f1.empty and 'calculate_participation_metrics' in globals():\n",
    "    print(\"master_df_f1 und calculate_participation_metrics sind verfügbar.\")\n",
    "\n",
    "    # --- Globale Parameter für die 3D-Plots ---\n",
    "    MAX_EVENT_DURATION_ON_PLOT_NB = 30.0  # Maximale Dauer auf der Y-Achse (bis 30h)\n",
    "    INCENTIVE_STEPS_NB = 11             # 0, 5, ..., 50% -> 11 Schritte\n",
    "    MAX_INCENTIVE_PCT_ON_PLOT_NB = 50.0\n",
    "    \n",
    "    # Erzeuge den Anreizbereich einmal global für diese Zelle\n",
    "    incentives_plot_range_nb = np.linspace(0, MAX_INCENTIVE_PCT_ON_PLOT_NB, INCENTIVE_STEPS_NB)\n",
    "\n",
    "    # Deine präferierte Kameraperspektive und einheitliche Farbskala-Grenzen\n",
    "    CAMERA_EYE_SETTINGS = dict(x=-1.8, y=1.8, z=1.5) # Deine 180-Grad Drehung Präferenz\n",
    "    COLOR_CMIN_3D = 0\n",
    "    COLOR_CMAX_3D = 65 # Dein gewählter Maximalwert für die Farbskala\n",
    "\n",
    "    # Definiere die Funktion zum Erstellen der 3D-Plots direkt hier im Notebook\n",
    "    def plot_3d_participation_surface(\n",
    "        df_input_data, \n",
    "        target_appliance_name, \n",
    "        max_duration_plot_axis_param=MAX_EVENT_DURATION_ON_PLOT_NB, # Nutze globalen Parameter\n",
    "        incentives_plot_range_param=incentives_plot_range_nb     # Nutze globalen Parameter\n",
    "    ):\n",
    "        print(f\"\\n--- Erstelle 3D-Plot für: {target_appliance_name} ---\")\n",
    "        \n",
    "        # Spaltennamen an die Erwartungen von calculate_participation_metrics anpassen\n",
    "        # Wir arbeiten auf einer Kopie, um den ursprünglichen df_input_data nicht zu verändern\n",
    "        df_plot_data = df_input_data.copy()\n",
    "        cols_to_rename_plot_func = {}\n",
    "        if 'max_duration_hours_num' in df_plot_data.columns and 'survey_max_duration_h' not in df_plot_data.columns:\n",
    "            cols_to_rename_plot_func['max_duration_hours_num'] = 'survey_max_duration_h'\n",
    "        if 'incentive_choice' in df_plot_data.columns and 'survey_incentive_choice' not in df_plot_data.columns:\n",
    "            cols_to_rename_plot_func['incentive_choice'] = 'survey_incentive_choice'\n",
    "        if 'incentive_pct_required_num' in df_plot_data.columns and 'survey_incentive_pct_required' not in df_plot_data.columns:\n",
    "            cols_to_rename_plot_func['incentive_pct_required_num'] = 'survey_incentive_pct_required'\n",
    "        \n",
    "        if cols_to_rename_plot_func:\n",
    "            # print(f\"INFO (plot_3d_participation_surface): Benenne Spalten für {target_appliance_name} um: {cols_to_rename_plot_func}\")\n",
    "            df_plot_data.rename(columns=cols_to_rename_plot_func, inplace=True)\n",
    "        \n",
    "        # Überprüfe, ob die für calculate_participation_metrics erwarteten Spalten jetzt da sind\n",
    "        expected_cols_for_calc_plot = ['survey_max_duration_h', 'survey_incentive_choice', 'survey_incentive_pct_required', 'device', 'respondent_id']\n",
    "        missing_cols_plot = [col for col in expected_cols_for_calc_plot if col not in df_plot_data.columns]\n",
    "        if missing_cols_plot:\n",
    "            print(f\"FEHLER (plot_3d_participation_surface): Folgende Spalten fehlen in df_plot_data für {target_appliance_name}: {missing_cols_plot}\")\n",
    "            print(f\"Vorhandene Spalten in df_plot_data: {df_plot_data.columns.tolist()}\")\n",
    "            return None # Abbruch, wenn Spalten fehlen\n",
    "\n",
    "        # Dauerstufen für die Y-Achse bestimmen\n",
    "        appliance_specific_durations = df_plot_data[df_plot_data['device'] == target_appliance_name]['survey_max_duration_h'].dropna().unique()\n",
    "        durations_plot_range_output = sorted([d for d in appliance_specific_durations if 0 < d <= max_duration_plot_axis_param])\n",
    "        \n",
    "        if not durations_plot_range_output: \n",
    "            all_positive_dev_durations = sorted([d for d in appliance_specific_durations if d > 0])\n",
    "            if not all_positive_dev_durations: \n",
    "                print(f\"WARNUNG: Keine positiven Dauern für {target_appliance_name} gefunden. Verwende Standard-Fallback [1.5].\")\n",
    "                durations_plot_range_output = np.array([1.5])\n",
    "            else: \n",
    "                temp_range_dev = [d for d in all_positive_dev_durations if d <= max_duration_plot_axis_param]\n",
    "                if not temp_range_dev: durations_plot_range_output = np.array([min(all_positive_dev_durations)])\n",
    "                else: durations_plot_range_output = np.array(sorted(list(set(temp_range_dev))))\n",
    "                \n",
    "        if np.array(durations_plot_range_output).size == 0: \n",
    "            print(f\"FEHLER: durations_plot_range_output für {target_appliance_name} ist leer. Plot kann nicht erstellt werden.\")\n",
    "            return None\n",
    "        print(f\"Verwendete Event-Dauern für Plot von {target_appliance_name} (max {max_duration_plot_axis_param}h): {durations_plot_range_output} Stunden\")\n",
    "\n",
    "        X_incentives, Y_durations = np.meshgrid(incentives_plot_range_param, durations_plot_range_output)\n",
    "        Z_participation = np.zeros(X_incentives.shape)\n",
    "\n",
    "        for i, duration_val in enumerate(durations_plot_range_output):\n",
    "            for j, incentive_val in enumerate(incentives_plot_range_param):\n",
    "                metrics = calculate_participation_metrics(\n",
    "                    df_survey_flex_input=df_plot_data, # df_plot_data mit den korrekten Spaltennamen verwenden\n",
    "                    target_appliance=target_appliance_name,\n",
    "                    event_duration_h=float(duration_val),\n",
    "                    offered_incentive_pct=float(incentive_val)\n",
    "                )\n",
    "                Z_participation[i, j] = metrics['raw_participation_rate'] * 100\n",
    "        \n",
    "        print(f\"Daten für {target_appliance_name} generiert. Min Rate: {Z_participation.min():.1f}%, Max Rate: {Z_participation.max():.1f}%\")\n",
    "\n",
    "        if Z_participation.size > 0 and not np.all(np.isnan(Z_participation)):\n",
    "            fig = go.Figure(data=[go.Surface(\n",
    "                z=Z_participation, x=X_incentives, y=Y_durations, \n",
    "                colorscale='Viridis', colorbar_title='Teilnahme (%)', \n",
    "                name=target_appliance_name,\n",
    "                contours={\"z\": {\"show\": True, \"highlightcolor\":\"limegreen\", \"project\":{\"z\": True}}},\n",
    "                cmin=COLOR_CMIN_3D, cmax=COLOR_CMAX_3D \n",
    "            )])\n",
    "            fig.update_layout(\n",
    "            title=f'Flexibilitätspotenzial: {target_appliance_name}<br>Modellierte Teilnahmequote (Umfrage-basiert, %)',\n",
    "            scene=dict(\n",
    "                # ... andere scene Parameter ...\n",
    "                xaxis=dict(title='Anreiz (Kompensation in %)', range=[0, MAX_INCENTIVE_PCT_ON_PLOT_NB]), # X-Achsen-Limits explizit setzen\n",
    "                yaxis=dict(title='Event-Dauer (Stunden, aus Q9)', range=[0, MAX_EVENT_DURATION_ON_PLOT_NB]), # Y-Achsen-Limits explizit setzen\n",
    "                zaxis=dict(title='Teilnahmequote (%)', range=[COLOR_CMIN_3D, COLOR_CMAX_3D]),\n",
    "                camera=CAMERA_EYE_SETTINGS,\n",
    "                aspectratio=dict(x=1, y=1, z=0.7) # Behalte dies bei oder teste x=1,y=1,z=1\n",
    "            ),\n",
    "            margin=dict(l=10, r=10, b=10, t=80)\n",
    "        )\n",
    "            return fig\n",
    "        else:\n",
    "            print(f\"Keine validen Daten für den Plot der Teilnahmequote für {target_appliance_name} vorhanden.\")\n",
    "            return None\n",
    "\n",
    "    print(\"Funktion 'plot_3d_participation_surface' definiert.\")\n",
    "\n",
    "else:\n",
    "    print(\"FEHLER: master_df_f1 oder calculate_participation_metrics nicht verfügbar. Bitte Abschnitt 0 ausführen.\")\n",
    "\n",
    "\n",
    "\n",
    "\n",
    "# Stelle sicher, dass master_df_f1 und calculate_participation_metrics verfügbar sind\n",
    "if 'master_df_f1' in locals() and not master_df_f1.empty and 'calculate_participation_metrics' in globals():\n",
    "    print(\"master_df_f1 und calculate_participation_metrics sind verfügbar für Abschnitt 4.2.\")\n",
    "\n",
    "    # --- Globale Parameter für die Analyse ---\n",
    "    MAX_EVENT_DURATION_ON_PLOT_NB = 30.0 \n",
    "    INCENTIVE_STEPS_NB = 11             \n",
    "    MAX_INCENTIVE_PCT_ON_PLOT_NB = 50.0\n",
    "    incentives_plot_range_nb = np.linspace(0, MAX_INCENTIVE_PCT_ON_PLOT_NB, INCENTIVE_STEPS_NB)\n",
    "\n",
    "    # --- Hilfsfunktion, um die X, Y, Z Datenmatrizen zu bekommen ---\n",
    "    # (Diese Funktion ist im Wesentlichen der Datengenerierungsteil \n",
    "    #  aus der vorherigen plot_3d_participation_surface Funktion)\n",
    "    def get_participation_surface_data(\n",
    "        df_input_data, \n",
    "        target_appliance_name, \n",
    "        max_duration_plot_axis_param=MAX_EVENT_DURATION_ON_PLOT_NB,\n",
    "        incentives_plot_range_param=incentives_plot_range_nb\n",
    "    ):\n",
    "        df_analysis_data = df_input_data.copy()\n",
    "        cols_to_rename_analysis = {}\n",
    "        if 'max_duration_hours_num' in df_analysis_data.columns: cols_to_rename_analysis['max_duration_hours_num'] = 'survey_max_duration_h'\n",
    "        if 'incentive_choice' in df_analysis_data.columns: cols_to_rename_analysis['incentive_choice'] = 'survey_incentive_choice'\n",
    "        if 'incentive_pct_required_num' in df_analysis_data.columns: cols_to_rename_analysis['incentive_pct_required_num'] = 'survey_incentive_pct_required'\n",
    "        if cols_to_rename_analysis:\n",
    "            df_analysis_data.rename(columns=cols_to_rename_analysis, inplace=True)\n",
    "        \n",
    "        expected_cols_for_calc_plot = ['survey_max_duration_h', 'survey_incentive_choice', 'survey_incentive_pct_required', 'device', 'respondent_id']\n",
    "        missing_cols_plot = [col for col in expected_cols_for_calc_plot if col not in df_analysis_data.columns]\n",
    "        if missing_cols_plot:\n",
    "            print(f\"FEHLER (get_participation_surface_data): Folgende Spalten fehlen in df_analysis_data für {target_appliance_name}: {missing_cols_plot}\")\n",
    "            return None, None, None, None\n",
    "\n",
    "        appliance_specific_durations = df_analysis_data[df_analysis_data['device'] == target_appliance_name]['survey_max_duration_h'].dropna().unique()\n",
    "        durations_plot_range_output = sorted([d for d in appliance_specific_durations if 0 < d <= max_duration_plot_axis_param])\n",
    "        \n",
    "        if not durations_plot_range_output: \n",
    "            all_positive_dev_durations = sorted([d for d in appliance_specific_durations if d > 0])\n",
    "            if not all_positive_dev_durations: durations_plot_range_output = np.array([1.5]) # Fallback\n",
    "            else: \n",
    "                temp_range_dev = [d for d in all_positive_dev_durations if d <= max_duration_plot_axis_param]\n",
    "                if not temp_range_dev: durations_plot_range_output = np.array([min(all_positive_dev_durations)])\n",
    "                else: durations_plot_range_output = np.array(sorted(list(set(temp_range_dev))))\n",
    "                \n",
    "        if np.array(durations_plot_range_output).size == 0: \n",
    "            print(f\"FEHLER: durations_plot_range_output für {target_appliance_name} ist leer.\")\n",
    "            return None, None, None, None\n",
    "        \n",
    "        print(f\"Verwendete Event-Dauern für Datenextraktion von {target_appliance_name} (max {max_duration_plot_axis_param}h): {durations_plot_range_output} Stunden\")\n",
    "\n",
    "        X_incentives, Y_durations = np.meshgrid(incentives_plot_range_param, durations_plot_range_output)\n",
    "        Z_participation = np.zeros(X_incentives.shape)\n",
    "\n",
    "        for i, duration_val in enumerate(durations_plot_range_output):\n",
    "            for j, incentive_val in enumerate(incentives_plot_range_param):\n",
    "                metrics = calculate_participation_metrics(\n",
    "                    df_survey_flex_input=df_analysis_data, \n",
    "                    target_appliance=target_appliance_name,\n",
    "                    event_duration_h=float(duration_val),\n",
    "                    offered_incentive_pct=float(incentive_val)\n",
    "                )\n",
    "                Z_participation[i, j] = metrics['raw_participation_rate'] * 100\n",
    "        \n",
    "        print(f\"Daten für {target_appliance_name} (Min/Max Teilnahmequote): {Z_participation.min():.1f}% / {Z_participation.max():.1f}%\")\n",
    "        return X_incentives, Y_durations, Z_participation, durations_plot_range_output\n",
    "\n",
    "    print(\"Funktion 'get_surface_data_for_analysis' definiert und Parameter gesetzt.\")\n",
    "else:\n",
    "    print(\"FEHLER: master_df_f1 oder calculate_participation_metrics nicht verfügbar. Bitte Abschnitt 0 ausführen.\")"
   ]
  },
  {
   "cell_type": "code",
   "execution_count": null,
   "metadata": {},
   "outputs": [
    {
     "name": "stdout",
     "output_type": "stream",
     "text": [
      "Beginne Analyse des Einflusses soziodemografischer Faktoren auf Kompensationsforderungen (N valid compens. demands=187).\n",
      "\n",
      "--- Einfluss Einkommen (Q13) auf Kompensationsforderung ---\n"
     ]
    },
    {
     "data": {
      "application/vnd.plotly.v1+json": {
       "config": {
        "plotlyServerURL": "https://plot.ly"
       },
       "data": [
        {
         "alignmentgroup": "True",
         "hovertemplate": "Monatl. Haushaltsnettoeinkommen=%{x}<br>Geforderte Kompensation (%)=%{y}<extra></extra>",
         "legendgroup": "",
         "marker": {
          "color": "#636efa"
         },
         "name": "",
         "notched": false,
         "offsetgroup": "",
         "orientation": "v",
         "showlegend": false,
         "type": "box",
         "x": [
          "Über 10.000 CHF",
          "Über 10.000 CHF",
          "Über 10.000 CHF",
          "Über 10.000 CHF",
          "7.001 - 10.000 CHF",
          "3.000 - 5.000 CHF",
          "Unter 3.000 CHF",
          "Unter 3.000 CHF",
          "Unter 3.000 CHF",
          "Unter 3.000 CHF",
          "5.001 - 7.000 CHF",
          "5.001 - 7.000 CHF",
          "5.001 - 7.000 CHF",
          "3.000 - 5.000 CHF",
          "3.000 - 5.000 CHF",
          "Keine Angabe",
          "Keine Angabe",
          "Keine Angabe",
          "Unter 3.000 CHF",
          "Unter 3.000 CHF",
          "Unter 3.000 CHF",
          "5.001 - 7.000 CHF",
          "5.001 - 7.000 CHF",
          "5.001 - 7.000 CHF",
          "5.001 - 7.000 CHF",
          "Keine Angabe",
          "Keine Angabe",
          "Keine Angabe",
          "Keine Angabe",
          "Keine Angabe",
          "Über 10.000 CHF",
          "Über 10.000 CHF",
          "Keine Angabe",
          "Über 10.000 CHF",
          "Über 10.000 CHF",
          "Über 10.000 CHF",
          "Über 10.000 CHF",
          "3.000 - 5.000 CHF",
          "Über 10.000 CHF",
          "Über 10.000 CHF",
          "Über 10.000 CHF",
          "Über 10.000 CHF",
          "Über 10.000 CHF",
          "Unter 3.000 CHF",
          "Unter 3.000 CHF",
          "Unter 3.000 CHF",
          "Unter 3.000 CHF",
          "3.000 - 5.000 CHF",
          "7.001 - 10.000 CHF",
          "7.001 - 10.000 CHF",
          "7.001 - 10.000 CHF",
          "7.001 - 10.000 CHF",
          "7.001 - 10.000 CHF",
          "7.001 - 10.000 CHF",
          "7.001 - 10.000 CHF",
          "7.001 - 10.000 CHF",
          "7.001 - 10.000 CHF",
          "7.001 - 10.000 CHF",
          "7.001 - 10.000 CHF",
          "7.001 - 10.000 CHF",
          "Über 10.000 CHF",
          "Über 10.000 CHF",
          "7.001 - 10.000 CHF",
          "7.001 - 10.000 CHF",
          "7.001 - 10.000 CHF",
          "5.001 - 7.000 CHF",
          "Über 10.000 CHF",
          "Über 10.000 CHF",
          "Keine Angabe",
          "3.000 - 5.000 CHF",
          "3.000 - 5.000 CHF",
          "Über 10.000 CHF",
          "Über 10.000 CHF",
          "5.001 - 7.000 CHF",
          "5.001 - 7.000 CHF",
          "Keine Angabe",
          "Keine Angabe",
          "Keine Angabe",
          "Keine Angabe",
          "Keine Angabe",
          "Keine Angabe",
          "7.001 - 10.000 CHF",
          "Keine Angabe",
          "Keine Angabe",
          "Über 10.000 CHF",
          "Über 10.000 CHF",
          "Über 10.000 CHF",
          "Über 10.000 CHF",
          "Über 10.000 CHF",
          "Über 10.000 CHF",
          "Über 10.000 CHF",
          "Keine Angabe",
          "Keine Angabe",
          "Keine Angabe",
          "7.001 - 10.000 CHF",
          "7.001 - 10.000 CHF",
          "7.001 - 10.000 CHF",
          "7.001 - 10.000 CHF",
          "7.001 - 10.000 CHF",
          "Keine Angabe",
          "Keine Angabe",
          "Keine Angabe",
          "3.000 - 5.000 CHF",
          "3.000 - 5.000 CHF",
          "3.000 - 5.000 CHF",
          "3.000 - 5.000 CHF",
          "Über 10.000 CHF",
          "Über 10.000 CHF",
          "Über 10.000 CHF",
          "5.001 - 7.000 CHF",
          "5.001 - 7.000 CHF",
          "5.001 - 7.000 CHF",
          "5.001 - 7.000 CHF",
          "5.001 - 7.000 CHF",
          "5.001 - 7.000 CHF",
          "5.001 - 7.000 CHF",
          "5.001 - 7.000 CHF",
          "3.000 - 5.000 CHF",
          "3.000 - 5.000 CHF",
          "3.000 - 5.000 CHF",
          "3.000 - 5.000 CHF",
          "3.000 - 5.000 CHF",
          "7.001 - 10.000 CHF",
          "7.001 - 10.000 CHF",
          "7.001 - 10.000 CHF",
          "3.000 - 5.000 CHF",
          "3.000 - 5.000 CHF",
          "7.001 - 10.000 CHF",
          "7.001 - 10.000 CHF",
          "7.001 - 10.000 CHF",
          "5.001 - 7.000 CHF",
          "Über 10.000 CHF",
          "Über 10.000 CHF",
          "Über 10.000 CHF",
          "Über 10.000 CHF",
          "7.001 - 10.000 CHF",
          "Unter 3.000 CHF",
          "Keine Angabe",
          "Unter 3.000 CHF",
          "Unter 3.000 CHF",
          "Unter 3.000 CHF",
          "Unter 3.000 CHF",
          "Unter 3.000 CHF",
          "7.001 - 10.000 CHF",
          "7.001 - 10.000 CHF",
          "5.001 - 7.000 CHF",
          "5.001 - 7.000 CHF",
          "5.001 - 7.000 CHF",
          "7.001 - 10.000 CHF",
          "7.001 - 10.000 CHF",
          "7.001 - 10.000 CHF",
          "Über 10.000 CHF",
          "Über 10.000 CHF",
          "Über 10.000 CHF",
          "5.001 - 7.000 CHF",
          "5.001 - 7.000 CHF",
          "5.001 - 7.000 CHF",
          "3.000 - 5.000 CHF",
          "3.000 - 5.000 CHF",
          "7.001 - 10.000 CHF",
          "7.001 - 10.000 CHF",
          "5.001 - 7.000 CHF",
          "5.001 - 7.000 CHF",
          "Über 10.000 CHF",
          "3.000 - 5.000 CHF",
          "3.000 - 5.000 CHF",
          "3.000 - 5.000 CHF",
          "Über 10.000 CHF",
          "Über 10.000 CHF",
          "Über 10.000 CHF",
          "3.000 - 5.000 CHF",
          "3.000 - 5.000 CHF",
          "3.000 - 5.000 CHF",
          "5.001 - 7.000 CHF",
          "5.001 - 7.000 CHF",
          "7.001 - 10.000 CHF",
          "7.001 - 10.000 CHF",
          "Unter 3.000 CHF",
          "Unter 3.000 CHF",
          "Über 10.000 CHF",
          "Über 10.000 CHF",
          "7.001 - 10.000 CHF",
          "5.001 - 7.000 CHF",
          "5.001 - 7.000 CHF",
          "Über 10.000 CHF",
          "3.000 - 5.000 CHF",
          "3.000 - 5.000 CHF"
         ],
         "x0": " ",
         "xaxis": "x",
         "y": {
          "bdata": "AAAAAAAAPkAAAAAAAAA+QAAAAAAAAD5AAAAAAAAAPkAAAAAAAIBGQAAAAAAAACRAAAAAAAAAFEAAAAAAAAAkQAAAAAAAABRAAAAAAAAAOUAAAAAAAAAcQAAAAAAAACRAAAAAAAAAKkAAAAAAAAA0QAAAAAAAADRAAAAAAAAASUAAAAAAAAAkQAAAAAAAACRAAAAAAAAAPkAAAAAAAAAUQAAAAAAAACRAAAAAAAAAOUAAAAAAAAA5QAAAAAAAADlAAAAAAAAAOUAAAAAAAAA9QAAAAAAAgEVAAAAAAAAAJEAAAAAAAAAuQAAAAAAAAABAAAAAAAAAAEAAAAAAAAAAQAAAAAAAABRAAAAAAAAASUAAAAAAAABJQAAAAAAAADRAAAAAAAAANEAAAAAAAABJQAAAAAAAACRAAAAAAAAAJEAAAAAAAAAkQAAAAAAAACRAAAAAAAAAJEAAAAAAAADwPwAAAAAAABRAAAAAAAAAAEAAAAAAAAAQQAAAAAAAACRAAAAAAAAANEAAAAAAAAA0QAAAAAAAADRAAAAAAAAAJEAAAAAAAAAUQAAAAAAAACRAAAAAAAAAFEAAAAAAAAAUQAAAAAAAAERAAAAAAACARkAAAAAAAAAkQAAAAAAAACRAAAAAAAAAFEAAAAAAAAAkQAAAAAAAADRAAAAAAAAAJEAAAAAAAAAkQAAAAAAAACRAAAAAAAAAJEAAAAAAAAA0QAAAAAAAAD5AAAAAAAAAJEAAAAAAAAAkQAAAAAAAACRAAAAAAAAAJEAAAAAAAAAkQAAAAAAAAElAAAAAAAAAFEAAAAAAAAAkQAAAAAAAACRAAAAAAAAAKEAAAAAAAAA7QAAAAAAAACRAAAAAAAAANEAAAAAAAAAkQAAAAAAAACRAAAAAAAAASUAAAAAAAABJQAAAAAAAAElAAAAAAAAASUAAAAAAAAA0QAAAAAAAAC5AAAAAAAAANEAAAAAAAABEQAAAAAAAABRAAAAAAADAUkAAAAAAAABJQAAAAAAAAElAAAAAAAAASUAAAAAAAABJQAAAAAAAAElAAAAAAAAAOUAAAAAAAAA5QAAAAAAAADlAAAAAAAAAJEAAAAAAAAAkQAAAAAAAACRAAAAAAAAAJEAAAAAAAAA+QAAAAAAAAD5AAAAAAAAAPkAAAAAAAABZQAAAAAAAAFlAAAAAAAAAWUAAAAAAAABZQAAAAAAAAFlAAAAAAAAASUAAAAAAAAAkQAAAAAAAACRAAAAAAAAANEAAAAAAAAAuQAAAAAAAACRAAAAAAAAAPkAAAAAAAAAUQAAAAAAAACRAAAAAAAAAJEAAAAAAAAA0QAAAAAAAAFlAAAAAAAAAWUAAAAAAAAAUQAAAAAAAABRAAAAAAAAAFEAAAAAAAABEQAAAAAAAAERAAAAAAAAANEAAAAAAAAA0QAAAAAAAACRAAAAAAAAANEAAAAAAAABNQAAAAAAAAC5AAAAAAAAANEAAAAAAAAA0QAAAAAAAADRAAAAAAAAANEAAAAAAAAA0QAAAAAAAADRAAAAAAAAAJEAAAAAAAABJQAAAAAAAAD5AAAAAAAAAPkAAAAAAAAA5QAAAAAAAACRAAAAAAAAANEAAAAAAAABJQAAAAAAAADRAAAAAAAAAJEAAAAAAAAAIQAAAAAAAAABAAAAAAAAAFEAAAAAAAAA0QAAAAAAAAERAAAAAAAAASUAAAAAAAABJQAAAAAAAAERAAAAAAAAANEAAAAAAAAAkQAAAAAAAABhAAAAAAAAAAEAAAAAAAAAQQAAAAAAAACJAAAAAAAAAJEAAAAAAAAAkQAAAAAAAAC5AAAAAAAAACEAAAAAAAABJQAAAAAAAACRAAAAAAAAAJEAAAAAAAAAkQAAAAAAAACRAAAAAAAAAJEAAAAAAAAAkQAAAAAAAAABAAAAAAAAAAEAAAAAAAAA+QAAAAAAAACRAAAAAAAAANEAAAAAAAAA0QAAAAAAAACBAAAAAAAAAIEA=",
          "dtype": "f8"
         },
         "y0": " ",
         "yaxis": "y"
        }
       ],
       "layout": {
        "boxmode": "group",
        "legend": {
         "tracegroupgap": 0
        },
        "template": {
         "data": {
          "bar": [
           {
            "error_x": {
             "color": "#2a3f5f"
            },
            "error_y": {
             "color": "#2a3f5f"
            },
            "marker": {
             "line": {
              "color": "#E5ECF6",
              "width": 0.5
             },
             "pattern": {
              "fillmode": "overlay",
              "size": 10,
              "solidity": 0.2
             }
            },
            "type": "bar"
           }
          ],
          "barpolar": [
           {
            "marker": {
             "line": {
              "color": "#E5ECF6",
              "width": 0.5
             },
             "pattern": {
              "fillmode": "overlay",
              "size": 10,
              "solidity": 0.2
             }
            },
            "type": "barpolar"
           }
          ],
          "carpet": [
           {
            "aaxis": {
             "endlinecolor": "#2a3f5f",
             "gridcolor": "white",
             "linecolor": "white",
             "minorgridcolor": "white",
             "startlinecolor": "#2a3f5f"
            },
            "baxis": {
             "endlinecolor": "#2a3f5f",
             "gridcolor": "white",
             "linecolor": "white",
             "minorgridcolor": "white",
             "startlinecolor": "#2a3f5f"
            },
            "type": "carpet"
           }
          ],
          "choropleth": [
           {
            "colorbar": {
             "outlinewidth": 0,
             "ticks": ""
            },
            "type": "choropleth"
           }
          ],
          "contour": [
           {
            "colorbar": {
             "outlinewidth": 0,
             "ticks": ""
            },
            "colorscale": [
             [
              0,
              "#0d0887"
             ],
             [
              0.1111111111111111,
              "#46039f"
             ],
             [
              0.2222222222222222,
              "#7201a8"
             ],
             [
              0.3333333333333333,
              "#9c179e"
             ],
             [
              0.4444444444444444,
              "#bd3786"
             ],
             [
              0.5555555555555556,
              "#d8576b"
             ],
             [
              0.6666666666666666,
              "#ed7953"
             ],
             [
              0.7777777777777778,
              "#fb9f3a"
             ],
             [
              0.8888888888888888,
              "#fdca26"
             ],
             [
              1,
              "#f0f921"
             ]
            ],
            "type": "contour"
           }
          ],
          "contourcarpet": [
           {
            "colorbar": {
             "outlinewidth": 0,
             "ticks": ""
            },
            "type": "contourcarpet"
           }
          ],
          "heatmap": [
           {
            "colorbar": {
             "outlinewidth": 0,
             "ticks": ""
            },
            "colorscale": [
             [
              0,
              "#0d0887"
             ],
             [
              0.1111111111111111,
              "#46039f"
             ],
             [
              0.2222222222222222,
              "#7201a8"
             ],
             [
              0.3333333333333333,
              "#9c179e"
             ],
             [
              0.4444444444444444,
              "#bd3786"
             ],
             [
              0.5555555555555556,
              "#d8576b"
             ],
             [
              0.6666666666666666,
              "#ed7953"
             ],
             [
              0.7777777777777778,
              "#fb9f3a"
             ],
             [
              0.8888888888888888,
              "#fdca26"
             ],
             [
              1,
              "#f0f921"
             ]
            ],
            "type": "heatmap"
           }
          ],
          "histogram": [
           {
            "marker": {
             "pattern": {
              "fillmode": "overlay",
              "size": 10,
              "solidity": 0.2
             }
            },
            "type": "histogram"
           }
          ],
          "histogram2d": [
           {
            "colorbar": {
             "outlinewidth": 0,
             "ticks": ""
            },
            "colorscale": [
             [
              0,
              "#0d0887"
             ],
             [
              0.1111111111111111,
              "#46039f"
             ],
             [
              0.2222222222222222,
              "#7201a8"
             ],
             [
              0.3333333333333333,
              "#9c179e"
             ],
             [
              0.4444444444444444,
              "#bd3786"
             ],
             [
              0.5555555555555556,
              "#d8576b"
             ],
             [
              0.6666666666666666,
              "#ed7953"
             ],
             [
              0.7777777777777778,
              "#fb9f3a"
             ],
             [
              0.8888888888888888,
              "#fdca26"
             ],
             [
              1,
              "#f0f921"
             ]
            ],
            "type": "histogram2d"
           }
          ],
          "histogram2dcontour": [
           {
            "colorbar": {
             "outlinewidth": 0,
             "ticks": ""
            },
            "colorscale": [
             [
              0,
              "#0d0887"
             ],
             [
              0.1111111111111111,
              "#46039f"
             ],
             [
              0.2222222222222222,
              "#7201a8"
             ],
             [
              0.3333333333333333,
              "#9c179e"
             ],
             [
              0.4444444444444444,
              "#bd3786"
             ],
             [
              0.5555555555555556,
              "#d8576b"
             ],
             [
              0.6666666666666666,
              "#ed7953"
             ],
             [
              0.7777777777777778,
              "#fb9f3a"
             ],
             [
              0.8888888888888888,
              "#fdca26"
             ],
             [
              1,
              "#f0f921"
             ]
            ],
            "type": "histogram2dcontour"
           }
          ],
          "mesh3d": [
           {
            "colorbar": {
             "outlinewidth": 0,
             "ticks": ""
            },
            "type": "mesh3d"
           }
          ],
          "parcoords": [
           {
            "line": {
             "colorbar": {
              "outlinewidth": 0,
              "ticks": ""
             }
            },
            "type": "parcoords"
           }
          ],
          "pie": [
           {
            "automargin": true,
            "type": "pie"
           }
          ],
          "scatter": [
           {
            "fillpattern": {
             "fillmode": "overlay",
             "size": 10,
             "solidity": 0.2
            },
            "type": "scatter"
           }
          ],
          "scatter3d": [
           {
            "line": {
             "colorbar": {
              "outlinewidth": 0,
              "ticks": ""
             }
            },
            "marker": {
             "colorbar": {
              "outlinewidth": 0,
              "ticks": ""
             }
            },
            "type": "scatter3d"
           }
          ],
          "scattercarpet": [
           {
            "marker": {
             "colorbar": {
              "outlinewidth": 0,
              "ticks": ""
             }
            },
            "type": "scattercarpet"
           }
          ],
          "scattergeo": [
           {
            "marker": {
             "colorbar": {
              "outlinewidth": 0,
              "ticks": ""
             }
            },
            "type": "scattergeo"
           }
          ],
          "scattergl": [
           {
            "marker": {
             "colorbar": {
              "outlinewidth": 0,
              "ticks": ""
             }
            },
            "type": "scattergl"
           }
          ],
          "scattermap": [
           {
            "marker": {
             "colorbar": {
              "outlinewidth": 0,
              "ticks": ""
             }
            },
            "type": "scattermap"
           }
          ],
          "scattermapbox": [
           {
            "marker": {
             "colorbar": {
              "outlinewidth": 0,
              "ticks": ""
             }
            },
            "type": "scattermapbox"
           }
          ],
          "scatterpolar": [
           {
            "marker": {
             "colorbar": {
              "outlinewidth": 0,
              "ticks": ""
             }
            },
            "type": "scatterpolar"
           }
          ],
          "scatterpolargl": [
           {
            "marker": {
             "colorbar": {
              "outlinewidth": 0,
              "ticks": ""
             }
            },
            "type": "scatterpolargl"
           }
          ],
          "scatterternary": [
           {
            "marker": {
             "colorbar": {
              "outlinewidth": 0,
              "ticks": ""
             }
            },
            "type": "scatterternary"
           }
          ],
          "surface": [
           {
            "colorbar": {
             "outlinewidth": 0,
             "ticks": ""
            },
            "colorscale": [
             [
              0,
              "#0d0887"
             ],
             [
              0.1111111111111111,
              "#46039f"
             ],
             [
              0.2222222222222222,
              "#7201a8"
             ],
             [
              0.3333333333333333,
              "#9c179e"
             ],
             [
              0.4444444444444444,
              "#bd3786"
             ],
             [
              0.5555555555555556,
              "#d8576b"
             ],
             [
              0.6666666666666666,
              "#ed7953"
             ],
             [
              0.7777777777777778,
              "#fb9f3a"
             ],
             [
              0.8888888888888888,
              "#fdca26"
             ],
             [
              1,
              "#f0f921"
             ]
            ],
            "type": "surface"
           }
          ],
          "table": [
           {
            "cells": {
             "fill": {
              "color": "#EBF0F8"
             },
             "line": {
              "color": "white"
             }
            },
            "header": {
             "fill": {
              "color": "#C8D4E3"
             },
             "line": {
              "color": "white"
             }
            },
            "type": "table"
           }
          ]
         },
         "layout": {
          "annotationdefaults": {
           "arrowcolor": "#2a3f5f",
           "arrowhead": 0,
           "arrowwidth": 1
          },
          "autotypenumbers": "strict",
          "coloraxis": {
           "colorbar": {
            "outlinewidth": 0,
            "ticks": ""
           }
          },
          "colorscale": {
           "diverging": [
            [
             0,
             "#8e0152"
            ],
            [
             0.1,
             "#c51b7d"
            ],
            [
             0.2,
             "#de77ae"
            ],
            [
             0.3,
             "#f1b6da"
            ],
            [
             0.4,
             "#fde0ef"
            ],
            [
             0.5,
             "#f7f7f7"
            ],
            [
             0.6,
             "#e6f5d0"
            ],
            [
             0.7,
             "#b8e186"
            ],
            [
             0.8,
             "#7fbc41"
            ],
            [
             0.9,
             "#4d9221"
            ],
            [
             1,
             "#276419"
            ]
           ],
           "sequential": [
            [
             0,
             "#0d0887"
            ],
            [
             0.1111111111111111,
             "#46039f"
            ],
            [
             0.2222222222222222,
             "#7201a8"
            ],
            [
             0.3333333333333333,
             "#9c179e"
            ],
            [
             0.4444444444444444,
             "#bd3786"
            ],
            [
             0.5555555555555556,
             "#d8576b"
            ],
            [
             0.6666666666666666,
             "#ed7953"
            ],
            [
             0.7777777777777778,
             "#fb9f3a"
            ],
            [
             0.8888888888888888,
             "#fdca26"
            ],
            [
             1,
             "#f0f921"
            ]
           ],
           "sequentialminus": [
            [
             0,
             "#0d0887"
            ],
            [
             0.1111111111111111,
             "#46039f"
            ],
            [
             0.2222222222222222,
             "#7201a8"
            ],
            [
             0.3333333333333333,
             "#9c179e"
            ],
            [
             0.4444444444444444,
             "#bd3786"
            ],
            [
             0.5555555555555556,
             "#d8576b"
            ],
            [
             0.6666666666666666,
             "#ed7953"
            ],
            [
             0.7777777777777778,
             "#fb9f3a"
            ],
            [
             0.8888888888888888,
             "#fdca26"
            ],
            [
             1,
             "#f0f921"
            ]
           ]
          },
          "colorway": [
           "#636efa",
           "#EF553B",
           "#00cc96",
           "#ab63fa",
           "#FFA15A",
           "#19d3f3",
           "#FF6692",
           "#B6E880",
           "#FF97FF",
           "#FECB52"
          ],
          "font": {
           "color": "#2a3f5f"
          },
          "geo": {
           "bgcolor": "white",
           "lakecolor": "white",
           "landcolor": "#E5ECF6",
           "showlakes": true,
           "showland": true,
           "subunitcolor": "white"
          },
          "hoverlabel": {
           "align": "left"
          },
          "hovermode": "closest",
          "mapbox": {
           "style": "light"
          },
          "paper_bgcolor": "white",
          "plot_bgcolor": "#E5ECF6",
          "polar": {
           "angularaxis": {
            "gridcolor": "white",
            "linecolor": "white",
            "ticks": ""
           },
           "bgcolor": "#E5ECF6",
           "radialaxis": {
            "gridcolor": "white",
            "linecolor": "white",
            "ticks": ""
           }
          },
          "scene": {
           "xaxis": {
            "backgroundcolor": "#E5ECF6",
            "gridcolor": "white",
            "gridwidth": 2,
            "linecolor": "white",
            "showbackground": true,
            "ticks": "",
            "zerolinecolor": "white"
           },
           "yaxis": {
            "backgroundcolor": "#E5ECF6",
            "gridcolor": "white",
            "gridwidth": 2,
            "linecolor": "white",
            "showbackground": true,
            "ticks": "",
            "zerolinecolor": "white"
           },
           "zaxis": {
            "backgroundcolor": "#E5ECF6",
            "gridcolor": "white",
            "gridwidth": 2,
            "linecolor": "white",
            "showbackground": true,
            "ticks": "",
            "zerolinecolor": "white"
           }
          },
          "shapedefaults": {
           "line": {
            "color": "#2a3f5f"
           }
          },
          "ternary": {
           "aaxis": {
            "gridcolor": "white",
            "linecolor": "white",
            "ticks": ""
           },
           "baxis": {
            "gridcolor": "white",
            "linecolor": "white",
            "ticks": ""
           },
           "bgcolor": "#E5ECF6",
           "caxis": {
            "gridcolor": "white",
            "linecolor": "white",
            "ticks": ""
           }
          },
          "title": {
           "x": 0.05
          },
          "xaxis": {
           "automargin": true,
           "gridcolor": "white",
           "linecolor": "white",
           "ticks": "",
           "title": {
            "standoff": 15
           },
           "zerolinecolor": "white",
           "zerolinewidth": 2
          },
          "yaxis": {
           "automargin": true,
           "gridcolor": "white",
           "linecolor": "white",
           "ticks": "",
           "title": {
            "standoff": 15
           },
           "zerolinecolor": "white",
           "zerolinewidth": 2
          }
         }
        },
        "title": {
         "text": "Kompensationsforderung nach Haushaltseinkommen (Q13)"
        },
        "xaxis": {
         "anchor": "y",
         "categoryarray": [
          "Unter 3.000 CHF",
          "3.000 - 5.000 CHF",
          "5.001 - 7.000 CHF",
          "7.001 - 10.000 CHF",
          "Über 10.000 CHF",
          "Keine Angabe"
         ],
         "categoryorder": "array",
         "domain": [
          0,
          1
         ],
         "tickangle": 30,
         "title": {
          "text": "Monatl. Haushaltsnettoeinkommen"
         }
        },
        "yaxis": {
         "anchor": "x",
         "domain": [
          0,
          1
         ],
         "title": {
          "text": "Geforderte Kompensation (%)"
         }
        }
       }
      }
     },
     "metadata": {},
     "output_type": "display_data"
    },
    {
     "name": "stdout",
     "output_type": "stream",
     "text": [
      "Deskriptive Statistik der Kompensationsforderung nach Einkommen:\n",
      "                     mean  median    std  count\n",
      "q13_income                                     \n",
      "Unter 3.000 CHF     14.74    10.0  13.51     19\n",
      "3.000 - 5.000 CHF   21.64    10.0  25.50     28\n",
      "5.001 - 7.000 CHF   33.55    25.0  32.64     31\n",
      "7.001 - 10.000 CHF  22.18    20.0  16.57     39\n",
      "Über 10.000 CHF     21.27    20.0  15.37     45\n",
      "Keine Angabe        20.32    12.0  17.16     25\n",
      "\n",
      "--- Einfluss Alter (Q1) auf Kompensationsforderung ---\n"
     ]
    },
    {
     "data": {
      "application/vnd.plotly.v1+json": {
       "config": {
        "plotlyServerURL": "https://plot.ly"
       },
       "data": [
        {
         "alignmentgroup": "True",
         "hovertemplate": "Altersgruppe=%{x}<br>Geforderte Kompensation (%)=%{y}<extra></extra>",
         "legendgroup": "",
         "marker": {
          "color": "#636efa"
         },
         "name": "",
         "notched": false,
         "offsetgroup": "",
         "orientation": "v",
         "showlegend": false,
         "type": "box",
         "x": [
          "36-45",
          "36-45",
          "36-45",
          "36-45",
          "25-35",
          "25-35",
          "25-35",
          "25-35",
          "25-35",
          "25-35",
          "<25",
          "<25",
          "<25",
          "<25",
          "<25",
          "<25",
          "<25",
          "<25",
          "36-45",
          "36-45",
          "36-45",
          "36-45",
          "<25",
          "<25",
          "<25",
          "<25",
          "<25",
          "<25",
          "<25",
          "46-55",
          "46-55",
          "25-35",
          "25-35",
          "25-35",
          "25-35",
          "25-35",
          "25-35",
          "25-35",
          "25-35",
          "<25",
          "<25",
          "<25",
          "<25",
          "25-35",
          "46-55",
          "46-55",
          "46-55",
          "25-35",
          "25-35",
          "25-35",
          "25-35",
          "25-35",
          "36-45",
          "36-45",
          "36-45",
          "36-45",
          "36-45",
          "36-45",
          "56-65",
          "56-65",
          "56-65",
          "36-45",
          "<25",
          "<25",
          "<25",
          "<25",
          "<25",
          "25-35",
          "25-35",
          "25-35",
          "25-35",
          "<25",
          "<25",
          "<25",
          "<25",
          "<25",
          "25-35",
          "36-45",
          "56-65",
          "56-65",
          "25-35",
          "25-35",
          "25-35",
          "25-35",
          "<25",
          "<25",
          "<25",
          "56-65",
          "56-65",
          "56-65",
          "<25",
          "<25",
          "<25",
          "<25",
          "<25",
          "56-65",
          "56-65",
          "56-65",
          "25-35",
          "25-35",
          "25-35",
          "25-35",
          "56-65",
          "56-65",
          "56-65",
          "<25",
          "<25",
          "<25",
          "<25",
          "<25",
          "25-35",
          "25-35",
          "25-35",
          "25-35",
          "25-35",
          "25-35",
          "25-35",
          "25-35",
          "56-65",
          "56-65",
          "56-65",
          "25-35",
          "25-35",
          "65+",
          "65+",
          "65+",
          "25-35",
          "25-35",
          "25-35",
          "25-35",
          "25-35",
          "46-55",
          "25-35",
          "65+",
          "<25",
          "<25",
          "<25",
          "<25",
          "<25",
          "65+",
          "65+",
          "<25",
          "<25",
          "<25",
          "<25",
          "<25",
          "<25",
          "<25",
          "46-55",
          "46-55",
          "46-55",
          "46-55",
          "46-55",
          "25-35",
          "25-35",
          "46-55",
          "46-55",
          "<25",
          "<25",
          "46-55",
          "25-35",
          "25-35",
          "25-35",
          "36-45",
          "36-45",
          "36-45",
          "<25",
          "<25",
          "<25",
          "36-45",
          "36-45",
          "65+",
          "65+",
          "56-65",
          "56-65",
          "56-65",
          "56-65",
          "36-45",
          "36-45",
          "36-45",
          "36-45",
          "<25",
          "<25"
         ],
         "x0": " ",
         "xaxis": "x",
         "y": {
          "bdata": "AAAAAAAAPkAAAAAAAAA+QAAAAAAAAD5AAAAAAAAAPkAAAAAAAIBGQAAAAAAAACRAAAAAAAAAFEAAAAAAAAAkQAAAAAAAABRAAAAAAAAAOUAAAAAAAAA0QAAAAAAAADRAAAAAAAAASUAAAAAAAAAkQAAAAAAAACRAAAAAAAAAPkAAAAAAAAAUQAAAAAAAACRAAAAAAAAAOUAAAAAAAAA5QAAAAAAAADlAAAAAAAAAOUAAAAAAAAA9QAAAAAAAgEVAAAAAAAAAJEAAAAAAAAAAQAAAAAAAAABAAAAAAAAAAEAAAAAAAAAUQAAAAAAAAElAAAAAAAAASUAAAAAAAAA0QAAAAAAAADRAAAAAAAAASUAAAAAAAAAkQAAAAAAAACRAAAAAAAAAJEAAAAAAAAAkQAAAAAAAACRAAAAAAAAA8D8AAAAAAAAUQAAAAAAAAABAAAAAAAAAEEAAAAAAAAAkQAAAAAAAADRAAAAAAAAANEAAAAAAAAA0QAAAAAAAACRAAAAAAAAAFEAAAAAAAAAkQAAAAAAAABRAAAAAAAAAFEAAAAAAAABEQAAAAAAAgEZAAAAAAAAAJEAAAAAAAAAkQAAAAAAAABRAAAAAAAAAJEAAAAAAAAA0QAAAAAAAACRAAAAAAAAAJEAAAAAAAAAkQAAAAAAAACRAAAAAAAAANEAAAAAAAAA+QAAAAAAAACRAAAAAAAAAJEAAAAAAAAAkQAAAAAAAACRAAAAAAAAAJEAAAAAAAABJQAAAAAAAABRAAAAAAAAAJEAAAAAAAAAkQAAAAAAAAChAAAAAAAAAO0AAAAAAAAAkQAAAAAAAADRAAAAAAAAAJEAAAAAAAAAkQAAAAAAAAElAAAAAAAAASUAAAAAAAABJQAAAAAAAAElAAAAAAAAANEAAAAAAAAAuQAAAAAAAADRAAAAAAAAAREAAAAAAAAAUQAAAAAAAwFJAAAAAAAAASUAAAAAAAABJQAAAAAAAAElAAAAAAAAASUAAAAAAAABJQAAAAAAAADlAAAAAAAAAOUAAAAAAAAA5QAAAAAAAACRAAAAAAAAAJEAAAAAAAAAkQAAAAAAAACRAAAAAAAAAPkAAAAAAAAA+QAAAAAAAAD5AAAAAAAAAWUAAAAAAAABZQAAAAAAAAFlAAAAAAAAAWUAAAAAAAABZQAAAAAAAAElAAAAAAAAAJEAAAAAAAAAkQAAAAAAAADRAAAAAAAAALkAAAAAAAAAkQAAAAAAAAD5AAAAAAAAAFEAAAAAAAAAkQAAAAAAAACRAAAAAAAAANEAAAAAAAABZQAAAAAAAAFlAAAAAAAAAFEAAAAAAAAAUQAAAAAAAABRAAAAAAAAAREAAAAAAAABEQAAAAAAAADRAAAAAAAAANEAAAAAAAAAkQAAAAAAAADRAAAAAAAAATUAAAAAAAAAuQAAAAAAAADRAAAAAAAAANEAAAAAAAAA0QAAAAAAAADRAAAAAAAAANEAAAAAAAAA0QAAAAAAAACRAAAAAAAAASUAAAAAAAAA+QAAAAAAAAD5AAAAAAAAAOUAAAAAAAAAkQAAAAAAAADRAAAAAAAAASUAAAAAAAAA0QAAAAAAAACRAAAAAAAAACEAAAAAAAAAAQAAAAAAAABRAAAAAAAAANEAAAAAAAABEQAAAAAAAAElAAAAAAAAASUAAAAAAAABEQAAAAAAAADRAAAAAAAAAJEAAAAAAAAAYQAAAAAAAAABAAAAAAAAAEEAAAAAAAAAiQAAAAAAAACRAAAAAAAAAJEAAAAAAAAAuQAAAAAAAAAhAAAAAAAAASUAAAAAAAAAkQAAAAAAAACRAAAAAAAAAJEAAAAAAAAAkQAAAAAAAACRAAAAAAAAAJEAAAAAAAAAAQAAAAAAAAABAAAAAAAAAPkAAAAAAAAAkQAAAAAAAADRAAAAAAAAANEAAAAAAAAAgQAAAAAAAACBA",
          "dtype": "f8"
         },
         "y0": " ",
         "yaxis": "y"
        }
       ],
       "layout": {
        "boxmode": "group",
        "legend": {
         "tracegroupgap": 0
        },
        "template": {
         "data": {
          "bar": [
           {
            "error_x": {
             "color": "#2a3f5f"
            },
            "error_y": {
             "color": "#2a3f5f"
            },
            "marker": {
             "line": {
              "color": "#E5ECF6",
              "width": 0.5
             },
             "pattern": {
              "fillmode": "overlay",
              "size": 10,
              "solidity": 0.2
             }
            },
            "type": "bar"
           }
          ],
          "barpolar": [
           {
            "marker": {
             "line": {
              "color": "#E5ECF6",
              "width": 0.5
             },
             "pattern": {
              "fillmode": "overlay",
              "size": 10,
              "solidity": 0.2
             }
            },
            "type": "barpolar"
           }
          ],
          "carpet": [
           {
            "aaxis": {
             "endlinecolor": "#2a3f5f",
             "gridcolor": "white",
             "linecolor": "white",
             "minorgridcolor": "white",
             "startlinecolor": "#2a3f5f"
            },
            "baxis": {
             "endlinecolor": "#2a3f5f",
             "gridcolor": "white",
             "linecolor": "white",
             "minorgridcolor": "white",
             "startlinecolor": "#2a3f5f"
            },
            "type": "carpet"
           }
          ],
          "choropleth": [
           {
            "colorbar": {
             "outlinewidth": 0,
             "ticks": ""
            },
            "type": "choropleth"
           }
          ],
          "contour": [
           {
            "colorbar": {
             "outlinewidth": 0,
             "ticks": ""
            },
            "colorscale": [
             [
              0,
              "#0d0887"
             ],
             [
              0.1111111111111111,
              "#46039f"
             ],
             [
              0.2222222222222222,
              "#7201a8"
             ],
             [
              0.3333333333333333,
              "#9c179e"
             ],
             [
              0.4444444444444444,
              "#bd3786"
             ],
             [
              0.5555555555555556,
              "#d8576b"
             ],
             [
              0.6666666666666666,
              "#ed7953"
             ],
             [
              0.7777777777777778,
              "#fb9f3a"
             ],
             [
              0.8888888888888888,
              "#fdca26"
             ],
             [
              1,
              "#f0f921"
             ]
            ],
            "type": "contour"
           }
          ],
          "contourcarpet": [
           {
            "colorbar": {
             "outlinewidth": 0,
             "ticks": ""
            },
            "type": "contourcarpet"
           }
          ],
          "heatmap": [
           {
            "colorbar": {
             "outlinewidth": 0,
             "ticks": ""
            },
            "colorscale": [
             [
              0,
              "#0d0887"
             ],
             [
              0.1111111111111111,
              "#46039f"
             ],
             [
              0.2222222222222222,
              "#7201a8"
             ],
             [
              0.3333333333333333,
              "#9c179e"
             ],
             [
              0.4444444444444444,
              "#bd3786"
             ],
             [
              0.5555555555555556,
              "#d8576b"
             ],
             [
              0.6666666666666666,
              "#ed7953"
             ],
             [
              0.7777777777777778,
              "#fb9f3a"
             ],
             [
              0.8888888888888888,
              "#fdca26"
             ],
             [
              1,
              "#f0f921"
             ]
            ],
            "type": "heatmap"
           }
          ],
          "histogram": [
           {
            "marker": {
             "pattern": {
              "fillmode": "overlay",
              "size": 10,
              "solidity": 0.2
             }
            },
            "type": "histogram"
           }
          ],
          "histogram2d": [
           {
            "colorbar": {
             "outlinewidth": 0,
             "ticks": ""
            },
            "colorscale": [
             [
              0,
              "#0d0887"
             ],
             [
              0.1111111111111111,
              "#46039f"
             ],
             [
              0.2222222222222222,
              "#7201a8"
             ],
             [
              0.3333333333333333,
              "#9c179e"
             ],
             [
              0.4444444444444444,
              "#bd3786"
             ],
             [
              0.5555555555555556,
              "#d8576b"
             ],
             [
              0.6666666666666666,
              "#ed7953"
             ],
             [
              0.7777777777777778,
              "#fb9f3a"
             ],
             [
              0.8888888888888888,
              "#fdca26"
             ],
             [
              1,
              "#f0f921"
             ]
            ],
            "type": "histogram2d"
           }
          ],
          "histogram2dcontour": [
           {
            "colorbar": {
             "outlinewidth": 0,
             "ticks": ""
            },
            "colorscale": [
             [
              0,
              "#0d0887"
             ],
             [
              0.1111111111111111,
              "#46039f"
             ],
             [
              0.2222222222222222,
              "#7201a8"
             ],
             [
              0.3333333333333333,
              "#9c179e"
             ],
             [
              0.4444444444444444,
              "#bd3786"
             ],
             [
              0.5555555555555556,
              "#d8576b"
             ],
             [
              0.6666666666666666,
              "#ed7953"
             ],
             [
              0.7777777777777778,
              "#fb9f3a"
             ],
             [
              0.8888888888888888,
              "#fdca26"
             ],
             [
              1,
              "#f0f921"
             ]
            ],
            "type": "histogram2dcontour"
           }
          ],
          "mesh3d": [
           {
            "colorbar": {
             "outlinewidth": 0,
             "ticks": ""
            },
            "type": "mesh3d"
           }
          ],
          "parcoords": [
           {
            "line": {
             "colorbar": {
              "outlinewidth": 0,
              "ticks": ""
             }
            },
            "type": "parcoords"
           }
          ],
          "pie": [
           {
            "automargin": true,
            "type": "pie"
           }
          ],
          "scatter": [
           {
            "fillpattern": {
             "fillmode": "overlay",
             "size": 10,
             "solidity": 0.2
            },
            "type": "scatter"
           }
          ],
          "scatter3d": [
           {
            "line": {
             "colorbar": {
              "outlinewidth": 0,
              "ticks": ""
             }
            },
            "marker": {
             "colorbar": {
              "outlinewidth": 0,
              "ticks": ""
             }
            },
            "type": "scatter3d"
           }
          ],
          "scattercarpet": [
           {
            "marker": {
             "colorbar": {
              "outlinewidth": 0,
              "ticks": ""
             }
            },
            "type": "scattercarpet"
           }
          ],
          "scattergeo": [
           {
            "marker": {
             "colorbar": {
              "outlinewidth": 0,
              "ticks": ""
             }
            },
            "type": "scattergeo"
           }
          ],
          "scattergl": [
           {
            "marker": {
             "colorbar": {
              "outlinewidth": 0,
              "ticks": ""
             }
            },
            "type": "scattergl"
           }
          ],
          "scattermap": [
           {
            "marker": {
             "colorbar": {
              "outlinewidth": 0,
              "ticks": ""
             }
            },
            "type": "scattermap"
           }
          ],
          "scattermapbox": [
           {
            "marker": {
             "colorbar": {
              "outlinewidth": 0,
              "ticks": ""
             }
            },
            "type": "scattermapbox"
           }
          ],
          "scatterpolar": [
           {
            "marker": {
             "colorbar": {
              "outlinewidth": 0,
              "ticks": ""
             }
            },
            "type": "scatterpolar"
           }
          ],
          "scatterpolargl": [
           {
            "marker": {
             "colorbar": {
              "outlinewidth": 0,
              "ticks": ""
             }
            },
            "type": "scatterpolargl"
           }
          ],
          "scatterternary": [
           {
            "marker": {
             "colorbar": {
              "outlinewidth": 0,
              "ticks": ""
             }
            },
            "type": "scatterternary"
           }
          ],
          "surface": [
           {
            "colorbar": {
             "outlinewidth": 0,
             "ticks": ""
            },
            "colorscale": [
             [
              0,
              "#0d0887"
             ],
             [
              0.1111111111111111,
              "#46039f"
             ],
             [
              0.2222222222222222,
              "#7201a8"
             ],
             [
              0.3333333333333333,
              "#9c179e"
             ],
             [
              0.4444444444444444,
              "#bd3786"
             ],
             [
              0.5555555555555556,
              "#d8576b"
             ],
             [
              0.6666666666666666,
              "#ed7953"
             ],
             [
              0.7777777777777778,
              "#fb9f3a"
             ],
             [
              0.8888888888888888,
              "#fdca26"
             ],
             [
              1,
              "#f0f921"
             ]
            ],
            "type": "surface"
           }
          ],
          "table": [
           {
            "cells": {
             "fill": {
              "color": "#EBF0F8"
             },
             "line": {
              "color": "white"
             }
            },
            "header": {
             "fill": {
              "color": "#C8D4E3"
             },
             "line": {
              "color": "white"
             }
            },
            "type": "table"
           }
          ]
         },
         "layout": {
          "annotationdefaults": {
           "arrowcolor": "#2a3f5f",
           "arrowhead": 0,
           "arrowwidth": 1
          },
          "autotypenumbers": "strict",
          "coloraxis": {
           "colorbar": {
            "outlinewidth": 0,
            "ticks": ""
           }
          },
          "colorscale": {
           "diverging": [
            [
             0,
             "#8e0152"
            ],
            [
             0.1,
             "#c51b7d"
            ],
            [
             0.2,
             "#de77ae"
            ],
            [
             0.3,
             "#f1b6da"
            ],
            [
             0.4,
             "#fde0ef"
            ],
            [
             0.5,
             "#f7f7f7"
            ],
            [
             0.6,
             "#e6f5d0"
            ],
            [
             0.7,
             "#b8e186"
            ],
            [
             0.8,
             "#7fbc41"
            ],
            [
             0.9,
             "#4d9221"
            ],
            [
             1,
             "#276419"
            ]
           ],
           "sequential": [
            [
             0,
             "#0d0887"
            ],
            [
             0.1111111111111111,
             "#46039f"
            ],
            [
             0.2222222222222222,
             "#7201a8"
            ],
            [
             0.3333333333333333,
             "#9c179e"
            ],
            [
             0.4444444444444444,
             "#bd3786"
            ],
            [
             0.5555555555555556,
             "#d8576b"
            ],
            [
             0.6666666666666666,
             "#ed7953"
            ],
            [
             0.7777777777777778,
             "#fb9f3a"
            ],
            [
             0.8888888888888888,
             "#fdca26"
            ],
            [
             1,
             "#f0f921"
            ]
           ],
           "sequentialminus": [
            [
             0,
             "#0d0887"
            ],
            [
             0.1111111111111111,
             "#46039f"
            ],
            [
             0.2222222222222222,
             "#7201a8"
            ],
            [
             0.3333333333333333,
             "#9c179e"
            ],
            [
             0.4444444444444444,
             "#bd3786"
            ],
            [
             0.5555555555555556,
             "#d8576b"
            ],
            [
             0.6666666666666666,
             "#ed7953"
            ],
            [
             0.7777777777777778,
             "#fb9f3a"
            ],
            [
             0.8888888888888888,
             "#fdca26"
            ],
            [
             1,
             "#f0f921"
            ]
           ]
          },
          "colorway": [
           "#636efa",
           "#EF553B",
           "#00cc96",
           "#ab63fa",
           "#FFA15A",
           "#19d3f3",
           "#FF6692",
           "#B6E880",
           "#FF97FF",
           "#FECB52"
          ],
          "font": {
           "color": "#2a3f5f"
          },
          "geo": {
           "bgcolor": "white",
           "lakecolor": "white",
           "landcolor": "#E5ECF6",
           "showlakes": true,
           "showland": true,
           "subunitcolor": "white"
          },
          "hoverlabel": {
           "align": "left"
          },
          "hovermode": "closest",
          "mapbox": {
           "style": "light"
          },
          "paper_bgcolor": "white",
          "plot_bgcolor": "#E5ECF6",
          "polar": {
           "angularaxis": {
            "gridcolor": "white",
            "linecolor": "white",
            "ticks": ""
           },
           "bgcolor": "#E5ECF6",
           "radialaxis": {
            "gridcolor": "white",
            "linecolor": "white",
            "ticks": ""
           }
          },
          "scene": {
           "xaxis": {
            "backgroundcolor": "#E5ECF6",
            "gridcolor": "white",
            "gridwidth": 2,
            "linecolor": "white",
            "showbackground": true,
            "ticks": "",
            "zerolinecolor": "white"
           },
           "yaxis": {
            "backgroundcolor": "#E5ECF6",
            "gridcolor": "white",
            "gridwidth": 2,
            "linecolor": "white",
            "showbackground": true,
            "ticks": "",
            "zerolinecolor": "white"
           },
           "zaxis": {
            "backgroundcolor": "#E5ECF6",
            "gridcolor": "white",
            "gridwidth": 2,
            "linecolor": "white",
            "showbackground": true,
            "ticks": "",
            "zerolinecolor": "white"
           }
          },
          "shapedefaults": {
           "line": {
            "color": "#2a3f5f"
           }
          },
          "ternary": {
           "aaxis": {
            "gridcolor": "white",
            "linecolor": "white",
            "ticks": ""
           },
           "baxis": {
            "gridcolor": "white",
            "linecolor": "white",
            "ticks": ""
           },
           "bgcolor": "#E5ECF6",
           "caxis": {
            "gridcolor": "white",
            "linecolor": "white",
            "ticks": ""
           }
          },
          "title": {
           "x": 0.05
          },
          "xaxis": {
           "automargin": true,
           "gridcolor": "white",
           "linecolor": "white",
           "ticks": "",
           "title": {
            "standoff": 15
           },
           "zerolinecolor": "white",
           "zerolinewidth": 2
          },
          "yaxis": {
           "automargin": true,
           "gridcolor": "white",
           "linecolor": "white",
           "ticks": "",
           "title": {
            "standoff": 15
           },
           "zerolinecolor": "white",
           "zerolinewidth": 2
          }
         }
        },
        "title": {
         "text": "Kompensationsforderung nach Altersgruppe (Q1)"
        },
        "xaxis": {
         "anchor": "y",
         "categoryarray": [
          "<25",
          "25-35",
          "36-45",
          "46-55",
          "56-65",
          "65+"
         ],
         "categoryorder": "array",
         "domain": [
          0,
          1
         ],
         "title": {
          "text": "Altersgruppe"
         }
        },
        "yaxis": {
         "anchor": "x",
         "domain": [
          0,
          1
         ],
         "title": {
          "text": "Geforderte Kompensation (%)"
         }
        }
       }
      }
     },
     "metadata": {},
     "output_type": "display_data"
    },
    {
     "name": "stdout",
     "output_type": "stream",
     "text": [
      "Deskriptive Statistik der Kompensationsforderung nach Altersgruppe:\n",
      "            mean  median    std  count\n",
      "age_group                             \n",
      "<25        27.34    20.0  26.71     61\n",
      "25-35      22.69    10.0  22.34     54\n",
      "36-45      19.96    20.0  10.94     25\n",
      "46-55      23.57    20.0  18.52     14\n",
      "56-65      19.48    10.0  16.53     21\n",
      "65+        10.00    10.0   5.35      8\n",
      "\n",
      "--- Einfluss Bildungsabschluss (Q14) auf Kompensationsforderung ---\n"
     ]
    },
    {
     "data": {
      "application/vnd.plotly.v1+json": {
       "config": {
        "plotlyServerURL": "https://plot.ly"
       },
       "data": [
        {
         "alignmentgroup": "True",
         "hovertemplate": "Bildungsabschluss=%{x}<br>Geforderte Kompensation (%)=%{y}<extra></extra>",
         "legendgroup": "",
         "marker": {
          "color": "#636efa"
         },
         "name": "",
         "notched": false,
         "offsetgroup": "",
         "orientation": "v",
         "showlegend": false,
         "type": "box",
         "x": [
          "Fachhochschule/Bachelor",
          "Fachhochschule/Bachelor",
          "Fachhochschule/Bachelor",
          "Fachhochschule/Bachelor",
          "Universität/Master",
          "Universität/Master",
          "Berufsausbildung/Lehre/Maturität",
          "Berufsausbildung/Lehre/Maturität",
          "Berufsausbildung/Lehre/Maturität",
          "Fachhochschule/Bachelor",
          "Berufsausbildung/Lehre/Maturität",
          "Berufsausbildung/Lehre/Maturität",
          "Berufsausbildung/Lehre/Maturität",
          "Berufsausbildung/Lehre/Maturität",
          "Berufsausbildung/Lehre/Maturität",
          "Berufsausbildung/Lehre/Maturität",
          "Berufsausbildung/Lehre/Maturität",
          "Berufsausbildung/Lehre/Maturität",
          "Berufsausbildung/Lehre/Maturität",
          "Berufsausbildung/Lehre/Maturität",
          "Berufsausbildung/Lehre/Maturität",
          "Fachhochschule/Bachelor",
          "Fachhochschule/Bachelor",
          "Fachhochschule/Bachelor",
          "Fachhochschule/Bachelor",
          "Berufsausbildung/Lehre/Maturität",
          "Berufsausbildung/Lehre/Maturität",
          "Berufsausbildung/Lehre/Maturität",
          "Sekundarschule/Realschule",
          "Berufsausbildung/Lehre/Maturität",
          "Berufsausbildung/Lehre/Maturität",
          "Berufsausbildung/Lehre/Maturität",
          "Sekundarschule/Realschule",
          "Berufsausbildung/Lehre/Maturität",
          "Berufsausbildung/Lehre/Maturität",
          "Universität/Master",
          "Universität/Master",
          "Universität/Master",
          "Universität/Master",
          "Universität/Master",
          "Universität/Master",
          "Universität/Master",
          "Universität/Master",
          "Berufsausbildung/Lehre/Maturität",
          "Berufsausbildung/Lehre/Maturität",
          "Berufsausbildung/Lehre/Maturität",
          "Berufsausbildung/Lehre/Maturität",
          "Universität/Master",
          "Fachhochschule/Bachelor",
          "Fachhochschule/Bachelor",
          "Fachhochschule/Bachelor",
          "Universität/Master",
          "Universität/Master",
          "Universität/Master",
          "Universität/Master",
          "Universität/Master",
          "Fachhochschule/Bachelor",
          "Fachhochschule/Bachelor",
          "Fachhochschule/Bachelor",
          "Fachhochschule/Bachelor",
          "Fachhochschule/Bachelor",
          "Fachhochschule/Bachelor",
          "Berufsausbildung/Lehre/Maturität",
          "Berufsausbildung/Lehre/Maturität",
          "Berufsausbildung/Lehre/Maturität",
          "Fachhochschule/Bachelor",
          "Berufsausbildung/Lehre/Maturität",
          "Berufsausbildung/Lehre/Maturität",
          "Berufsausbildung/Lehre/Maturität",
          "Fachhochschule/Bachelor",
          "Fachhochschule/Bachelor",
          "Fachhochschule/Bachelor",
          "Universität/Master",
          "Fachhochschule/Bachelor",
          "Fachhochschule/Bachelor",
          "Berufsausbildung/Lehre/Maturität",
          "Berufsausbildung/Lehre/Maturität",
          "Berufsausbildung/Lehre/Maturität",
          "Berufsausbildung/Lehre/Maturität",
          "Berufsausbildung/Lehre/Maturität",
          "Fachhochschule/Bachelor",
          "Berufsausbildung/Lehre/Maturität",
          "Fachhochschule/Bachelor",
          "Fachhochschule/Bachelor",
          "Universität/Master",
          "Universität/Master",
          "Universität/Master",
          "Universität/Master",
          "Berufsausbildung/Lehre/Maturität",
          "Berufsausbildung/Lehre/Maturität",
          "Berufsausbildung/Lehre/Maturität",
          "Berufsausbildung/Lehre/Maturität",
          "Berufsausbildung/Lehre/Maturität",
          "Berufsausbildung/Lehre/Maturität",
          "Universität/Master",
          "Universität/Master",
          "Universität/Master",
          "Universität/Master",
          "Universität/Master",
          "Berufsausbildung/Lehre/Maturität",
          "Berufsausbildung/Lehre/Maturität",
          "Berufsausbildung/Lehre/Maturität",
          "Berufsausbildung/Lehre/Maturität",
          "Berufsausbildung/Lehre/Maturität",
          "Berufsausbildung/Lehre/Maturität",
          "Berufsausbildung/Lehre/Maturität",
          "Fachhochschule/Bachelor",
          "Fachhochschule/Bachelor",
          "Fachhochschule/Bachelor",
          "Berufsausbildung/Lehre/Maturität",
          "Berufsausbildung/Lehre/Maturität",
          "Berufsausbildung/Lehre/Maturität",
          "Berufsausbildung/Lehre/Maturität",
          "Berufsausbildung/Lehre/Maturität",
          "Berufsausbildung/Lehre/Maturität",
          "Berufsausbildung/Lehre/Maturität",
          "Berufsausbildung/Lehre/Maturität",
          "Berufsausbildung/Lehre/Maturität",
          "Fachhochschule/Bachelor",
          "Fachhochschule/Bachelor",
          "Fachhochschule/Bachelor",
          "Fachhochschule/Bachelor",
          "Berufsausbildung/Lehre/Maturität",
          "Berufsausbildung/Lehre/Maturität",
          "Berufsausbildung/Lehre/Maturität",
          "Berufsausbildung/Lehre/Maturität",
          "Berufsausbildung/Lehre/Maturität",
          "Fachhochschule/Bachelor",
          "Fachhochschule/Bachelor",
          "Fachhochschule/Bachelor",
          "Universität/Master",
          "Berufsausbildung/Lehre/Maturität",
          "Berufsausbildung/Lehre/Maturität",
          "Berufsausbildung/Lehre/Maturität",
          "Fachhochschule/Bachelor",
          "Fachhochschule/Bachelor",
          "Fachhochschule/Bachelor",
          "Universität/Master",
          "Berufsausbildung/Lehre/Maturität",
          "Berufsausbildung/Lehre/Maturität",
          "Berufsausbildung/Lehre/Maturität",
          "Berufsausbildung/Lehre/Maturität",
          "Berufsausbildung/Lehre/Maturität",
          "Universität/Master",
          "Universität/Master",
          "Sekundarschule/Realschule",
          "Fachhochschule/Bachelor",
          "Fachhochschule/Bachelor",
          "Berufsausbildung/Lehre/Maturität",
          "Berufsausbildung/Lehre/Maturität",
          "Berufsausbildung/Lehre/Maturität",
          "Berufsausbildung/Lehre/Maturität",
          "Universität/Master",
          "Universität/Master",
          "Universität/Master",
          "Universität/Master",
          "Universität/Master",
          "Universität/Master",
          "Universität/Master",
          "Universität/Master",
          "Universität/Master",
          "Berufsausbildung/Lehre/Maturität",
          "Berufsausbildung/Lehre/Maturität",
          "Fachhochschule/Bachelor",
          "Universität/Master",
          "Universität/Master",
          "Universität/Master",
          "Promotion oder höher",
          "Promotion oder höher",
          "Promotion oder höher",
          "Berufsausbildung/Lehre/Maturität",
          "Berufsausbildung/Lehre/Maturität",
          "Berufsausbildung/Lehre/Maturität",
          "Berufsausbildung/Lehre/Maturität",
          "Berufsausbildung/Lehre/Maturität",
          "Sekundarschule/Realschule",
          "Sekundarschule/Realschule",
          "Berufsausbildung/Lehre/Maturität",
          "Berufsausbildung/Lehre/Maturität",
          "Fachhochschule/Bachelor",
          "Fachhochschule/Bachelor",
          "Universität/Master",
          "Berufsausbildung/Lehre/Maturität",
          "Berufsausbildung/Lehre/Maturität",
          "Universität/Master",
          "Berufsausbildung/Lehre/Maturität",
          "Berufsausbildung/Lehre/Maturität"
         ],
         "x0": " ",
         "xaxis": "x",
         "y": {
          "bdata": "AAAAAAAAPkAAAAAAAAA+QAAAAAAAAD5AAAAAAAAAPkAAAAAAAIBGQAAAAAAAACRAAAAAAAAAFEAAAAAAAAAkQAAAAAAAABRAAAAAAAAAOUAAAAAAAAAcQAAAAAAAACRAAAAAAAAAKkAAAAAAAAA0QAAAAAAAADRAAAAAAAAASUAAAAAAAAAkQAAAAAAAACRAAAAAAAAAPkAAAAAAAAAUQAAAAAAAACRAAAAAAAAAOUAAAAAAAAA5QAAAAAAAADlAAAAAAAAAOUAAAAAAAAA9QAAAAAAAgEVAAAAAAAAAJEAAAAAAAAAuQAAAAAAAAABAAAAAAAAAAEAAAAAAAAAAQAAAAAAAABRAAAAAAAAASUAAAAAAAABJQAAAAAAAADRAAAAAAAAANEAAAAAAAABJQAAAAAAAACRAAAAAAAAAJEAAAAAAAAAkQAAAAAAAACRAAAAAAAAAJEAAAAAAAADwPwAAAAAAABRAAAAAAAAAAEAAAAAAAAAQQAAAAAAAACRAAAAAAAAANEAAAAAAAAA0QAAAAAAAADRAAAAAAAAAJEAAAAAAAAAUQAAAAAAAACRAAAAAAAAAFEAAAAAAAAAUQAAAAAAAAERAAAAAAACARkAAAAAAAAAkQAAAAAAAACRAAAAAAAAAFEAAAAAAAAAkQAAAAAAAADRAAAAAAAAAJEAAAAAAAAAkQAAAAAAAACRAAAAAAAAAJEAAAAAAAAA0QAAAAAAAAD5AAAAAAAAAJEAAAAAAAAAkQAAAAAAAACRAAAAAAAAAJEAAAAAAAAAkQAAAAAAAAElAAAAAAAAAFEAAAAAAAAAkQAAAAAAAACRAAAAAAAAAKEAAAAAAAAA7QAAAAAAAACRAAAAAAAAANEAAAAAAAAAkQAAAAAAAACRAAAAAAAAASUAAAAAAAABJQAAAAAAAAElAAAAAAAAASUAAAAAAAAA0QAAAAAAAAC5AAAAAAAAANEAAAAAAAABEQAAAAAAAABRAAAAAAADAUkAAAAAAAABJQAAAAAAAAElAAAAAAAAASUAAAAAAAABJQAAAAAAAAElAAAAAAAAAOUAAAAAAAAA5QAAAAAAAADlAAAAAAAAAJEAAAAAAAAAkQAAAAAAAACRAAAAAAAAAJEAAAAAAAAA+QAAAAAAAAD5AAAAAAAAAPkAAAAAAAABZQAAAAAAAAFlAAAAAAAAAWUAAAAAAAABZQAAAAAAAAFlAAAAAAAAASUAAAAAAAAAkQAAAAAAAACRAAAAAAAAANEAAAAAAAAAuQAAAAAAAACRAAAAAAAAAPkAAAAAAAAAUQAAAAAAAACRAAAAAAAAAJEAAAAAAAAA0QAAAAAAAAFlAAAAAAAAAWUAAAAAAAAAUQAAAAAAAABRAAAAAAAAAFEAAAAAAAABEQAAAAAAAAERAAAAAAAAANEAAAAAAAAA0QAAAAAAAACRAAAAAAAAANEAAAAAAAABNQAAAAAAAAC5AAAAAAAAANEAAAAAAAAA0QAAAAAAAADRAAAAAAAAANEAAAAAAAAA0QAAAAAAAADRAAAAAAAAAJEAAAAAAAABJQAAAAAAAAD5AAAAAAAAAPkAAAAAAAAA5QAAAAAAAACRAAAAAAAAANEAAAAAAAABJQAAAAAAAADRAAAAAAAAAJEAAAAAAAAAIQAAAAAAAAABAAAAAAAAAFEAAAAAAAAA0QAAAAAAAAERAAAAAAAAASUAAAAAAAABJQAAAAAAAAERAAAAAAAAANEAAAAAAAAAkQAAAAAAAABhAAAAAAAAAAEAAAAAAAAAQQAAAAAAAACJAAAAAAAAAJEAAAAAAAAAkQAAAAAAAAC5AAAAAAAAACEAAAAAAAABJQAAAAAAAACRAAAAAAAAAJEAAAAAAAAAkQAAAAAAAACRAAAAAAAAAJEAAAAAAAAAkQAAAAAAAAABAAAAAAAAAAEAAAAAAAAA+QAAAAAAAACRAAAAAAAAANEAAAAAAAAA0QAAAAAAAACBAAAAAAAAAIEA=",
          "dtype": "f8"
         },
         "y0": " ",
         "yaxis": "y"
        }
       ],
       "layout": {
        "boxmode": "group",
        "legend": {
         "tracegroupgap": 0
        },
        "template": {
         "data": {
          "bar": [
           {
            "error_x": {
             "color": "#2a3f5f"
            },
            "error_y": {
             "color": "#2a3f5f"
            },
            "marker": {
             "line": {
              "color": "#E5ECF6",
              "width": 0.5
             },
             "pattern": {
              "fillmode": "overlay",
              "size": 10,
              "solidity": 0.2
             }
            },
            "type": "bar"
           }
          ],
          "barpolar": [
           {
            "marker": {
             "line": {
              "color": "#E5ECF6",
              "width": 0.5
             },
             "pattern": {
              "fillmode": "overlay",
              "size": 10,
              "solidity": 0.2
             }
            },
            "type": "barpolar"
           }
          ],
          "carpet": [
           {
            "aaxis": {
             "endlinecolor": "#2a3f5f",
             "gridcolor": "white",
             "linecolor": "white",
             "minorgridcolor": "white",
             "startlinecolor": "#2a3f5f"
            },
            "baxis": {
             "endlinecolor": "#2a3f5f",
             "gridcolor": "white",
             "linecolor": "white",
             "minorgridcolor": "white",
             "startlinecolor": "#2a3f5f"
            },
            "type": "carpet"
           }
          ],
          "choropleth": [
           {
            "colorbar": {
             "outlinewidth": 0,
             "ticks": ""
            },
            "type": "choropleth"
           }
          ],
          "contour": [
           {
            "colorbar": {
             "outlinewidth": 0,
             "ticks": ""
            },
            "colorscale": [
             [
              0,
              "#0d0887"
             ],
             [
              0.1111111111111111,
              "#46039f"
             ],
             [
              0.2222222222222222,
              "#7201a8"
             ],
             [
              0.3333333333333333,
              "#9c179e"
             ],
             [
              0.4444444444444444,
              "#bd3786"
             ],
             [
              0.5555555555555556,
              "#d8576b"
             ],
             [
              0.6666666666666666,
              "#ed7953"
             ],
             [
              0.7777777777777778,
              "#fb9f3a"
             ],
             [
              0.8888888888888888,
              "#fdca26"
             ],
             [
              1,
              "#f0f921"
             ]
            ],
            "type": "contour"
           }
          ],
          "contourcarpet": [
           {
            "colorbar": {
             "outlinewidth": 0,
             "ticks": ""
            },
            "type": "contourcarpet"
           }
          ],
          "heatmap": [
           {
            "colorbar": {
             "outlinewidth": 0,
             "ticks": ""
            },
            "colorscale": [
             [
              0,
              "#0d0887"
             ],
             [
              0.1111111111111111,
              "#46039f"
             ],
             [
              0.2222222222222222,
              "#7201a8"
             ],
             [
              0.3333333333333333,
              "#9c179e"
             ],
             [
              0.4444444444444444,
              "#bd3786"
             ],
             [
              0.5555555555555556,
              "#d8576b"
             ],
             [
              0.6666666666666666,
              "#ed7953"
             ],
             [
              0.7777777777777778,
              "#fb9f3a"
             ],
             [
              0.8888888888888888,
              "#fdca26"
             ],
             [
              1,
              "#f0f921"
             ]
            ],
            "type": "heatmap"
           }
          ],
          "histogram": [
           {
            "marker": {
             "pattern": {
              "fillmode": "overlay",
              "size": 10,
              "solidity": 0.2
             }
            },
            "type": "histogram"
           }
          ],
          "histogram2d": [
           {
            "colorbar": {
             "outlinewidth": 0,
             "ticks": ""
            },
            "colorscale": [
             [
              0,
              "#0d0887"
             ],
             [
              0.1111111111111111,
              "#46039f"
             ],
             [
              0.2222222222222222,
              "#7201a8"
             ],
             [
              0.3333333333333333,
              "#9c179e"
             ],
             [
              0.4444444444444444,
              "#bd3786"
             ],
             [
              0.5555555555555556,
              "#d8576b"
             ],
             [
              0.6666666666666666,
              "#ed7953"
             ],
             [
              0.7777777777777778,
              "#fb9f3a"
             ],
             [
              0.8888888888888888,
              "#fdca26"
             ],
             [
              1,
              "#f0f921"
             ]
            ],
            "type": "histogram2d"
           }
          ],
          "histogram2dcontour": [
           {
            "colorbar": {
             "outlinewidth": 0,
             "ticks": ""
            },
            "colorscale": [
             [
              0,
              "#0d0887"
             ],
             [
              0.1111111111111111,
              "#46039f"
             ],
             [
              0.2222222222222222,
              "#7201a8"
             ],
             [
              0.3333333333333333,
              "#9c179e"
             ],
             [
              0.4444444444444444,
              "#bd3786"
             ],
             [
              0.5555555555555556,
              "#d8576b"
             ],
             [
              0.6666666666666666,
              "#ed7953"
             ],
             [
              0.7777777777777778,
              "#fb9f3a"
             ],
             [
              0.8888888888888888,
              "#fdca26"
             ],
             [
              1,
              "#f0f921"
             ]
            ],
            "type": "histogram2dcontour"
           }
          ],
          "mesh3d": [
           {
            "colorbar": {
             "outlinewidth": 0,
             "ticks": ""
            },
            "type": "mesh3d"
           }
          ],
          "parcoords": [
           {
            "line": {
             "colorbar": {
              "outlinewidth": 0,
              "ticks": ""
             }
            },
            "type": "parcoords"
           }
          ],
          "pie": [
           {
            "automargin": true,
            "type": "pie"
           }
          ],
          "scatter": [
           {
            "fillpattern": {
             "fillmode": "overlay",
             "size": 10,
             "solidity": 0.2
            },
            "type": "scatter"
           }
          ],
          "scatter3d": [
           {
            "line": {
             "colorbar": {
              "outlinewidth": 0,
              "ticks": ""
             }
            },
            "marker": {
             "colorbar": {
              "outlinewidth": 0,
              "ticks": ""
             }
            },
            "type": "scatter3d"
           }
          ],
          "scattercarpet": [
           {
            "marker": {
             "colorbar": {
              "outlinewidth": 0,
              "ticks": ""
             }
            },
            "type": "scattercarpet"
           }
          ],
          "scattergeo": [
           {
            "marker": {
             "colorbar": {
              "outlinewidth": 0,
              "ticks": ""
             }
            },
            "type": "scattergeo"
           }
          ],
          "scattergl": [
           {
            "marker": {
             "colorbar": {
              "outlinewidth": 0,
              "ticks": ""
             }
            },
            "type": "scattergl"
           }
          ],
          "scattermap": [
           {
            "marker": {
             "colorbar": {
              "outlinewidth": 0,
              "ticks": ""
             }
            },
            "type": "scattermap"
           }
          ],
          "scattermapbox": [
           {
            "marker": {
             "colorbar": {
              "outlinewidth": 0,
              "ticks": ""
             }
            },
            "type": "scattermapbox"
           }
          ],
          "scatterpolar": [
           {
            "marker": {
             "colorbar": {
              "outlinewidth": 0,
              "ticks": ""
             }
            },
            "type": "scatterpolar"
           }
          ],
          "scatterpolargl": [
           {
            "marker": {
             "colorbar": {
              "outlinewidth": 0,
              "ticks": ""
             }
            },
            "type": "scatterpolargl"
           }
          ],
          "scatterternary": [
           {
            "marker": {
             "colorbar": {
              "outlinewidth": 0,
              "ticks": ""
             }
            },
            "type": "scatterternary"
           }
          ],
          "surface": [
           {
            "colorbar": {
             "outlinewidth": 0,
             "ticks": ""
            },
            "colorscale": [
             [
              0,
              "#0d0887"
             ],
             [
              0.1111111111111111,
              "#46039f"
             ],
             [
              0.2222222222222222,
              "#7201a8"
             ],
             [
              0.3333333333333333,
              "#9c179e"
             ],
             [
              0.4444444444444444,
              "#bd3786"
             ],
             [
              0.5555555555555556,
              "#d8576b"
             ],
             [
              0.6666666666666666,
              "#ed7953"
             ],
             [
              0.7777777777777778,
              "#fb9f3a"
             ],
             [
              0.8888888888888888,
              "#fdca26"
             ],
             [
              1,
              "#f0f921"
             ]
            ],
            "type": "surface"
           }
          ],
          "table": [
           {
            "cells": {
             "fill": {
              "color": "#EBF0F8"
             },
             "line": {
              "color": "white"
             }
            },
            "header": {
             "fill": {
              "color": "#C8D4E3"
             },
             "line": {
              "color": "white"
             }
            },
            "type": "table"
           }
          ]
         },
         "layout": {
          "annotationdefaults": {
           "arrowcolor": "#2a3f5f",
           "arrowhead": 0,
           "arrowwidth": 1
          },
          "autotypenumbers": "strict",
          "coloraxis": {
           "colorbar": {
            "outlinewidth": 0,
            "ticks": ""
           }
          },
          "colorscale": {
           "diverging": [
            [
             0,
             "#8e0152"
            ],
            [
             0.1,
             "#c51b7d"
            ],
            [
             0.2,
             "#de77ae"
            ],
            [
             0.3,
             "#f1b6da"
            ],
            [
             0.4,
             "#fde0ef"
            ],
            [
             0.5,
             "#f7f7f7"
            ],
            [
             0.6,
             "#e6f5d0"
            ],
            [
             0.7,
             "#b8e186"
            ],
            [
             0.8,
             "#7fbc41"
            ],
            [
             0.9,
             "#4d9221"
            ],
            [
             1,
             "#276419"
            ]
           ],
           "sequential": [
            [
             0,
             "#0d0887"
            ],
            [
             0.1111111111111111,
             "#46039f"
            ],
            [
             0.2222222222222222,
             "#7201a8"
            ],
            [
             0.3333333333333333,
             "#9c179e"
            ],
            [
             0.4444444444444444,
             "#bd3786"
            ],
            [
             0.5555555555555556,
             "#d8576b"
            ],
            [
             0.6666666666666666,
             "#ed7953"
            ],
            [
             0.7777777777777778,
             "#fb9f3a"
            ],
            [
             0.8888888888888888,
             "#fdca26"
            ],
            [
             1,
             "#f0f921"
            ]
           ],
           "sequentialminus": [
            [
             0,
             "#0d0887"
            ],
            [
             0.1111111111111111,
             "#46039f"
            ],
            [
             0.2222222222222222,
             "#7201a8"
            ],
            [
             0.3333333333333333,
             "#9c179e"
            ],
            [
             0.4444444444444444,
             "#bd3786"
            ],
            [
             0.5555555555555556,
             "#d8576b"
            ],
            [
             0.6666666666666666,
             "#ed7953"
            ],
            [
             0.7777777777777778,
             "#fb9f3a"
            ],
            [
             0.8888888888888888,
             "#fdca26"
            ],
            [
             1,
             "#f0f921"
            ]
           ]
          },
          "colorway": [
           "#636efa",
           "#EF553B",
           "#00cc96",
           "#ab63fa",
           "#FFA15A",
           "#19d3f3",
           "#FF6692",
           "#B6E880",
           "#FF97FF",
           "#FECB52"
          ],
          "font": {
           "color": "#2a3f5f"
          },
          "geo": {
           "bgcolor": "white",
           "lakecolor": "white",
           "landcolor": "#E5ECF6",
           "showlakes": true,
           "showland": true,
           "subunitcolor": "white"
          },
          "hoverlabel": {
           "align": "left"
          },
          "hovermode": "closest",
          "mapbox": {
           "style": "light"
          },
          "paper_bgcolor": "white",
          "plot_bgcolor": "#E5ECF6",
          "polar": {
           "angularaxis": {
            "gridcolor": "white",
            "linecolor": "white",
            "ticks": ""
           },
           "bgcolor": "#E5ECF6",
           "radialaxis": {
            "gridcolor": "white",
            "linecolor": "white",
            "ticks": ""
           }
          },
          "scene": {
           "xaxis": {
            "backgroundcolor": "#E5ECF6",
            "gridcolor": "white",
            "gridwidth": 2,
            "linecolor": "white",
            "showbackground": true,
            "ticks": "",
            "zerolinecolor": "white"
           },
           "yaxis": {
            "backgroundcolor": "#E5ECF6",
            "gridcolor": "white",
            "gridwidth": 2,
            "linecolor": "white",
            "showbackground": true,
            "ticks": "",
            "zerolinecolor": "white"
           },
           "zaxis": {
            "backgroundcolor": "#E5ECF6",
            "gridcolor": "white",
            "gridwidth": 2,
            "linecolor": "white",
            "showbackground": true,
            "ticks": "",
            "zerolinecolor": "white"
           }
          },
          "shapedefaults": {
           "line": {
            "color": "#2a3f5f"
           }
          },
          "ternary": {
           "aaxis": {
            "gridcolor": "white",
            "linecolor": "white",
            "ticks": ""
           },
           "baxis": {
            "gridcolor": "white",
            "linecolor": "white",
            "ticks": ""
           },
           "bgcolor": "#E5ECF6",
           "caxis": {
            "gridcolor": "white",
            "linecolor": "white",
            "ticks": ""
           }
          },
          "title": {
           "x": 0.05
          },
          "xaxis": {
           "automargin": true,
           "gridcolor": "white",
           "linecolor": "white",
           "ticks": "",
           "title": {
            "standoff": 15
           },
           "zerolinecolor": "white",
           "zerolinewidth": 2
          },
          "yaxis": {
           "automargin": true,
           "gridcolor": "white",
           "linecolor": "white",
           "ticks": "",
           "title": {
            "standoff": 15
           },
           "zerolinecolor": "white",
           "zerolinewidth": 2
          }
         }
        },
        "title": {
         "text": "Kompensationsforderung nach höchstem Bildungsabschluss (Q14)"
        },
        "xaxis": {
         "anchor": "y",
         "categoryarray": [
          "Keine Schulbildung",
          "Grundschule",
          "Sekundarschule/Realschule",
          "Berufsausbildung/Lehre/Maturität",
          "Fachhochschule/Bachelor",
          "Universität/Master",
          "Promotion oder höher",
          "Keine Angabe"
         ],
         "categoryorder": "array",
         "domain": [
          0,
          1
         ],
         "tickangle": 30,
         "title": {
          "text": "Bildungsabschluss"
         }
        },
        "yaxis": {
         "anchor": "x",
         "domain": [
          0,
          1
         ],
         "title": {
          "text": "Geforderte Kompensation (%)"
         }
        }
       }
      }
     },
     "metadata": {},
     "output_type": "display_data"
    },
    {
     "name": "stdout",
     "output_type": "stream",
     "text": [
      "Deskriptive Statistik der Kompensationsforderung nach Bildungsabschluss:\n",
      "                                   mean  median    std  count\n",
      "q14_education                                                \n",
      "Sekundarschule/Realschule         18.00    10.0  18.23      5\n",
      "Berufsausbildung/Lehre/Maturität  24.53    17.5  26.01     90\n",
      "Fachhochschule/Bachelor           19.60    20.0  13.22     45\n",
      "Universität/Master                23.80    17.5  18.80     44\n",
      "Promotion oder höher               9.67    10.0   0.58      3\n",
      "\n",
      "--- Abschnitt 5.1: Einfluss soziodemografischer Faktoren Abgeschlossen ---\n"
     ]
    }
   ],
   "source": [
    "# Abschnitt 5: Einflussfaktoren auf die Höhe der Kompensationsforderungen\n",
    "## 5.1 Einfluss soziodemografischer Faktoren auf die Kompensationsforderungen\n",
    "# Stelle sicher, dass df_compens_demand_stated aus Abschnitt 4.1 existiert und nicht leer ist.\n",
    "# df_respondents_unique enthält die soziodemografischen Daten pro Respondent.\n",
    "# Wir müssen df_compens_demand_stated (mit gerätespezifischen Kompensationsforderungen)\n",
    "# mit den soziodemografischen Daten aus df_respondents_unique mergen,\n",
    "# falls die soziodem. Spalten nicht bereits durch frühere Merges in df_compens_demand_stated sind.\n",
    "\n",
    "# Überprüfen, ob die soziodemografischen Spalten bereits in df_compens_demand_stated sind.\n",
    "# master_df_f1 hatte bereits alles gemerged. df_compens_demand_stated ist ein Subset davon.\n",
    "# Daher sollten Spalten wie 'age', 'q13_income', 'q14_education' bereits vorhanden sein.\n",
    "\n",
    "if 'df_compens_demand_stated' in locals() and not df_compens_demand_stated.empty:\n",
    "    print(f\"Beginne Analyse des Einflusses soziodemografischer Faktoren auf Kompensationsforderungen (N valid compens. demands={len(df_compens_demand_stated)}).\")\n",
    "    \n",
    "    # --- Einfluss Einkommen (Q13) ---\n",
    "    if 'q13_income' in df_compens_demand_stated.columns:\n",
    "        print(\"\\n--- Einfluss Einkommen (Q13) auf Kompensationsforderung ---\")\n",
    "        # Definiere die korrekte Reihenfolge der Einkommenskategorien für den Plot\n",
    "        income_categories_order_q13 = [\n",
    "            \"Unter 3.000 CHF\", \"3.000 - 5.000 CHF\", \"5.001 - 7.000 CHF\",\n",
    "            \"7.001 - 10.000 CHF\", \"Über 10.000 CHF\", \"Keine Angabe\"\n",
    "        ]\n",
    "        \n",
    "        # Erstelle eine kategorische Spalte mit der definierten Ordnung\n",
    "        # df_compens_demand_stated['q13_income_cat_ordered'] = pd.Categorical(\n",
    "        #    df_compens_demand_stated['q13_income'], categories=income_categories_order_q13, ordered=True\n",
    "        # )\n",
    "\n",
    "        fig_income_compens = px.box(df_compens_demand_stated.dropna(subset=['q13_income', 'incentive_pct_required_num']),\n",
    "                                     x='q13_income', y='incentive_pct_required_num',\n",
    "                                     title='Kompensationsforderung nach Haushaltseinkommen (Q13)',\n",
    "                                     labels={'q13_income': 'Monatl. Haushaltsnettoeinkommen',\n",
    "                                             'incentive_pct_required_num': 'Geforderte Kompensation (%)'},\n",
    "                                     category_orders={'q13_income': income_categories_order_q13}) # Sortierung direkt im Plot\n",
    "        fig_income_compens.update_xaxes(tickangle=30)\n",
    "        fig_income_compens.show()\n",
    "        \n",
    "        print(\"Deskriptive Statistik der Kompensationsforderung nach Einkommen:\")\n",
    "        stats_income_compens = df_compens_demand_stated.groupby('q13_income')['incentive_pct_required_num'].agg(['mean', 'median', 'std', 'count']).round(2)\n",
    "        # display(stats_income_compens.reindex(income_categories_order_q13)) # Sortieren der Tabelle\n",
    "        print(stats_income_compens.reindex(income_categories_order_q13))\n",
    "\n",
    "    else:\n",
    "        print(\"WARNUNG: Spalte 'q13_income' nicht in df_compens_demand_stated gefunden.\")\n",
    "\n",
    "    # --- Einfluss Alter (Q1) ---\n",
    "    # 'age' sollte bereits numerisch und in df_compens_demand_stated vorhanden sein.\n",
    "    if 'age' in df_compens_demand_stated.columns:\n",
    "        print(\"\\n--- Einfluss Alter (Q1) auf Kompensationsforderung ---\")\n",
    "        # Altersgruppen bilden für die Visualisierung (wie in deinem ursprünglichen Notebook)\n",
    "        age_bins = [0, 25, 35, 45, 55, 65, df_compens_demand_stated['age'].max() + 1] # Max Alter dynamisch\n",
    "        age_labels = [\"<25\", \"25-35\", \"36-45\", \"46-55\", \"56-65\", \"65+\"]\n",
    "        # Stelle sicher, dass age_labels zur Anzahl der Bins passt (-1)\n",
    "        if len(age_labels) != len(age_bins) - 1:\n",
    "            print(f\"WARNUNG: Anzahl der age_labels ({len(age_labels)}) passt nicht zur Anzahl der age_bins ({len(age_bins)}). Passe Bins/Labels an.\")\n",
    "            # Fallback oder Anpassung hier, falls nötig\n",
    "        \n",
    "        df_compens_demand_stated['age_group'] = pd.cut(\n",
    "            df_compens_demand_stated['age'], bins=age_bins, labels=age_labels, right=False, include_lowest=True\n",
    "        )\n",
    "        \n",
    "        fig_age_compens = px.box(df_compens_demand_stated.dropna(subset=['age_group', 'incentive_pct_required_num']),\n",
    "                                 x='age_group', y='incentive_pct_required_num',\n",
    "                                 title='Kompensationsforderung nach Altersgruppe (Q1)',\n",
    "                                 labels={'age_group': 'Altersgruppe',\n",
    "                                         'incentive_pct_required_num': 'Geforderte Kompensation (%)'},\n",
    "                                 category_orders={'age_group': age_labels}) # Sortierung für den Plot\n",
    "        fig_age_compens.show()\n",
    "        \n",
    "        print(\"Deskriptive Statistik der Kompensationsforderung nach Altersgruppe:\")\n",
    "        stats_age_compens = df_compens_demand_stated.groupby('age_group', observed=False)['incentive_pct_required_num'].agg(['mean', 'median', 'std', 'count']).round(2)\n",
    "        # display(stats_age_compens)\n",
    "        print(stats_age_compens)\n",
    "    else:\n",
    "        print(\"WARNUNG: Spalte 'age' nicht in df_compens_demand_stated gefunden.\")\n",
    "        \n",
    "    # --- Einfluss Bildungsabschluss (Q14) ---\n",
    "    if 'q14_education' in df_compens_demand_stated.columns:\n",
    "        print(\"\\n--- Einfluss Bildungsabschluss (Q14) auf Kompensationsforderung ---\")\n",
    "        # Definiere die korrekte Reihenfolge der Bildungskategorien für den Plot\n",
    "        education_categories_order_q14 = [ # Passe diese an deine exakten Kategorien an!\n",
    "            \"Keine Schulbildung\", \"Grundschule\", \"Sekundarschule/Realschule\",\n",
    "            \"Berufsausbildung/Lehre/Maturität\", \"Fachhochschule/Bachelor\",\n",
    "            \"Universität/Master\", \"Promotion oder höher\", \"Keine Angabe\"\n",
    "        ]\n",
    "        \n",
    "        fig_edu_compens = px.box(df_compens_demand_stated.dropna(subset=['q14_education', 'incentive_pct_required_num']),\n",
    "                                     x='q14_education', y='incentive_pct_required_num',\n",
    "                                     title='Kompensationsforderung nach höchstem Bildungsabschluss (Q14)',\n",
    "                                     labels={'q14_education': 'Bildungsabschluss',\n",
    "                                             'incentive_pct_required_num': 'Geforderte Kompensation (%)'},\n",
    "                                     category_orders={'q14_education': education_categories_order_q14}) # Sortierung\n",
    "        fig_edu_compens.update_xaxes(tickangle=30)\n",
    "        fig_edu_compens.show()\n",
    "        \n",
    "        print(\"Deskriptive Statistik der Kompensationsforderung nach Bildungsabschluss:\")\n",
    "        stats_edu_compens = df_compens_demand_stated.groupby('q14_education')['incentive_pct_required_num'].agg(['mean', 'median', 'std', 'count']).round(2)\n",
    "        # display(stats_edu_compens.reindex(education_categories_order_q14, fill_value=0)) # Sortieren und fehlende mit 0 füllen\n",
    "        # Sicherer reindexen, nur mit existierenden Kategorien:\n",
    "        existing_edu_cats = [cat for cat in education_categories_order_q14 if cat in stats_edu_compens.index]\n",
    "        print(stats_edu_compens.reindex(existing_edu_cats))\n",
    "\n",
    "    else:\n",
    "        print(\"WARNUNG: Spalte 'q14_education' nicht in df_compens_demand_stated gefunden.\")\n",
    "else:\n",
    "    print(\"FEHLER: df_compens_demand_stated ist nicht verfügbar oder leer. Analyse der Einflussfaktoren kann nicht durchgeführt werden.\")\n",
    "\n",
    "print(\"\\n--- Abschnitt 5.1: Einfluss soziodemografischer Faktoren Abgeschlossen ---\")"
   ]
  },
  {
   "cell_type": "code",
   "execution_count": null,
   "metadata": {},
   "outputs": [
    {
     "name": "stdout",
     "output_type": "stream",
     "text": [
      "Beginne Analyse des Einflusses von Einstellungs-/Kontextfaktoren auf Kompensationsforderungen (N valid compens. demands=187).\n",
      "\n",
      "--- Einfluss Geräte-Wichtigkeit (Q8) auf Kompensationsforderung ---\n"
     ]
    },
    {
     "data": {
      "application/vnd.plotly.v1+json": {
       "config": {
        "plotlyServerURL": "https://plot.ly"
       },
       "data": [
        {
         "alignmentgroup": "True",
         "hovertemplate": "Wichtigkeit des Geräts (1=sehr unwichtig, 5=sehr wichtig)=%{x}<br>Geforderte Kompensation (%)=%{y}<extra></extra>",
         "legendgroup": "",
         "marker": {
          "color": "#636efa"
         },
         "name": "",
         "notched": false,
         "offsetgroup": "",
         "orientation": "v",
         "showlegend": false,
         "type": "box",
         "x": {
          "bdata": "AAAAAAAACEAAAAAAAAAAQAAAAAAAAABAAAAAAAAACEAAAAAAAAAUQAAAAAAAABBAAAAAAAAAEEAAAAAAAAAUQAAAAAAAABRAAAAAAAAAFEAAAAAAAADwPwAAAAAAAABAAAAAAAAAAEAAAAAAAAAUQAAAAAAAAAhAAAAAAAAAEEAAAAAAAAAAQAAAAAAAAPA/AAAAAAAAEEAAAAAAAAAAQAAAAAAAAPA/AAAAAAAAAEAAAAAAAAAIQAAAAAAAAAhAAAAAAAAAEEAAAAAAAAAIQAAAAAAAAAhAAAAAAAAAFEAAAAAAAAAIQAAAAAAAAAhAAAAAAAAAFEAAAAAAAAAUQAAAAAAAABBAAAAAAAAAAEAAAAAAAAAIQAAAAAAAAAhAAAAAAAAAEEAAAAAAAAAIQAAAAAAAAPA/AAAAAAAA8D8AAAAAAADwPwAAAAAAAPA/AAAAAAAA8D8AAAAAAAAAQAAAAAAAABBAAAAAAAAACEAAAAAAAAAAQAAAAAAAABRAAAAAAAAAFEAAAAAAAAAUQAAAAAAAAAhAAAAAAAAAFEAAAAAAAAAUQAAAAAAAABRAAAAAAAAAAEAAAAAAAAAIQAAAAAAAABRAAAAAAAAAEEAAAAAAAAAIQAAAAAAAAAhAAAAAAAAAEEAAAAAAAAAIQAAAAAAAAAhAAAAAAAAACEAAAAAAAAAQQAAAAAAAAAhAAAAAAAAAFEAAAAAAAAAUQAAAAAAAAABAAAAAAAAAAEAAAAAAAAAUQAAAAAAAABBAAAAAAAAAFEAAAAAAAAAQQAAAAAAAABRAAAAAAAAACEAAAAAAAAAAQAAAAAAAABBAAAAAAAAAFEAAAAAAAAAUQAAAAAAAAAhAAAAAAAAAAEAAAAAAAAAQQAAAAAAAAAhAAAAAAAAAFEAAAAAAAADwPwAAAAAAABRAAAAAAAAAFEAAAAAAAAAUQAAAAAAAAAhAAAAAAAAACEAAAAAAAAAUQAAAAAAAABRAAAAAAAAAEEAAAAAAAAAUQAAAAAAAABBAAAAAAAAA8D8AAAAAAAAQQAAAAAAAABRAAAAAAAAAAEAAAAAAAADwPwAAAAAAAABAAAAAAAAAFEAAAAAAAADwPwAAAAAAAPA/AAAAAAAA8D8AAAAAAAAIQAAAAAAAAABAAAAAAAAAAEAAAAAAAAAQQAAAAAAAAABAAAAAAAAACEAAAAAAAADwPwAAAAAAABBAAAAAAAAAEEAAAAAAAAAAQAAAAAAAAABAAAAAAAAACEAAAAAAAAAQQAAAAAAAAAhAAAAAAAAAEEAAAAAAAAAQQAAAAAAAABRAAAAAAAAAEEAAAAAAAAAUQAAAAAAAABRAAAAAAAAAFEAAAAAAAAAUQAAAAAAAAPA/AAAAAAAAAEAAAAAAAAAAQAAAAAAAABRAAAAAAAAA8D8AAAAAAADwPwAAAAAAAAhAAAAAAAAAFEAAAAAAAAAQQAAAAAAAAAhAAAAAAAAAFEAAAAAAAAAUQAAAAAAAABRAAAAAAAAAFEAAAAAAAAAUQAAAAAAAAABAAAAAAAAACEAAAAAAAAAIQAAAAAAAAAhAAAAAAAAAFEAAAAAAAAAQQAAAAAAAAAhAAAAAAAAAEEAAAAAAAAAAQAAAAAAAABBAAAAAAAAAEEAAAAAAAAAIQAAAAAAAABBAAAAAAAAACEAAAAAAAAAQQAAAAAAAABRAAAAAAAAAFEAAAAAAAAAUQAAAAAAAABRAAAAAAAAACEAAAAAAAAAIQAAAAAAAABRAAAAAAAAAEEAAAAAAAAAUQAAAAAAAAAhAAAAAAAAA8D8AAAAAAADwPwAAAAAAABBAAAAAAAAAAEAAAAAAAAAQQAAAAAAAABRAAAAAAAAACEAAAAAAAAAQQAAAAAAAABBAAAAAAAAAEEAAAAAAAAAUQAAAAAAAABRAAAAAAAAAFEAAAAAAAAAAQAAAAAAAAAhAAAAAAAAA8D8AAAAAAAAIQAAAAAAAAABAAAAAAAAACEA=",
          "dtype": "f8"
         },
         "x0": " ",
         "xaxis": "x",
         "y": {
          "bdata": "AAAAAAAAPkAAAAAAAAA+QAAAAAAAAD5AAAAAAAAAPkAAAAAAAIBGQAAAAAAAACRAAAAAAAAAFEAAAAAAAAAkQAAAAAAAABRAAAAAAAAAOUAAAAAAAAAcQAAAAAAAACRAAAAAAAAAKkAAAAAAAAA0QAAAAAAAADRAAAAAAAAASUAAAAAAAAAkQAAAAAAAACRAAAAAAAAAPkAAAAAAAAAUQAAAAAAAACRAAAAAAAAAOUAAAAAAAAA5QAAAAAAAADlAAAAAAAAAOUAAAAAAAAA9QAAAAAAAgEVAAAAAAAAAJEAAAAAAAAAuQAAAAAAAAABAAAAAAAAAAEAAAAAAAAAAQAAAAAAAABRAAAAAAAAASUAAAAAAAABJQAAAAAAAADRAAAAAAAAANEAAAAAAAABJQAAAAAAAACRAAAAAAAAAJEAAAAAAAAAkQAAAAAAAACRAAAAAAAAAJEAAAAAAAADwPwAAAAAAABRAAAAAAAAAAEAAAAAAAAAQQAAAAAAAACRAAAAAAAAANEAAAAAAAAA0QAAAAAAAADRAAAAAAAAAJEAAAAAAAAAUQAAAAAAAACRAAAAAAAAAFEAAAAAAAAAUQAAAAAAAAERAAAAAAACARkAAAAAAAAAkQAAAAAAAACRAAAAAAAAAFEAAAAAAAAAkQAAAAAAAADRAAAAAAAAAJEAAAAAAAAAkQAAAAAAAACRAAAAAAAAAJEAAAAAAAAA0QAAAAAAAAD5AAAAAAAAAJEAAAAAAAAAkQAAAAAAAACRAAAAAAAAAJEAAAAAAAAAkQAAAAAAAAElAAAAAAAAAFEAAAAAAAAAkQAAAAAAAACRAAAAAAAAAKEAAAAAAAAA7QAAAAAAAACRAAAAAAAAANEAAAAAAAAAkQAAAAAAAACRAAAAAAAAASUAAAAAAAABJQAAAAAAAAElAAAAAAAAASUAAAAAAAAA0QAAAAAAAAC5AAAAAAAAANEAAAAAAAABEQAAAAAAAABRAAAAAAADAUkAAAAAAAABJQAAAAAAAAElAAAAAAAAASUAAAAAAAABJQAAAAAAAAElAAAAAAAAAOUAAAAAAAAA5QAAAAAAAADlAAAAAAAAAJEAAAAAAAAAkQAAAAAAAACRAAAAAAAAAJEAAAAAAAAA+QAAAAAAAAD5AAAAAAAAAPkAAAAAAAABZQAAAAAAAAFlAAAAAAAAAWUAAAAAAAABZQAAAAAAAAFlAAAAAAAAASUAAAAAAAAAkQAAAAAAAACRAAAAAAAAANEAAAAAAAAAuQAAAAAAAACRAAAAAAAAAPkAAAAAAAAAUQAAAAAAAACRAAAAAAAAAJEAAAAAAAAA0QAAAAAAAAFlAAAAAAAAAWUAAAAAAAAAUQAAAAAAAABRAAAAAAAAAFEAAAAAAAABEQAAAAAAAAERAAAAAAAAANEAAAAAAAAA0QAAAAAAAACRAAAAAAAAANEAAAAAAAABNQAAAAAAAAC5AAAAAAAAANEAAAAAAAAA0QAAAAAAAADRAAAAAAAAANEAAAAAAAAA0QAAAAAAAADRAAAAAAAAAJEAAAAAAAABJQAAAAAAAAD5AAAAAAAAAPkAAAAAAAAA5QAAAAAAAACRAAAAAAAAANEAAAAAAAABJQAAAAAAAADRAAAAAAAAAJEAAAAAAAAAIQAAAAAAAAABAAAAAAAAAFEAAAAAAAAA0QAAAAAAAAERAAAAAAAAASUAAAAAAAABJQAAAAAAAAERAAAAAAAAANEAAAAAAAAAkQAAAAAAAABhAAAAAAAAAAEAAAAAAAAAQQAAAAAAAACJAAAAAAAAAJEAAAAAAAAAkQAAAAAAAAC5AAAAAAAAACEAAAAAAAABJQAAAAAAAACRAAAAAAAAAJEAAAAAAAAAkQAAAAAAAACRAAAAAAAAAJEAAAAAAAAAkQAAAAAAAAABAAAAAAAAAAEAAAAAAAAA+QAAAAAAAACRAAAAAAAAANEAAAAAAAAA0QAAAAAAAACBAAAAAAAAAIEA=",
          "dtype": "f8"
         },
         "y0": " ",
         "yaxis": "y"
        }
       ],
       "layout": {
        "boxmode": "group",
        "legend": {
         "tracegroupgap": 0
        },
        "template": {
         "data": {
          "bar": [
           {
            "error_x": {
             "color": "#2a3f5f"
            },
            "error_y": {
             "color": "#2a3f5f"
            },
            "marker": {
             "line": {
              "color": "#E5ECF6",
              "width": 0.5
             },
             "pattern": {
              "fillmode": "overlay",
              "size": 10,
              "solidity": 0.2
             }
            },
            "type": "bar"
           }
          ],
          "barpolar": [
           {
            "marker": {
             "line": {
              "color": "#E5ECF6",
              "width": 0.5
             },
             "pattern": {
              "fillmode": "overlay",
              "size": 10,
              "solidity": 0.2
             }
            },
            "type": "barpolar"
           }
          ],
          "carpet": [
           {
            "aaxis": {
             "endlinecolor": "#2a3f5f",
             "gridcolor": "white",
             "linecolor": "white",
             "minorgridcolor": "white",
             "startlinecolor": "#2a3f5f"
            },
            "baxis": {
             "endlinecolor": "#2a3f5f",
             "gridcolor": "white",
             "linecolor": "white",
             "minorgridcolor": "white",
             "startlinecolor": "#2a3f5f"
            },
            "type": "carpet"
           }
          ],
          "choropleth": [
           {
            "colorbar": {
             "outlinewidth": 0,
             "ticks": ""
            },
            "type": "choropleth"
           }
          ],
          "contour": [
           {
            "colorbar": {
             "outlinewidth": 0,
             "ticks": ""
            },
            "colorscale": [
             [
              0,
              "#0d0887"
             ],
             [
              0.1111111111111111,
              "#46039f"
             ],
             [
              0.2222222222222222,
              "#7201a8"
             ],
             [
              0.3333333333333333,
              "#9c179e"
             ],
             [
              0.4444444444444444,
              "#bd3786"
             ],
             [
              0.5555555555555556,
              "#d8576b"
             ],
             [
              0.6666666666666666,
              "#ed7953"
             ],
             [
              0.7777777777777778,
              "#fb9f3a"
             ],
             [
              0.8888888888888888,
              "#fdca26"
             ],
             [
              1,
              "#f0f921"
             ]
            ],
            "type": "contour"
           }
          ],
          "contourcarpet": [
           {
            "colorbar": {
             "outlinewidth": 0,
             "ticks": ""
            },
            "type": "contourcarpet"
           }
          ],
          "heatmap": [
           {
            "colorbar": {
             "outlinewidth": 0,
             "ticks": ""
            },
            "colorscale": [
             [
              0,
              "#0d0887"
             ],
             [
              0.1111111111111111,
              "#46039f"
             ],
             [
              0.2222222222222222,
              "#7201a8"
             ],
             [
              0.3333333333333333,
              "#9c179e"
             ],
             [
              0.4444444444444444,
              "#bd3786"
             ],
             [
              0.5555555555555556,
              "#d8576b"
             ],
             [
              0.6666666666666666,
              "#ed7953"
             ],
             [
              0.7777777777777778,
              "#fb9f3a"
             ],
             [
              0.8888888888888888,
              "#fdca26"
             ],
             [
              1,
              "#f0f921"
             ]
            ],
            "type": "heatmap"
           }
          ],
          "histogram": [
           {
            "marker": {
             "pattern": {
              "fillmode": "overlay",
              "size": 10,
              "solidity": 0.2
             }
            },
            "type": "histogram"
           }
          ],
          "histogram2d": [
           {
            "colorbar": {
             "outlinewidth": 0,
             "ticks": ""
            },
            "colorscale": [
             [
              0,
              "#0d0887"
             ],
             [
              0.1111111111111111,
              "#46039f"
             ],
             [
              0.2222222222222222,
              "#7201a8"
             ],
             [
              0.3333333333333333,
              "#9c179e"
             ],
             [
              0.4444444444444444,
              "#bd3786"
             ],
             [
              0.5555555555555556,
              "#d8576b"
             ],
             [
              0.6666666666666666,
              "#ed7953"
             ],
             [
              0.7777777777777778,
              "#fb9f3a"
             ],
             [
              0.8888888888888888,
              "#fdca26"
             ],
             [
              1,
              "#f0f921"
             ]
            ],
            "type": "histogram2d"
           }
          ],
          "histogram2dcontour": [
           {
            "colorbar": {
             "outlinewidth": 0,
             "ticks": ""
            },
            "colorscale": [
             [
              0,
              "#0d0887"
             ],
             [
              0.1111111111111111,
              "#46039f"
             ],
             [
              0.2222222222222222,
              "#7201a8"
             ],
             [
              0.3333333333333333,
              "#9c179e"
             ],
             [
              0.4444444444444444,
              "#bd3786"
             ],
             [
              0.5555555555555556,
              "#d8576b"
             ],
             [
              0.6666666666666666,
              "#ed7953"
             ],
             [
              0.7777777777777778,
              "#fb9f3a"
             ],
             [
              0.8888888888888888,
              "#fdca26"
             ],
             [
              1,
              "#f0f921"
             ]
            ],
            "type": "histogram2dcontour"
           }
          ],
          "mesh3d": [
           {
            "colorbar": {
             "outlinewidth": 0,
             "ticks": ""
            },
            "type": "mesh3d"
           }
          ],
          "parcoords": [
           {
            "line": {
             "colorbar": {
              "outlinewidth": 0,
              "ticks": ""
             }
            },
            "type": "parcoords"
           }
          ],
          "pie": [
           {
            "automargin": true,
            "type": "pie"
           }
          ],
          "scatter": [
           {
            "fillpattern": {
             "fillmode": "overlay",
             "size": 10,
             "solidity": 0.2
            },
            "type": "scatter"
           }
          ],
          "scatter3d": [
           {
            "line": {
             "colorbar": {
              "outlinewidth": 0,
              "ticks": ""
             }
            },
            "marker": {
             "colorbar": {
              "outlinewidth": 0,
              "ticks": ""
             }
            },
            "type": "scatter3d"
           }
          ],
          "scattercarpet": [
           {
            "marker": {
             "colorbar": {
              "outlinewidth": 0,
              "ticks": ""
             }
            },
            "type": "scattercarpet"
           }
          ],
          "scattergeo": [
           {
            "marker": {
             "colorbar": {
              "outlinewidth": 0,
              "ticks": ""
             }
            },
            "type": "scattergeo"
           }
          ],
          "scattergl": [
           {
            "marker": {
             "colorbar": {
              "outlinewidth": 0,
              "ticks": ""
             }
            },
            "type": "scattergl"
           }
          ],
          "scattermap": [
           {
            "marker": {
             "colorbar": {
              "outlinewidth": 0,
              "ticks": ""
             }
            },
            "type": "scattermap"
           }
          ],
          "scattermapbox": [
           {
            "marker": {
             "colorbar": {
              "outlinewidth": 0,
              "ticks": ""
             }
            },
            "type": "scattermapbox"
           }
          ],
          "scatterpolar": [
           {
            "marker": {
             "colorbar": {
              "outlinewidth": 0,
              "ticks": ""
             }
            },
            "type": "scatterpolar"
           }
          ],
          "scatterpolargl": [
           {
            "marker": {
             "colorbar": {
              "outlinewidth": 0,
              "ticks": ""
             }
            },
            "type": "scatterpolargl"
           }
          ],
          "scatterternary": [
           {
            "marker": {
             "colorbar": {
              "outlinewidth": 0,
              "ticks": ""
             }
            },
            "type": "scatterternary"
           }
          ],
          "surface": [
           {
            "colorbar": {
             "outlinewidth": 0,
             "ticks": ""
            },
            "colorscale": [
             [
              0,
              "#0d0887"
             ],
             [
              0.1111111111111111,
              "#46039f"
             ],
             [
              0.2222222222222222,
              "#7201a8"
             ],
             [
              0.3333333333333333,
              "#9c179e"
             ],
             [
              0.4444444444444444,
              "#bd3786"
             ],
             [
              0.5555555555555556,
              "#d8576b"
             ],
             [
              0.6666666666666666,
              "#ed7953"
             ],
             [
              0.7777777777777778,
              "#fb9f3a"
             ],
             [
              0.8888888888888888,
              "#fdca26"
             ],
             [
              1,
              "#f0f921"
             ]
            ],
            "type": "surface"
           }
          ],
          "table": [
           {
            "cells": {
             "fill": {
              "color": "#EBF0F8"
             },
             "line": {
              "color": "white"
             }
            },
            "header": {
             "fill": {
              "color": "#C8D4E3"
             },
             "line": {
              "color": "white"
             }
            },
            "type": "table"
           }
          ]
         },
         "layout": {
          "annotationdefaults": {
           "arrowcolor": "#2a3f5f",
           "arrowhead": 0,
           "arrowwidth": 1
          },
          "autotypenumbers": "strict",
          "coloraxis": {
           "colorbar": {
            "outlinewidth": 0,
            "ticks": ""
           }
          },
          "colorscale": {
           "diverging": [
            [
             0,
             "#8e0152"
            ],
            [
             0.1,
             "#c51b7d"
            ],
            [
             0.2,
             "#de77ae"
            ],
            [
             0.3,
             "#f1b6da"
            ],
            [
             0.4,
             "#fde0ef"
            ],
            [
             0.5,
             "#f7f7f7"
            ],
            [
             0.6,
             "#e6f5d0"
            ],
            [
             0.7,
             "#b8e186"
            ],
            [
             0.8,
             "#7fbc41"
            ],
            [
             0.9,
             "#4d9221"
            ],
            [
             1,
             "#276419"
            ]
           ],
           "sequential": [
            [
             0,
             "#0d0887"
            ],
            [
             0.1111111111111111,
             "#46039f"
            ],
            [
             0.2222222222222222,
             "#7201a8"
            ],
            [
             0.3333333333333333,
             "#9c179e"
            ],
            [
             0.4444444444444444,
             "#bd3786"
            ],
            [
             0.5555555555555556,
             "#d8576b"
            ],
            [
             0.6666666666666666,
             "#ed7953"
            ],
            [
             0.7777777777777778,
             "#fb9f3a"
            ],
            [
             0.8888888888888888,
             "#fdca26"
            ],
            [
             1,
             "#f0f921"
            ]
           ],
           "sequentialminus": [
            [
             0,
             "#0d0887"
            ],
            [
             0.1111111111111111,
             "#46039f"
            ],
            [
             0.2222222222222222,
             "#7201a8"
            ],
            [
             0.3333333333333333,
             "#9c179e"
            ],
            [
             0.4444444444444444,
             "#bd3786"
            ],
            [
             0.5555555555555556,
             "#d8576b"
            ],
            [
             0.6666666666666666,
             "#ed7953"
            ],
            [
             0.7777777777777778,
             "#fb9f3a"
            ],
            [
             0.8888888888888888,
             "#fdca26"
            ],
            [
             1,
             "#f0f921"
            ]
           ]
          },
          "colorway": [
           "#636efa",
           "#EF553B",
           "#00cc96",
           "#ab63fa",
           "#FFA15A",
           "#19d3f3",
           "#FF6692",
           "#B6E880",
           "#FF97FF",
           "#FECB52"
          ],
          "font": {
           "color": "#2a3f5f"
          },
          "geo": {
           "bgcolor": "white",
           "lakecolor": "white",
           "landcolor": "#E5ECF6",
           "showlakes": true,
           "showland": true,
           "subunitcolor": "white"
          },
          "hoverlabel": {
           "align": "left"
          },
          "hovermode": "closest",
          "mapbox": {
           "style": "light"
          },
          "paper_bgcolor": "white",
          "plot_bgcolor": "#E5ECF6",
          "polar": {
           "angularaxis": {
            "gridcolor": "white",
            "linecolor": "white",
            "ticks": ""
           },
           "bgcolor": "#E5ECF6",
           "radialaxis": {
            "gridcolor": "white",
            "linecolor": "white",
            "ticks": ""
           }
          },
          "scene": {
           "xaxis": {
            "backgroundcolor": "#E5ECF6",
            "gridcolor": "white",
            "gridwidth": 2,
            "linecolor": "white",
            "showbackground": true,
            "ticks": "",
            "zerolinecolor": "white"
           },
           "yaxis": {
            "backgroundcolor": "#E5ECF6",
            "gridcolor": "white",
            "gridwidth": 2,
            "linecolor": "white",
            "showbackground": true,
            "ticks": "",
            "zerolinecolor": "white"
           },
           "zaxis": {
            "backgroundcolor": "#E5ECF6",
            "gridcolor": "white",
            "gridwidth": 2,
            "linecolor": "white",
            "showbackground": true,
            "ticks": "",
            "zerolinecolor": "white"
           }
          },
          "shapedefaults": {
           "line": {
            "color": "#2a3f5f"
           }
          },
          "ternary": {
           "aaxis": {
            "gridcolor": "white",
            "linecolor": "white",
            "ticks": ""
           },
           "baxis": {
            "gridcolor": "white",
            "linecolor": "white",
            "ticks": ""
           },
           "bgcolor": "#E5ECF6",
           "caxis": {
            "gridcolor": "white",
            "linecolor": "white",
            "ticks": ""
           }
          },
          "title": {
           "x": 0.05
          },
          "xaxis": {
           "automargin": true,
           "gridcolor": "white",
           "linecolor": "white",
           "ticks": "",
           "title": {
            "standoff": 15
           },
           "zerolinecolor": "white",
           "zerolinewidth": 2
          },
          "yaxis": {
           "automargin": true,
           "gridcolor": "white",
           "linecolor": "white",
           "ticks": "",
           "title": {
            "standoff": 15
           },
           "zerolinecolor": "white",
           "zerolinewidth": 2
          }
         }
        },
        "title": {
         "text": "Kompensationsforderung nach GerWichtigkeit (Q8)"
        },
        "xaxis": {
         "anchor": "y",
         "categoryarray": [
          1,
          2,
          3,
          4,
          5
         ],
         "categoryorder": "array",
         "domain": [
          0,
          1
         ],
         "title": {
          "text": "Wichtigkeit des Geräts (1=sehr unwichtig, 5=sehr wichtig)"
         }
        },
        "yaxis": {
         "anchor": "x",
         "domain": [
          0,
          1
         ],
         "title": {
          "text": "Geforderte Kompensation (%)"
         }
        }
       }
      }
     },
     "metadata": {},
     "output_type": "display_data"
    },
    {
     "name": "stdout",
     "output_type": "stream",
     "text": [
      "Deskriptive Statistik der Kompensationsforderung nach Gerätewichtigkeit (Q8):\n",
      "                           mean  median    std  count\n",
      "importance_rating_num_q8                             \n",
      "1.0                       19.86    10.0  22.16     21\n",
      "2.0                       22.03    20.0  20.29     29\n",
      "3.0                       19.47    15.0  17.52     45\n",
      "4.0                       25.97    15.0  25.58     38\n",
      "5.0                       24.76    20.0  21.93     54\n",
      "Beginne Analyse der Akzeptanz von Enabling-Technologien (Q11, Q12) basierend auf df_respondents_unique (N=155).\n",
      "\n",
      "--- Akzeptanz von Benachrichtigungen (Q11) ---\n",
      "Verteilung der Antworten zu Q11 (Benachrichtigungen):\n",
      "            Anteil (%)\n",
      "q11_notify            \n",
      "Ja                87.7\n",
      "Nein              12.3\n"
     ]
    },
    {
     "data": {
      "application/vnd.plotly.v1+json": {
       "config": {
        "plotlyServerURL": "https://plot.ly"
       },
       "data": [
        {
         "hovertemplate": "Antwort=%{x}<br>Anteil (%)=%{y}<extra></extra>",
         "legendgroup": "",
         "marker": {
          "color": "#636efa",
          "pattern": {
           "shape": ""
          }
         },
         "name": "",
         "orientation": "v",
         "showlegend": false,
         "textposition": "outside",
         "texttemplate": "%{y:.1f}%",
         "type": "bar",
         "x": [
          "Ja",
          "Nein"
         ],
         "xaxis": "x",
         "y": {
          "bdata": "zczMzMzsVUCamZmZmZkoQA==",
          "dtype": "f8"
         },
         "yaxis": "y"
        }
       ],
       "layout": {
        "barmode": "relative",
        "legend": {
         "tracegroupgap": 0
        },
        "template": {
         "data": {
          "bar": [
           {
            "error_x": {
             "color": "#2a3f5f"
            },
            "error_y": {
             "color": "#2a3f5f"
            },
            "marker": {
             "line": {
              "color": "#E5ECF6",
              "width": 0.5
             },
             "pattern": {
              "fillmode": "overlay",
              "size": 10,
              "solidity": 0.2
             }
            },
            "type": "bar"
           }
          ],
          "barpolar": [
           {
            "marker": {
             "line": {
              "color": "#E5ECF6",
              "width": 0.5
             },
             "pattern": {
              "fillmode": "overlay",
              "size": 10,
              "solidity": 0.2
             }
            },
            "type": "barpolar"
           }
          ],
          "carpet": [
           {
            "aaxis": {
             "endlinecolor": "#2a3f5f",
             "gridcolor": "white",
             "linecolor": "white",
             "minorgridcolor": "white",
             "startlinecolor": "#2a3f5f"
            },
            "baxis": {
             "endlinecolor": "#2a3f5f",
             "gridcolor": "white",
             "linecolor": "white",
             "minorgridcolor": "white",
             "startlinecolor": "#2a3f5f"
            },
            "type": "carpet"
           }
          ],
          "choropleth": [
           {
            "colorbar": {
             "outlinewidth": 0,
             "ticks": ""
            },
            "type": "choropleth"
           }
          ],
          "contour": [
           {
            "colorbar": {
             "outlinewidth": 0,
             "ticks": ""
            },
            "colorscale": [
             [
              0,
              "#0d0887"
             ],
             [
              0.1111111111111111,
              "#46039f"
             ],
             [
              0.2222222222222222,
              "#7201a8"
             ],
             [
              0.3333333333333333,
              "#9c179e"
             ],
             [
              0.4444444444444444,
              "#bd3786"
             ],
             [
              0.5555555555555556,
              "#d8576b"
             ],
             [
              0.6666666666666666,
              "#ed7953"
             ],
             [
              0.7777777777777778,
              "#fb9f3a"
             ],
             [
              0.8888888888888888,
              "#fdca26"
             ],
             [
              1,
              "#f0f921"
             ]
            ],
            "type": "contour"
           }
          ],
          "contourcarpet": [
           {
            "colorbar": {
             "outlinewidth": 0,
             "ticks": ""
            },
            "type": "contourcarpet"
           }
          ],
          "heatmap": [
           {
            "colorbar": {
             "outlinewidth": 0,
             "ticks": ""
            },
            "colorscale": [
             [
              0,
              "#0d0887"
             ],
             [
              0.1111111111111111,
              "#46039f"
             ],
             [
              0.2222222222222222,
              "#7201a8"
             ],
             [
              0.3333333333333333,
              "#9c179e"
             ],
             [
              0.4444444444444444,
              "#bd3786"
             ],
             [
              0.5555555555555556,
              "#d8576b"
             ],
             [
              0.6666666666666666,
              "#ed7953"
             ],
             [
              0.7777777777777778,
              "#fb9f3a"
             ],
             [
              0.8888888888888888,
              "#fdca26"
             ],
             [
              1,
              "#f0f921"
             ]
            ],
            "type": "heatmap"
           }
          ],
          "histogram": [
           {
            "marker": {
             "pattern": {
              "fillmode": "overlay",
              "size": 10,
              "solidity": 0.2
             }
            },
            "type": "histogram"
           }
          ],
          "histogram2d": [
           {
            "colorbar": {
             "outlinewidth": 0,
             "ticks": ""
            },
            "colorscale": [
             [
              0,
              "#0d0887"
             ],
             [
              0.1111111111111111,
              "#46039f"
             ],
             [
              0.2222222222222222,
              "#7201a8"
             ],
             [
              0.3333333333333333,
              "#9c179e"
             ],
             [
              0.4444444444444444,
              "#bd3786"
             ],
             [
              0.5555555555555556,
              "#d8576b"
             ],
             [
              0.6666666666666666,
              "#ed7953"
             ],
             [
              0.7777777777777778,
              "#fb9f3a"
             ],
             [
              0.8888888888888888,
              "#fdca26"
             ],
             [
              1,
              "#f0f921"
             ]
            ],
            "type": "histogram2d"
           }
          ],
          "histogram2dcontour": [
           {
            "colorbar": {
             "outlinewidth": 0,
             "ticks": ""
            },
            "colorscale": [
             [
              0,
              "#0d0887"
             ],
             [
              0.1111111111111111,
              "#46039f"
             ],
             [
              0.2222222222222222,
              "#7201a8"
             ],
             [
              0.3333333333333333,
              "#9c179e"
             ],
             [
              0.4444444444444444,
              "#bd3786"
             ],
             [
              0.5555555555555556,
              "#d8576b"
             ],
             [
              0.6666666666666666,
              "#ed7953"
             ],
             [
              0.7777777777777778,
              "#fb9f3a"
             ],
             [
              0.8888888888888888,
              "#fdca26"
             ],
             [
              1,
              "#f0f921"
             ]
            ],
            "type": "histogram2dcontour"
           }
          ],
          "mesh3d": [
           {
            "colorbar": {
             "outlinewidth": 0,
             "ticks": ""
            },
            "type": "mesh3d"
           }
          ],
          "parcoords": [
           {
            "line": {
             "colorbar": {
              "outlinewidth": 0,
              "ticks": ""
             }
            },
            "type": "parcoords"
           }
          ],
          "pie": [
           {
            "automargin": true,
            "type": "pie"
           }
          ],
          "scatter": [
           {
            "fillpattern": {
             "fillmode": "overlay",
             "size": 10,
             "solidity": 0.2
            },
            "type": "scatter"
           }
          ],
          "scatter3d": [
           {
            "line": {
             "colorbar": {
              "outlinewidth": 0,
              "ticks": ""
             }
            },
            "marker": {
             "colorbar": {
              "outlinewidth": 0,
              "ticks": ""
             }
            },
            "type": "scatter3d"
           }
          ],
          "scattercarpet": [
           {
            "marker": {
             "colorbar": {
              "outlinewidth": 0,
              "ticks": ""
             }
            },
            "type": "scattercarpet"
           }
          ],
          "scattergeo": [
           {
            "marker": {
             "colorbar": {
              "outlinewidth": 0,
              "ticks": ""
             }
            },
            "type": "scattergeo"
           }
          ],
          "scattergl": [
           {
            "marker": {
             "colorbar": {
              "outlinewidth": 0,
              "ticks": ""
             }
            },
            "type": "scattergl"
           }
          ],
          "scattermap": [
           {
            "marker": {
             "colorbar": {
              "outlinewidth": 0,
              "ticks": ""
             }
            },
            "type": "scattermap"
           }
          ],
          "scattermapbox": [
           {
            "marker": {
             "colorbar": {
              "outlinewidth": 0,
              "ticks": ""
             }
            },
            "type": "scattermapbox"
           }
          ],
          "scatterpolar": [
           {
            "marker": {
             "colorbar": {
              "outlinewidth": 0,
              "ticks": ""
             }
            },
            "type": "scatterpolar"
           }
          ],
          "scatterpolargl": [
           {
            "marker": {
             "colorbar": {
              "outlinewidth": 0,
              "ticks": ""
             }
            },
            "type": "scatterpolargl"
           }
          ],
          "scatterternary": [
           {
            "marker": {
             "colorbar": {
              "outlinewidth": 0,
              "ticks": ""
             }
            },
            "type": "scatterternary"
           }
          ],
          "surface": [
           {
            "colorbar": {
             "outlinewidth": 0,
             "ticks": ""
            },
            "colorscale": [
             [
              0,
              "#0d0887"
             ],
             [
              0.1111111111111111,
              "#46039f"
             ],
             [
              0.2222222222222222,
              "#7201a8"
             ],
             [
              0.3333333333333333,
              "#9c179e"
             ],
             [
              0.4444444444444444,
              "#bd3786"
             ],
             [
              0.5555555555555556,
              "#d8576b"
             ],
             [
              0.6666666666666666,
              "#ed7953"
             ],
             [
              0.7777777777777778,
              "#fb9f3a"
             ],
             [
              0.8888888888888888,
              "#fdca26"
             ],
             [
              1,
              "#f0f921"
             ]
            ],
            "type": "surface"
           }
          ],
          "table": [
           {
            "cells": {
             "fill": {
              "color": "#EBF0F8"
             },
             "line": {
              "color": "white"
             }
            },
            "header": {
             "fill": {
              "color": "#C8D4E3"
             },
             "line": {
              "color": "white"
             }
            },
            "type": "table"
           }
          ]
         },
         "layout": {
          "annotationdefaults": {
           "arrowcolor": "#2a3f5f",
           "arrowhead": 0,
           "arrowwidth": 1
          },
          "autotypenumbers": "strict",
          "coloraxis": {
           "colorbar": {
            "outlinewidth": 0,
            "ticks": ""
           }
          },
          "colorscale": {
           "diverging": [
            [
             0,
             "#8e0152"
            ],
            [
             0.1,
             "#c51b7d"
            ],
            [
             0.2,
             "#de77ae"
            ],
            [
             0.3,
             "#f1b6da"
            ],
            [
             0.4,
             "#fde0ef"
            ],
            [
             0.5,
             "#f7f7f7"
            ],
            [
             0.6,
             "#e6f5d0"
            ],
            [
             0.7,
             "#b8e186"
            ],
            [
             0.8,
             "#7fbc41"
            ],
            [
             0.9,
             "#4d9221"
            ],
            [
             1,
             "#276419"
            ]
           ],
           "sequential": [
            [
             0,
             "#0d0887"
            ],
            [
             0.1111111111111111,
             "#46039f"
            ],
            [
             0.2222222222222222,
             "#7201a8"
            ],
            [
             0.3333333333333333,
             "#9c179e"
            ],
            [
             0.4444444444444444,
             "#bd3786"
            ],
            [
             0.5555555555555556,
             "#d8576b"
            ],
            [
             0.6666666666666666,
             "#ed7953"
            ],
            [
             0.7777777777777778,
             "#fb9f3a"
            ],
            [
             0.8888888888888888,
             "#fdca26"
            ],
            [
             1,
             "#f0f921"
            ]
           ],
           "sequentialminus": [
            [
             0,
             "#0d0887"
            ],
            [
             0.1111111111111111,
             "#46039f"
            ],
            [
             0.2222222222222222,
             "#7201a8"
            ],
            [
             0.3333333333333333,
             "#9c179e"
            ],
            [
             0.4444444444444444,
             "#bd3786"
            ],
            [
             0.5555555555555556,
             "#d8576b"
            ],
            [
             0.6666666666666666,
             "#ed7953"
            ],
            [
             0.7777777777777778,
             "#fb9f3a"
            ],
            [
             0.8888888888888888,
             "#fdca26"
            ],
            [
             1,
             "#f0f921"
            ]
           ]
          },
          "colorway": [
           "#636efa",
           "#EF553B",
           "#00cc96",
           "#ab63fa",
           "#FFA15A",
           "#19d3f3",
           "#FF6692",
           "#B6E880",
           "#FF97FF",
           "#FECB52"
          ],
          "font": {
           "color": "#2a3f5f"
          },
          "geo": {
           "bgcolor": "white",
           "lakecolor": "white",
           "landcolor": "#E5ECF6",
           "showlakes": true,
           "showland": true,
           "subunitcolor": "white"
          },
          "hoverlabel": {
           "align": "left"
          },
          "hovermode": "closest",
          "mapbox": {
           "style": "light"
          },
          "paper_bgcolor": "white",
          "plot_bgcolor": "#E5ECF6",
          "polar": {
           "angularaxis": {
            "gridcolor": "white",
            "linecolor": "white",
            "ticks": ""
           },
           "bgcolor": "#E5ECF6",
           "radialaxis": {
            "gridcolor": "white",
            "linecolor": "white",
            "ticks": ""
           }
          },
          "scene": {
           "xaxis": {
            "backgroundcolor": "#E5ECF6",
            "gridcolor": "white",
            "gridwidth": 2,
            "linecolor": "white",
            "showbackground": true,
            "ticks": "",
            "zerolinecolor": "white"
           },
           "yaxis": {
            "backgroundcolor": "#E5ECF6",
            "gridcolor": "white",
            "gridwidth": 2,
            "linecolor": "white",
            "showbackground": true,
            "ticks": "",
            "zerolinecolor": "white"
           },
           "zaxis": {
            "backgroundcolor": "#E5ECF6",
            "gridcolor": "white",
            "gridwidth": 2,
            "linecolor": "white",
            "showbackground": true,
            "ticks": "",
            "zerolinecolor": "white"
           }
          },
          "shapedefaults": {
           "line": {
            "color": "#2a3f5f"
           }
          },
          "ternary": {
           "aaxis": {
            "gridcolor": "white",
            "linecolor": "white",
            "ticks": ""
           },
           "baxis": {
            "gridcolor": "white",
            "linecolor": "white",
            "ticks": ""
           },
           "bgcolor": "#E5ECF6",
           "caxis": {
            "gridcolor": "white",
            "linecolor": "white",
            "ticks": ""
           }
          },
          "title": {
           "x": 0.05
          },
          "xaxis": {
           "automargin": true,
           "gridcolor": "white",
           "linecolor": "white",
           "ticks": "",
           "title": {
            "standoff": 15
           },
           "zerolinecolor": "white",
           "zerolinewidth": 2
          },
          "yaxis": {
           "automargin": true,
           "gridcolor": "white",
           "linecolor": "white",
           "ticks": "",
           "title": {
            "standoff": 15
           },
           "zerolinecolor": "white",
           "zerolinewidth": 2
          }
         }
        },
        "title": {
         "text": "Q11: Bereitschaft, Benachrichtigungen zu erhalten"
        },
        "xaxis": {
         "anchor": "y",
         "domain": [
          0,
          1
         ],
         "title": {
          "text": "Antwort"
         }
        },
        "yaxis": {
         "anchor": "x",
         "domain": [
          0,
          1
         ],
         "title": {
          "text": "Anteil (%)"
         }
        }
       }
      }
     },
     "metadata": {},
     "output_type": "display_data"
    },
    {
     "name": "stdout",
     "output_type": "stream",
     "text": [
      "\n",
      "--- Akzeptanz von Smart Plugs (Q12) ---\n",
      "Verteilung der Antworten zu Q12 (Smart Plugs):\n",
      "               Anteil (%)\n",
      "q12_smartplug            \n",
      "Ja                   82.6\n",
      "Nein                 17.4\n"
     ]
    },
    {
     "data": {
      "application/vnd.plotly.v1+json": {
       "config": {
        "plotlyServerURL": "https://plot.ly"
       },
       "data": [
        {
         "hovertemplate": "Antwort=%{x}<br>Anteil (%)=%{y}<extra></extra>",
         "legendgroup": "",
         "marker": {
          "color": "#636efa",
          "pattern": {
           "shape": ""
          }
         },
         "name": "",
         "orientation": "v",
         "showlegend": false,
         "textposition": "outside",
         "texttemplate": "%{y:.1f}%",
         "type": "bar",
         "x": [
          "Ja",
          "Nein"
         ],
         "xaxis": "x",
         "y": {
          "bdata": "ZmZmZmamVEBmZmZmZmYxQA==",
          "dtype": "f8"
         },
         "yaxis": "y"
        }
       ],
       "layout": {
        "barmode": "relative",
        "legend": {
         "tracegroupgap": 0
        },
        "template": {
         "data": {
          "bar": [
           {
            "error_x": {
             "color": "#2a3f5f"
            },
            "error_y": {
             "color": "#2a3f5f"
            },
            "marker": {
             "line": {
              "color": "#E5ECF6",
              "width": 0.5
             },
             "pattern": {
              "fillmode": "overlay",
              "size": 10,
              "solidity": 0.2
             }
            },
            "type": "bar"
           }
          ],
          "barpolar": [
           {
            "marker": {
             "line": {
              "color": "#E5ECF6",
              "width": 0.5
             },
             "pattern": {
              "fillmode": "overlay",
              "size": 10,
              "solidity": 0.2
             }
            },
            "type": "barpolar"
           }
          ],
          "carpet": [
           {
            "aaxis": {
             "endlinecolor": "#2a3f5f",
             "gridcolor": "white",
             "linecolor": "white",
             "minorgridcolor": "white",
             "startlinecolor": "#2a3f5f"
            },
            "baxis": {
             "endlinecolor": "#2a3f5f",
             "gridcolor": "white",
             "linecolor": "white",
             "minorgridcolor": "white",
             "startlinecolor": "#2a3f5f"
            },
            "type": "carpet"
           }
          ],
          "choropleth": [
           {
            "colorbar": {
             "outlinewidth": 0,
             "ticks": ""
            },
            "type": "choropleth"
           }
          ],
          "contour": [
           {
            "colorbar": {
             "outlinewidth": 0,
             "ticks": ""
            },
            "colorscale": [
             [
              0,
              "#0d0887"
             ],
             [
              0.1111111111111111,
              "#46039f"
             ],
             [
              0.2222222222222222,
              "#7201a8"
             ],
             [
              0.3333333333333333,
              "#9c179e"
             ],
             [
              0.4444444444444444,
              "#bd3786"
             ],
             [
              0.5555555555555556,
              "#d8576b"
             ],
             [
              0.6666666666666666,
              "#ed7953"
             ],
             [
              0.7777777777777778,
              "#fb9f3a"
             ],
             [
              0.8888888888888888,
              "#fdca26"
             ],
             [
              1,
              "#f0f921"
             ]
            ],
            "type": "contour"
           }
          ],
          "contourcarpet": [
           {
            "colorbar": {
             "outlinewidth": 0,
             "ticks": ""
            },
            "type": "contourcarpet"
           }
          ],
          "heatmap": [
           {
            "colorbar": {
             "outlinewidth": 0,
             "ticks": ""
            },
            "colorscale": [
             [
              0,
              "#0d0887"
             ],
             [
              0.1111111111111111,
              "#46039f"
             ],
             [
              0.2222222222222222,
              "#7201a8"
             ],
             [
              0.3333333333333333,
              "#9c179e"
             ],
             [
              0.4444444444444444,
              "#bd3786"
             ],
             [
              0.5555555555555556,
              "#d8576b"
             ],
             [
              0.6666666666666666,
              "#ed7953"
             ],
             [
              0.7777777777777778,
              "#fb9f3a"
             ],
             [
              0.8888888888888888,
              "#fdca26"
             ],
             [
              1,
              "#f0f921"
             ]
            ],
            "type": "heatmap"
           }
          ],
          "histogram": [
           {
            "marker": {
             "pattern": {
              "fillmode": "overlay",
              "size": 10,
              "solidity": 0.2
             }
            },
            "type": "histogram"
           }
          ],
          "histogram2d": [
           {
            "colorbar": {
             "outlinewidth": 0,
             "ticks": ""
            },
            "colorscale": [
             [
              0,
              "#0d0887"
             ],
             [
              0.1111111111111111,
              "#46039f"
             ],
             [
              0.2222222222222222,
              "#7201a8"
             ],
             [
              0.3333333333333333,
              "#9c179e"
             ],
             [
              0.4444444444444444,
              "#bd3786"
             ],
             [
              0.5555555555555556,
              "#d8576b"
             ],
             [
              0.6666666666666666,
              "#ed7953"
             ],
             [
              0.7777777777777778,
              "#fb9f3a"
             ],
             [
              0.8888888888888888,
              "#fdca26"
             ],
             [
              1,
              "#f0f921"
             ]
            ],
            "type": "histogram2d"
           }
          ],
          "histogram2dcontour": [
           {
            "colorbar": {
             "outlinewidth": 0,
             "ticks": ""
            },
            "colorscale": [
             [
              0,
              "#0d0887"
             ],
             [
              0.1111111111111111,
              "#46039f"
             ],
             [
              0.2222222222222222,
              "#7201a8"
             ],
             [
              0.3333333333333333,
              "#9c179e"
             ],
             [
              0.4444444444444444,
              "#bd3786"
             ],
             [
              0.5555555555555556,
              "#d8576b"
             ],
             [
              0.6666666666666666,
              "#ed7953"
             ],
             [
              0.7777777777777778,
              "#fb9f3a"
             ],
             [
              0.8888888888888888,
              "#fdca26"
             ],
             [
              1,
              "#f0f921"
             ]
            ],
            "type": "histogram2dcontour"
           }
          ],
          "mesh3d": [
           {
            "colorbar": {
             "outlinewidth": 0,
             "ticks": ""
            },
            "type": "mesh3d"
           }
          ],
          "parcoords": [
           {
            "line": {
             "colorbar": {
              "outlinewidth": 0,
              "ticks": ""
             }
            },
            "type": "parcoords"
           }
          ],
          "pie": [
           {
            "automargin": true,
            "type": "pie"
           }
          ],
          "scatter": [
           {
            "fillpattern": {
             "fillmode": "overlay",
             "size": 10,
             "solidity": 0.2
            },
            "type": "scatter"
           }
          ],
          "scatter3d": [
           {
            "line": {
             "colorbar": {
              "outlinewidth": 0,
              "ticks": ""
             }
            },
            "marker": {
             "colorbar": {
              "outlinewidth": 0,
              "ticks": ""
             }
            },
            "type": "scatter3d"
           }
          ],
          "scattercarpet": [
           {
            "marker": {
             "colorbar": {
              "outlinewidth": 0,
              "ticks": ""
             }
            },
            "type": "scattercarpet"
           }
          ],
          "scattergeo": [
           {
            "marker": {
             "colorbar": {
              "outlinewidth": 0,
              "ticks": ""
             }
            },
            "type": "scattergeo"
           }
          ],
          "scattergl": [
           {
            "marker": {
             "colorbar": {
              "outlinewidth": 0,
              "ticks": ""
             }
            },
            "type": "scattergl"
           }
          ],
          "scattermap": [
           {
            "marker": {
             "colorbar": {
              "outlinewidth": 0,
              "ticks": ""
             }
            },
            "type": "scattermap"
           }
          ],
          "scattermapbox": [
           {
            "marker": {
             "colorbar": {
              "outlinewidth": 0,
              "ticks": ""
             }
            },
            "type": "scattermapbox"
           }
          ],
          "scatterpolar": [
           {
            "marker": {
             "colorbar": {
              "outlinewidth": 0,
              "ticks": ""
             }
            },
            "type": "scatterpolar"
           }
          ],
          "scatterpolargl": [
           {
            "marker": {
             "colorbar": {
              "outlinewidth": 0,
              "ticks": ""
             }
            },
            "type": "scatterpolargl"
           }
          ],
          "scatterternary": [
           {
            "marker": {
             "colorbar": {
              "outlinewidth": 0,
              "ticks": ""
             }
            },
            "type": "scatterternary"
           }
          ],
          "surface": [
           {
            "colorbar": {
             "outlinewidth": 0,
             "ticks": ""
            },
            "colorscale": [
             [
              0,
              "#0d0887"
             ],
             [
              0.1111111111111111,
              "#46039f"
             ],
             [
              0.2222222222222222,
              "#7201a8"
             ],
             [
              0.3333333333333333,
              "#9c179e"
             ],
             [
              0.4444444444444444,
              "#bd3786"
             ],
             [
              0.5555555555555556,
              "#d8576b"
             ],
             [
              0.6666666666666666,
              "#ed7953"
             ],
             [
              0.7777777777777778,
              "#fb9f3a"
             ],
             [
              0.8888888888888888,
              "#fdca26"
             ],
             [
              1,
              "#f0f921"
             ]
            ],
            "type": "surface"
           }
          ],
          "table": [
           {
            "cells": {
             "fill": {
              "color": "#EBF0F8"
             },
             "line": {
              "color": "white"
             }
            },
            "header": {
             "fill": {
              "color": "#C8D4E3"
             },
             "line": {
              "color": "white"
             }
            },
            "type": "table"
           }
          ]
         },
         "layout": {
          "annotationdefaults": {
           "arrowcolor": "#2a3f5f",
           "arrowhead": 0,
           "arrowwidth": 1
          },
          "autotypenumbers": "strict",
          "coloraxis": {
           "colorbar": {
            "outlinewidth": 0,
            "ticks": ""
           }
          },
          "colorscale": {
           "diverging": [
            [
             0,
             "#8e0152"
            ],
            [
             0.1,
             "#c51b7d"
            ],
            [
             0.2,
             "#de77ae"
            ],
            [
             0.3,
             "#f1b6da"
            ],
            [
             0.4,
             "#fde0ef"
            ],
            [
             0.5,
             "#f7f7f7"
            ],
            [
             0.6,
             "#e6f5d0"
            ],
            [
             0.7,
             "#b8e186"
            ],
            [
             0.8,
             "#7fbc41"
            ],
            [
             0.9,
             "#4d9221"
            ],
            [
             1,
             "#276419"
            ]
           ],
           "sequential": [
            [
             0,
             "#0d0887"
            ],
            [
             0.1111111111111111,
             "#46039f"
            ],
            [
             0.2222222222222222,
             "#7201a8"
            ],
            [
             0.3333333333333333,
             "#9c179e"
            ],
            [
             0.4444444444444444,
             "#bd3786"
            ],
            [
             0.5555555555555556,
             "#d8576b"
            ],
            [
             0.6666666666666666,
             "#ed7953"
            ],
            [
             0.7777777777777778,
             "#fb9f3a"
            ],
            [
             0.8888888888888888,
             "#fdca26"
            ],
            [
             1,
             "#f0f921"
            ]
           ],
           "sequentialminus": [
            [
             0,
             "#0d0887"
            ],
            [
             0.1111111111111111,
             "#46039f"
            ],
            [
             0.2222222222222222,
             "#7201a8"
            ],
            [
             0.3333333333333333,
             "#9c179e"
            ],
            [
             0.4444444444444444,
             "#bd3786"
            ],
            [
             0.5555555555555556,
             "#d8576b"
            ],
            [
             0.6666666666666666,
             "#ed7953"
            ],
            [
             0.7777777777777778,
             "#fb9f3a"
            ],
            [
             0.8888888888888888,
             "#fdca26"
            ],
            [
             1,
             "#f0f921"
            ]
           ]
          },
          "colorway": [
           "#636efa",
           "#EF553B",
           "#00cc96",
           "#ab63fa",
           "#FFA15A",
           "#19d3f3",
           "#FF6692",
           "#B6E880",
           "#FF97FF",
           "#FECB52"
          ],
          "font": {
           "color": "#2a3f5f"
          },
          "geo": {
           "bgcolor": "white",
           "lakecolor": "white",
           "landcolor": "#E5ECF6",
           "showlakes": true,
           "showland": true,
           "subunitcolor": "white"
          },
          "hoverlabel": {
           "align": "left"
          },
          "hovermode": "closest",
          "mapbox": {
           "style": "light"
          },
          "paper_bgcolor": "white",
          "plot_bgcolor": "#E5ECF6",
          "polar": {
           "angularaxis": {
            "gridcolor": "white",
            "linecolor": "white",
            "ticks": ""
           },
           "bgcolor": "#E5ECF6",
           "radialaxis": {
            "gridcolor": "white",
            "linecolor": "white",
            "ticks": ""
           }
          },
          "scene": {
           "xaxis": {
            "backgroundcolor": "#E5ECF6",
            "gridcolor": "white",
            "gridwidth": 2,
            "linecolor": "white",
            "showbackground": true,
            "ticks": "",
            "zerolinecolor": "white"
           },
           "yaxis": {
            "backgroundcolor": "#E5ECF6",
            "gridcolor": "white",
            "gridwidth": 2,
            "linecolor": "white",
            "showbackground": true,
            "ticks": "",
            "zerolinecolor": "white"
           },
           "zaxis": {
            "backgroundcolor": "#E5ECF6",
            "gridcolor": "white",
            "gridwidth": 2,
            "linecolor": "white",
            "showbackground": true,
            "ticks": "",
            "zerolinecolor": "white"
           }
          },
          "shapedefaults": {
           "line": {
            "color": "#2a3f5f"
           }
          },
          "ternary": {
           "aaxis": {
            "gridcolor": "white",
            "linecolor": "white",
            "ticks": ""
           },
           "baxis": {
            "gridcolor": "white",
            "linecolor": "white",
            "ticks": ""
           },
           "bgcolor": "#E5ECF6",
           "caxis": {
            "gridcolor": "white",
            "linecolor": "white",
            "ticks": ""
           }
          },
          "title": {
           "x": 0.05
          },
          "xaxis": {
           "automargin": true,
           "gridcolor": "white",
           "linecolor": "white",
           "ticks": "",
           "title": {
            "standoff": 15
           },
           "zerolinecolor": "white",
           "zerolinewidth": 2
          },
          "yaxis": {
           "automargin": true,
           "gridcolor": "white",
           "linecolor": "white",
           "ticks": "",
           "title": {
            "standoff": 15
           },
           "zerolinecolor": "white",
           "zerolinewidth": 2
          }
         }
        },
        "title": {
         "text": "Q12: Bereitschaft zur Installation von Smart Plugs"
        },
        "xaxis": {
         "anchor": "y",
         "domain": [
          0,
          1
         ],
         "title": {
          "text": "Antwort"
         }
        },
        "yaxis": {
         "anchor": "x",
         "domain": [
          0,
          1
         ],
         "title": {
          "text": "Anteil (%)"
         }
        }
       }
      }
     },
     "metadata": {},
     "output_type": "display_data"
    },
    {
     "name": "stdout",
     "output_type": "stream",
     "text": [
      "\n",
      "--- Zusammenhang zwischen Smart Plug Akzeptanz (Q12) und Benachrichtigungswunsch (Q11) ---\n",
      "Kreuztabelle (absolute Häufigkeiten): Q12 (Smart Plug) vs. Q11 (Benachrichtigung)\n",
      "q11_notify      Ja  Nein  Gesamt\n",
      "q12_smartplug                   \n",
      "Ja             119     9     128\n",
      "Nein            17    10      27\n",
      "Gesamt         136    19     155\n",
      "\n",
      "Kreuztabelle (prozentuale Anteile der Gesamtstichprobe N=155): Q12 (Smart Plug) vs. Q11 (Benachrichtigung)\n",
      "q11_notify       Ja  Nein\n",
      "q12_smartplug            \n",
      "Ja             76.8   5.8\n",
      "Nein           11.0   6.5\n"
     ]
    },
    {
     "data": {
      "application/vnd.plotly.v1+json": {
       "config": {
        "plotlyServerURL": "https://plot.ly"
       },
       "data": [
        {
         "alignmentgroup": "True",
         "cliponaxis": false,
         "hovertemplate": "Benachrichtigung erwünscht (Q11)=Ja<br>Smart Plug Akzeptanz (Q12)=%{x}<br>Anteil an Gesamtstichprobe (%)=%{y}<extra></extra>",
         "legendgroup": "Ja",
         "marker": {
          "color": "#636efa",
          "pattern": {
           "shape": ""
          }
         },
         "name": "Ja",
         "offsetgroup": "Ja",
         "orientation": "v",
         "showlegend": true,
         "textposition": "outside",
         "texttemplate": "%{y:.1f}%",
         "type": "bar",
         "x": [
          "Ja",
          "Nein"
         ],
         "xaxis": "x",
         "y": {
          "bdata": "MzMzMzMzU0AAAAAAAAAmQA==",
          "dtype": "f8"
         },
         "yaxis": "y"
        },
        {
         "alignmentgroup": "True",
         "cliponaxis": false,
         "hovertemplate": "Benachrichtigung erwünscht (Q11)=Nein<br>Smart Plug Akzeptanz (Q12)=%{x}<br>Anteil an Gesamtstichprobe (%)=%{y}<extra></extra>",
         "legendgroup": "Nein",
         "marker": {
          "color": "#EF553B",
          "pattern": {
           "shape": ""
          }
         },
         "name": "Nein",
         "offsetgroup": "Nein",
         "orientation": "v",
         "showlegend": true,
         "textposition": "outside",
         "texttemplate": "%{y:.1f}%",
         "type": "bar",
         "x": [
          "Ja",
          "Nein"
         ],
         "xaxis": "x",
         "y": {
          "bdata": "MzMzMzMzF0AAAAAAAAAaQA==",
          "dtype": "f8"
         },
         "yaxis": "y"
        }
       ],
       "layout": {
        "barmode": "group",
        "legend": {
         "title": {
          "text": "Benachrichtigung erwünscht (Q11)"
         },
         "tracegroupgap": 0
        },
        "template": {
         "data": {
          "bar": [
           {
            "error_x": {
             "color": "#2a3f5f"
            },
            "error_y": {
             "color": "#2a3f5f"
            },
            "marker": {
             "line": {
              "color": "#E5ECF6",
              "width": 0.5
             },
             "pattern": {
              "fillmode": "overlay",
              "size": 10,
              "solidity": 0.2
             }
            },
            "type": "bar"
           }
          ],
          "barpolar": [
           {
            "marker": {
             "line": {
              "color": "#E5ECF6",
              "width": 0.5
             },
             "pattern": {
              "fillmode": "overlay",
              "size": 10,
              "solidity": 0.2
             }
            },
            "type": "barpolar"
           }
          ],
          "carpet": [
           {
            "aaxis": {
             "endlinecolor": "#2a3f5f",
             "gridcolor": "white",
             "linecolor": "white",
             "minorgridcolor": "white",
             "startlinecolor": "#2a3f5f"
            },
            "baxis": {
             "endlinecolor": "#2a3f5f",
             "gridcolor": "white",
             "linecolor": "white",
             "minorgridcolor": "white",
             "startlinecolor": "#2a3f5f"
            },
            "type": "carpet"
           }
          ],
          "choropleth": [
           {
            "colorbar": {
             "outlinewidth": 0,
             "ticks": ""
            },
            "type": "choropleth"
           }
          ],
          "contour": [
           {
            "colorbar": {
             "outlinewidth": 0,
             "ticks": ""
            },
            "colorscale": [
             [
              0,
              "#0d0887"
             ],
             [
              0.1111111111111111,
              "#46039f"
             ],
             [
              0.2222222222222222,
              "#7201a8"
             ],
             [
              0.3333333333333333,
              "#9c179e"
             ],
             [
              0.4444444444444444,
              "#bd3786"
             ],
             [
              0.5555555555555556,
              "#d8576b"
             ],
             [
              0.6666666666666666,
              "#ed7953"
             ],
             [
              0.7777777777777778,
              "#fb9f3a"
             ],
             [
              0.8888888888888888,
              "#fdca26"
             ],
             [
              1,
              "#f0f921"
             ]
            ],
            "type": "contour"
           }
          ],
          "contourcarpet": [
           {
            "colorbar": {
             "outlinewidth": 0,
             "ticks": ""
            },
            "type": "contourcarpet"
           }
          ],
          "heatmap": [
           {
            "colorbar": {
             "outlinewidth": 0,
             "ticks": ""
            },
            "colorscale": [
             [
              0,
              "#0d0887"
             ],
             [
              0.1111111111111111,
              "#46039f"
             ],
             [
              0.2222222222222222,
              "#7201a8"
             ],
             [
              0.3333333333333333,
              "#9c179e"
             ],
             [
              0.4444444444444444,
              "#bd3786"
             ],
             [
              0.5555555555555556,
              "#d8576b"
             ],
             [
              0.6666666666666666,
              "#ed7953"
             ],
             [
              0.7777777777777778,
              "#fb9f3a"
             ],
             [
              0.8888888888888888,
              "#fdca26"
             ],
             [
              1,
              "#f0f921"
             ]
            ],
            "type": "heatmap"
           }
          ],
          "histogram": [
           {
            "marker": {
             "pattern": {
              "fillmode": "overlay",
              "size": 10,
              "solidity": 0.2
             }
            },
            "type": "histogram"
           }
          ],
          "histogram2d": [
           {
            "colorbar": {
             "outlinewidth": 0,
             "ticks": ""
            },
            "colorscale": [
             [
              0,
              "#0d0887"
             ],
             [
              0.1111111111111111,
              "#46039f"
             ],
             [
              0.2222222222222222,
              "#7201a8"
             ],
             [
              0.3333333333333333,
              "#9c179e"
             ],
             [
              0.4444444444444444,
              "#bd3786"
             ],
             [
              0.5555555555555556,
              "#d8576b"
             ],
             [
              0.6666666666666666,
              "#ed7953"
             ],
             [
              0.7777777777777778,
              "#fb9f3a"
             ],
             [
              0.8888888888888888,
              "#fdca26"
             ],
             [
              1,
              "#f0f921"
             ]
            ],
            "type": "histogram2d"
           }
          ],
          "histogram2dcontour": [
           {
            "colorbar": {
             "outlinewidth": 0,
             "ticks": ""
            },
            "colorscale": [
             [
              0,
              "#0d0887"
             ],
             [
              0.1111111111111111,
              "#46039f"
             ],
             [
              0.2222222222222222,
              "#7201a8"
             ],
             [
              0.3333333333333333,
              "#9c179e"
             ],
             [
              0.4444444444444444,
              "#bd3786"
             ],
             [
              0.5555555555555556,
              "#d8576b"
             ],
             [
              0.6666666666666666,
              "#ed7953"
             ],
             [
              0.7777777777777778,
              "#fb9f3a"
             ],
             [
              0.8888888888888888,
              "#fdca26"
             ],
             [
              1,
              "#f0f921"
             ]
            ],
            "type": "histogram2dcontour"
           }
          ],
          "mesh3d": [
           {
            "colorbar": {
             "outlinewidth": 0,
             "ticks": ""
            },
            "type": "mesh3d"
           }
          ],
          "parcoords": [
           {
            "line": {
             "colorbar": {
              "outlinewidth": 0,
              "ticks": ""
             }
            },
            "type": "parcoords"
           }
          ],
          "pie": [
           {
            "automargin": true,
            "type": "pie"
           }
          ],
          "scatter": [
           {
            "fillpattern": {
             "fillmode": "overlay",
             "size": 10,
             "solidity": 0.2
            },
            "type": "scatter"
           }
          ],
          "scatter3d": [
           {
            "line": {
             "colorbar": {
              "outlinewidth": 0,
              "ticks": ""
             }
            },
            "marker": {
             "colorbar": {
              "outlinewidth": 0,
              "ticks": ""
             }
            },
            "type": "scatter3d"
           }
          ],
          "scattercarpet": [
           {
            "marker": {
             "colorbar": {
              "outlinewidth": 0,
              "ticks": ""
             }
            },
            "type": "scattercarpet"
           }
          ],
          "scattergeo": [
           {
            "marker": {
             "colorbar": {
              "outlinewidth": 0,
              "ticks": ""
             }
            },
            "type": "scattergeo"
           }
          ],
          "scattergl": [
           {
            "marker": {
             "colorbar": {
              "outlinewidth": 0,
              "ticks": ""
             }
            },
            "type": "scattergl"
           }
          ],
          "scattermap": [
           {
            "marker": {
             "colorbar": {
              "outlinewidth": 0,
              "ticks": ""
             }
            },
            "type": "scattermap"
           }
          ],
          "scattermapbox": [
           {
            "marker": {
             "colorbar": {
              "outlinewidth": 0,
              "ticks": ""
             }
            },
            "type": "scattermapbox"
           }
          ],
          "scatterpolar": [
           {
            "marker": {
             "colorbar": {
              "outlinewidth": 0,
              "ticks": ""
             }
            },
            "type": "scatterpolar"
           }
          ],
          "scatterpolargl": [
           {
            "marker": {
             "colorbar": {
              "outlinewidth": 0,
              "ticks": ""
             }
            },
            "type": "scatterpolargl"
           }
          ],
          "scatterternary": [
           {
            "marker": {
             "colorbar": {
              "outlinewidth": 0,
              "ticks": ""
             }
            },
            "type": "scatterternary"
           }
          ],
          "surface": [
           {
            "colorbar": {
             "outlinewidth": 0,
             "ticks": ""
            },
            "colorscale": [
             [
              0,
              "#0d0887"
             ],
             [
              0.1111111111111111,
              "#46039f"
             ],
             [
              0.2222222222222222,
              "#7201a8"
             ],
             [
              0.3333333333333333,
              "#9c179e"
             ],
             [
              0.4444444444444444,
              "#bd3786"
             ],
             [
              0.5555555555555556,
              "#d8576b"
             ],
             [
              0.6666666666666666,
              "#ed7953"
             ],
             [
              0.7777777777777778,
              "#fb9f3a"
             ],
             [
              0.8888888888888888,
              "#fdca26"
             ],
             [
              1,
              "#f0f921"
             ]
            ],
            "type": "surface"
           }
          ],
          "table": [
           {
            "cells": {
             "fill": {
              "color": "#EBF0F8"
             },
             "line": {
              "color": "white"
             }
            },
            "header": {
             "fill": {
              "color": "#C8D4E3"
             },
             "line": {
              "color": "white"
             }
            },
            "type": "table"
           }
          ]
         },
         "layout": {
          "annotationdefaults": {
           "arrowcolor": "#2a3f5f",
           "arrowhead": 0,
           "arrowwidth": 1
          },
          "autotypenumbers": "strict",
          "coloraxis": {
           "colorbar": {
            "outlinewidth": 0,
            "ticks": ""
           }
          },
          "colorscale": {
           "diverging": [
            [
             0,
             "#8e0152"
            ],
            [
             0.1,
             "#c51b7d"
            ],
            [
             0.2,
             "#de77ae"
            ],
            [
             0.3,
             "#f1b6da"
            ],
            [
             0.4,
             "#fde0ef"
            ],
            [
             0.5,
             "#f7f7f7"
            ],
            [
             0.6,
             "#e6f5d0"
            ],
            [
             0.7,
             "#b8e186"
            ],
            [
             0.8,
             "#7fbc41"
            ],
            [
             0.9,
             "#4d9221"
            ],
            [
             1,
             "#276419"
            ]
           ],
           "sequential": [
            [
             0,
             "#0d0887"
            ],
            [
             0.1111111111111111,
             "#46039f"
            ],
            [
             0.2222222222222222,
             "#7201a8"
            ],
            [
             0.3333333333333333,
             "#9c179e"
            ],
            [
             0.4444444444444444,
             "#bd3786"
            ],
            [
             0.5555555555555556,
             "#d8576b"
            ],
            [
             0.6666666666666666,
             "#ed7953"
            ],
            [
             0.7777777777777778,
             "#fb9f3a"
            ],
            [
             0.8888888888888888,
             "#fdca26"
            ],
            [
             1,
             "#f0f921"
            ]
           ],
           "sequentialminus": [
            [
             0,
             "#0d0887"
            ],
            [
             0.1111111111111111,
             "#46039f"
            ],
            [
             0.2222222222222222,
             "#7201a8"
            ],
            [
             0.3333333333333333,
             "#9c179e"
            ],
            [
             0.4444444444444444,
             "#bd3786"
            ],
            [
             0.5555555555555556,
             "#d8576b"
            ],
            [
             0.6666666666666666,
             "#ed7953"
            ],
            [
             0.7777777777777778,
             "#fb9f3a"
            ],
            [
             0.8888888888888888,
             "#fdca26"
            ],
            [
             1,
             "#f0f921"
            ]
           ]
          },
          "colorway": [
           "#636efa",
           "#EF553B",
           "#00cc96",
           "#ab63fa",
           "#FFA15A",
           "#19d3f3",
           "#FF6692",
           "#B6E880",
           "#FF97FF",
           "#FECB52"
          ],
          "font": {
           "color": "#2a3f5f"
          },
          "geo": {
           "bgcolor": "white",
           "lakecolor": "white",
           "landcolor": "#E5ECF6",
           "showlakes": true,
           "showland": true,
           "subunitcolor": "white"
          },
          "hoverlabel": {
           "align": "left"
          },
          "hovermode": "closest",
          "mapbox": {
           "style": "light"
          },
          "paper_bgcolor": "white",
          "plot_bgcolor": "#E5ECF6",
          "polar": {
           "angularaxis": {
            "gridcolor": "white",
            "linecolor": "white",
            "ticks": ""
           },
           "bgcolor": "#E5ECF6",
           "radialaxis": {
            "gridcolor": "white",
            "linecolor": "white",
            "ticks": ""
           }
          },
          "scene": {
           "xaxis": {
            "backgroundcolor": "#E5ECF6",
            "gridcolor": "white",
            "gridwidth": 2,
            "linecolor": "white",
            "showbackground": true,
            "ticks": "",
            "zerolinecolor": "white"
           },
           "yaxis": {
            "backgroundcolor": "#E5ECF6",
            "gridcolor": "white",
            "gridwidth": 2,
            "linecolor": "white",
            "showbackground": true,
            "ticks": "",
            "zerolinecolor": "white"
           },
           "zaxis": {
            "backgroundcolor": "#E5ECF6",
            "gridcolor": "white",
            "gridwidth": 2,
            "linecolor": "white",
            "showbackground": true,
            "ticks": "",
            "zerolinecolor": "white"
           }
          },
          "shapedefaults": {
           "line": {
            "color": "#2a3f5f"
           }
          },
          "ternary": {
           "aaxis": {
            "gridcolor": "white",
            "linecolor": "white",
            "ticks": ""
           },
           "baxis": {
            "gridcolor": "white",
            "linecolor": "white",
            "ticks": ""
           },
           "bgcolor": "#E5ECF6",
           "caxis": {
            "gridcolor": "white",
            "linecolor": "white",
            "ticks": ""
           }
          },
          "title": {
           "x": 0.05
          },
          "xaxis": {
           "automargin": true,
           "gridcolor": "white",
           "linecolor": "white",
           "ticks": "",
           "title": {
            "standoff": 15
           },
           "zerolinecolor": "white",
           "zerolinewidth": 2
          },
          "yaxis": {
           "automargin": true,
           "gridcolor": "white",
           "linecolor": "white",
           "ticks": "",
           "title": {
            "standoff": 15
           },
           "zerolinecolor": "white",
           "zerolinewidth": 2
          }
         }
        },
        "title": {
         "text": "Kombinierte Akzeptanz: Smart Plug (Q12) und Benachrichtigung (Q11)"
        },
        "xaxis": {
         "anchor": "y",
         "domain": [
          0,
          1
         ],
         "title": {
          "text": "Smart Plug Akzeptanz (Q12)"
         }
        },
        "yaxis": {
         "anchor": "x",
         "domain": [
          0,
          1
         ],
         "title": {
          "text": "Anteil an Gesamtstichprobe (%)"
         }
        }
       }
      }
     },
     "metadata": {},
     "output_type": "display_data"
    }
   ],
   "source": [
    "\n",
    "\n",
    "# Stelle sicher, dass df_respondents_unique aus Abschnitt 1 existiert und nicht leer ist.\n",
    "if 'df_compens_demand_stated' in locals() and not df_compens_demand_stated.empty:\n",
    "    print(f\"Beginne Analyse des Einflusses von Einstellungs-/Kontextfaktoren auf Kompensationsforderungen (N valid compens. demands={len(df_compens_demand_stated)}).\")\n",
    "\n",
    "    # --- Einfluss Geräte-Wichtigkeit (Q8) ---\n",
    "    # 'importance_rating' sollte bereits numerisch sein (Skala 1-5).\n",
    "    if 'importance_rating' in df_compens_demand_stated.columns:\n",
    "        print(\"\\n--- Einfluss Geräte-Wichtigkeit (Q8) auf Kompensationsforderung ---\")\n",
    "        \n",
    "        # Stelle sicher, dass importance_rating numerisch ist und keine unerwarteten Strings enthält\n",
    "        df_compens_demand_stated['importance_rating_num_q8'] = pd.to_numeric(df_compens_demand_stated['importance_rating'], errors='coerce')\n",
    "        \n",
    "        # Entferne Zeilen, wo importance_rating_num_q8 NaN ist für diese spezifische Analyse\n",
    "        df_q8_analysis = df_compens_demand_stated.dropna(subset=['importance_rating_num_q8', 'incentive_pct_required_num'])\n",
    "\n",
    "        if not df_q8_analysis.empty:\n",
    "            fig_importance_compens = px.box(df_q8_analysis,\n",
    "                                            x='importance_rating_num_q8', y='incentive_pct_required_num',\n",
    "                                            title='Kompensationsforderung nach GerWichtigkeit (Q8)',\n",
    "                                            labels={'importance_rating_num_q8': 'Wichtigkeit des Geräts (1=sehr unwichtig, 5=sehr wichtig)',\n",
    "                                                    'incentive_pct_required_num': 'Geforderte Kompensation (%)'},\n",
    "                                            category_orders={'importance_rating_num_q8': sorted(df_q8_analysis['importance_rating_num_q8'].unique())})\n",
    "            fig_importance_compens.show()\n",
    "            \n",
    "            print(\"Deskriptive Statistik der Kompensationsforderung nach Gerätewichtigkeit (Q8):\")\n",
    "            stats_importance_compens = df_q8_analysis.groupby('importance_rating_num_q8')['incentive_pct_required_num'].agg(['mean', 'median', 'std', 'count']).round(2)\n",
    "            # display(stats_importance_compens)\n",
    "            print(stats_importance_compens)\n",
    "        else:\n",
    "            print(\"Keine validen Daten für die Analyse nach Gerätewichtigkeit vorhanden (nach dropna).\")\n",
    "    else:\n",
    "        print(\"WARNUNG: Spalte 'importance_rating' nicht in df_compens_demand_stated gefunden.\")\n",
    "\n",
    "\n",
    "if 'df_respondents_unique' in locals() and not df_respondents_unique.empty:\n",
    "    print(f\"Beginne Analyse der Akzeptanz von Enabling-Technologien (Q11, Q12) basierend auf df_respondents_unique (N={len(df_respondents_unique)}).\")\n",
    "\n",
    "    # --- Akzeptanz Benachrichtigungen (Q11) ---\n",
    "    if 'q11_notify' in df_respondents_unique.columns:\n",
    "        print(\"\\n--- Akzeptanz von Benachrichtigungen (Q11) ---\")\n",
    "        q11_counts = df_respondents_unique['q11_notify'].value_counts(normalize=True, dropna=False).mul(100).round(1)\n",
    "        q11_counts.rename(index={np.nan: 'Keine Angabe Q11'}, inplace=True)\n",
    "        print(\"Verteilung der Antworten zu Q11 (Benachrichtigungen):\")\n",
    "        # display(q11_counts.to_frame(name='Anteil (%)'))\n",
    "        print(q11_counts.to_frame(name='Anteil (%)'))\n",
    "        \n",
    "        fig_q11_acceptance = px.bar(q11_counts.reset_index(), x='q11_notify', y='proportion',\n",
    "                                   title='Q11: Bereitschaft, Benachrichtigungen zu erhalten',\n",
    "                                   labels={'q11_notify': 'Antwort', 'proportion': 'Anteil (%)'},\n",
    "                                   text_auto=True)\n",
    "        fig_q11_acceptance.update_traces(texttemplate='%{y:.1f}%', textposition='outside')\n",
    "        fig_q11_acceptance.show()\n",
    "    else:\n",
    "        print(\"WARNUNG: Spalte 'q11_notify' nicht in df_respondents_unique gefunden.\")\n",
    "\n",
    "    # --- Akzeptanz Smart Plugs (Q12) ---\n",
    "    if 'q12_smartplug' in df_respondents_unique.columns:\n",
    "        print(\"\\n--- Akzeptanz von Smart Plugs (Q12) ---\")\n",
    "        q12_counts = df_respondents_unique['q12_smartplug'].value_counts(normalize=True, dropna=False).mul(100).round(1)\n",
    "        q12_counts.rename(index={np.nan: 'Keine Angabe Q12'}, inplace=True)\n",
    "        print(\"Verteilung der Antworten zu Q12 (Smart Plugs):\")\n",
    "        # display(q12_counts.to_frame(name='Anteil (%)'))\n",
    "        print(q12_counts.to_frame(name='Anteil (%)'))\n",
    "\n",
    "        fig_q12_acceptance = px.bar(q12_counts.reset_index(), x='q12_smartplug', y='proportion',\n",
    "                                   title='Q12: Bereitschaft zur Installation von Smart Plugs',\n",
    "                                   labels={'q12_smartplug': 'Antwort', 'proportion': 'Anteil (%)'},\n",
    "                                   text_auto=True)\n",
    "        fig_q12_acceptance.update_traces(texttemplate='%{y:.1f}%', textposition='outside')\n",
    "        fig_q12_acceptance.show()\n",
    "    else:\n",
    "        print(\"WARNUNG: Spalte 'q12_smartplug' nicht in df_respondents_unique gefunden.\")\n",
    "\n",
    "    # --- Zusammenhang Q11 (Benachrichtigungen) und Q12 (Smart Plugs) ---\n",
    "    if 'q11_notify' in df_respondents_unique.columns and 'q12_smartplug' in df_respondents_unique.columns:\n",
    "        print(\"\\n--- Zusammenhang zwischen Smart Plug Akzeptanz (Q12) und Benachrichtigungswunsch (Q11) ---\")\n",
    "        \n",
    "        # Ersetze NaN durch \"Keine Angabe\" für die Kreuztabelle, um sie sichtbar zu machen\n",
    "        q11_for_crosstab = df_respondents_unique['q11_notify'].fillna('Keine Angabe Q11')\n",
    "        q12_for_crosstab = df_respondents_unique['q12_smartplug'].fillna('Keine Angabe Q12')\n",
    "        \n",
    "        # Kreuztabelle mit absoluten Häufigkeiten\n",
    "        crosstab_q11_q12_abs = pd.crosstab(q12_for_crosstab, q11_for_crosstab, margins=True, margins_name=\"Gesamt\")\n",
    "        print(\"Kreuztabelle (absolute Häufigkeiten): Q12 (Smart Plug) vs. Q11 (Benachrichtigung)\")\n",
    "        # display(crosstab_q11_q12_abs)\n",
    "        print(crosstab_q11_q12_abs)\n",
    "\n",
    "        # Kreuztabelle mit prozentualen Anteilen (bezogen auf die Gesamtsumme aller Befragten)\n",
    "        crosstab_q11_q12_pct = pd.crosstab(q12_for_crosstab, q11_for_crosstab, normalize='all').mul(100).round(1)\n",
    "        print(\"\\nKreuztabelle (prozentuale Anteile der Gesamtstichprobe N=155): Q12 (Smart Plug) vs. Q11 (Benachrichtigung)\")\n",
    "        # display(crosstab_q11_q12_pct)\n",
    "        print(crosstab_q11_q12_pct)\n",
    "        \n",
    "        # Visualisierung der Kreuztabelle (z.B. gruppiertes oder gestapeltes Balkendiagramm)\n",
    "        # Umformatieren für Plotly Express\n",
    "        crosstab_plot_df = crosstab_q11_q12_pct.stack().rename(\"percentage\").reset_index()\n",
    "        \n",
    "        fig_crosstab_q11_q12 = px.bar(crosstab_plot_df, x='q12_smartplug', y='percentage', color='q11_notify',\n",
    "                                     barmode='group',\n",
    "                                     title='Kombinierte Akzeptanz: Smart Plug (Q12) und Benachrichtigung (Q11)',\n",
    "                                     labels={'q12_smartplug': 'Smart Plug Akzeptanz (Q12)',\n",
    "                                             'percentage': 'Anteil an Gesamtstichprobe (%)',\n",
    "                                             'q11_notify': 'Benachrichtigung erwünscht (Q11)'},\n",
    "                                     text_auto=True)\n",
    "        fig_crosstab_q11_q12.update_traces(texttemplate='%{y:.1f}%', textposition='outside', cliponaxis=False)\n",
    "        fig_crosstab_q11_q12.show()\n",
    "    else:\n",
    "        print(\"WARNUNG: Spalten 'q11_notify' oder 'q12_smartplug' nicht für Kreuztabellenanalyse gefunden.\")\n",
    "else:\n",
    "    print(\"FEHLER: df_respondents_unique ist nicht verfügbar oder leer.\")\n",
    "\n",
    "# print(\"\\n--- (Neuer Teil von) Abschnitt 5.2: Akzeptanz Enabling-Technologien Abgeschlossen ---\") \n",
    "# Die Gesamtüberschrift bleibt Abschnitt 5.2"
   ]
  },
  {
   "cell_type": "code",
   "execution_count": null,
   "metadata": {},
   "outputs": [
    {
     "name": "stdout",
     "output_type": "stream",
     "text": [
      "Ausgaben werden in '/Users/jonathan/Documents/GitHub/PowerE/scripts/F1_Analyse_Kompensationsforderungen/outputs_f1_v2' gespeichert.\n",
      "\n",
      "Exportiere Tabellen...\n",
      "  Tabelle 'komp_nach_einkommen.csv' gespeichert.\n",
      "  Tabelle 'komp_nach_alter.csv' gespeichert.\n",
      "  Tabelle 'komp_nach_bildung.csv' gespeichert.\n",
      "  Tabelle 'q8_wichtigkeit_pro_geraet.csv' gespeichert.\n",
      "  Tabelle 'q9_dauer_pro_geraet.csv' gespeichert.\n",
      "  Tabelle 'q10_bereitschaft_pro_geraet.csv' gespeichert.\n",
      "  Tabelle 'explizite_komp_pro_geraet.csv' gespeichert.\n",
      "  Tabelle 'komp_nach_q8wichtigkeit.csv' gespeichert.\n",
      "  Tabelle 'kreuztabelle_q11_q12_abs.csv' gespeichert.\n",
      "  Tabelle 'kreuztabelle_q11_q12_prozent.csv' gespeichert.\n",
      "\n",
      "Exportiere Grafiken...\n",
      "  Grafik 'fig_ab02_q8_wichtigkeit.html' gespeichert.\n",
      "  Grafik 'fig_ab03_q9_dauer_pro_geraet.html' gespeichert.\n",
      "  Grafik 'fig_ab04_q10_bereitschaft_pro_geraet.html' gespeichert.\n",
      "  Grafik 'fig_ab05_median_komp_pro_geraet.html' gespeichert.\n",
      "  Grafik 'fig_ab06_komp_nach_einkommen.html' gespeichert.\n",
      "  Grafik 'fig_ab07_komp_nach_alter.html' gespeichert.\n",
      "  Grafik 'fig_ab08_komp_nach_bildung.html' gespeichert.\n",
      "  Grafik 'fig_ab09_komp_nach_q8wichtigkeit.html' gespeichert.\n",
      "  Grafik 'fig_ab10_akzeptanz_q11_benachrichtigung.html' gespeichert.\n",
      "  Grafik 'fig_ab11_akzeptanz_q12_smartplug.html' gespeichert.\n",
      "  Grafik 'fig_ab12_kreuztabelle_q11_q12.html' gespeichert.\n",
      "\n",
      "--- Abschnitt 7: Export von Ergebnissen Abgeschlossen ---\n"
     ]
    }
   ],
   "source": [
    "# Abschnitt 6: Zusammenfassung der Kernergebnisse für Forschungsfrage F1\n",
    "# Abschnitt 7: Export von ausgewählten Ergebnissen\n",
    "\n",
    "# Erstelle den outputs-Ordner, falls er nicht existiert\n",
    "# Wir erstellen einen spezifischen Unterordner für diese Analyse, um Ordnung zu halten.\n",
    "output_dir_f1_v2 = PROJECT_ROOT_NB / \"scripts\" / \"F1_Analyse_Kompensationsforderungen\" / \"outputs_f1_v2\"\n",
    "os.makedirs(output_dir_f1_v2, exist_ok=True)\n",
    "print(f\"Ausgaben werden in '{output_dir_f1_v2}' gespeichert.\")\n",
    "\n",
    "# --- Tabellen exportieren (als CSV) ---\n",
    "print(\"\\nExportiere Tabellen...\")\n",
    "try:\n",
    "    # Deskriptive Statistik der Stichprobe (Beispiel: Einkommen)\n",
    "    # Du müsstest für jede Tabelle aus Abschnitt 1, die du speichern willst, den Code wiederholen.\n",
    "    # Annahme: stats_income_compens (und ähnliche für Alter, Bildung etc.) sind noch im Speicher.\n",
    "    # Falls nicht, hier Code aus Abs. 1 wiederholen oder sicherstellen, dass die Zellen oben ausgeführt wurden.\n",
    "    if 'stats_income_compens' in locals():\n",
    "        stats_income_compens.to_csv(output_dir_f1_v2 / \"f1_v2_tabelle_komp_nach_einkommen.csv\")\n",
    "        print(\"  Tabelle 'komp_nach_einkommen.csv' gespeichert.\")\n",
    "    if 'stats_age_compens' in locals():\n",
    "        stats_age_compens.to_csv(output_dir_f1_v2 / \"f1_v2_tabelle_komp_nach_alter.csv\")\n",
    "        print(\"  Tabelle 'komp_nach_alter.csv' gespeichert.\")\n",
    "    if 'stats_edu_compens' in locals():\n",
    "        stats_edu_compens.to_csv(output_dir_f1_v2 / \"f1_v2_tabelle_komp_nach_bildung.csv\")\n",
    "        print(\"  Tabelle 'komp_nach_bildung.csv' gespeichert.\")\n",
    "\n",
    "    # Gerätewichtigkeit (Q8)\n",
    "    if 'q8_stats_per_device' in locals(): # Aus Abschnitt 3.1\n",
    "        q8_stats_per_device.to_csv(output_dir_f1_v2 / \"f1_v2_tabelle_q8_wichtigkeit_pro_geraet.csv\")\n",
    "        print(\"  Tabelle 'q8_wichtigkeit_pro_geraet.csv' gespeichert.\")\n",
    "        \n",
    "    # Akzeptierte Nichtnutzungsdauer (Q9) pro Gerät\n",
    "    if 'q9_duration_per_device_table' in locals(): # Aus Abschnitt 3.2\n",
    "        q9_duration_per_device_table.to_csv(output_dir_f1_v2 / \"f1_v2_tabelle_q9_dauer_pro_geraet.csv\")\n",
    "        print(\"  Tabelle 'q9_dauer_pro_geraet.csv' gespeichert.\")\n",
    "\n",
    "    # Teilnahmebereitschaft (Q10) pro Gerät\n",
    "    if 'q10_by_device_table' in locals(): # Aus Abschnitt 3.3.2\n",
    "        q10_by_device_table.to_csv(output_dir_f1_v2 / \"f1_v2_tabelle_q10_bereitschaft_pro_geraet.csv\")\n",
    "        print(\"  Tabelle 'q10_bereitschaft_pro_geraet.csv' gespeichert.\")\n",
    "\n",
    "    # Explizit genannte Kompensationsforderungen pro Gerät (Median, Mean etc.)\n",
    "    if 'stated_compens_stats_per_device' in locals(): # Aus Abschnitt 4.1\n",
    "        stated_compens_stats_per_device.to_csv(output_dir_f1_v2 / \"f1_v2_tabelle_explizite_komp_pro_geraet.csv\")\n",
    "        print(\"  Tabelle 'explizite_komp_pro_geraet.csv' gespeichert.\")\n",
    "\n",
    "    # Einstellungen/Kontextfaktoren (Q8, Q11, Q12)\n",
    "    if 'stats_importance_compens' in locals(): # Aus Abschnitt 5.2.1\n",
    "        stats_importance_compens.to_csv(output_dir_f1_v2 / \"f1_v2_tabelle_komp_nach_q8wichtigkeit.csv\")\n",
    "        print(\"  Tabelle 'komp_nach_q8wichtigkeit.csv' gespeichert.\")\n",
    "    if 'crosstab_q11_q12_abs' in locals(): # Aus Abschnitt 5.2.2\n",
    "        crosstab_q11_q12_abs.to_csv(output_dir_f1_v2 / \"f1_v2_tabelle_kreuztabelle_q11_q12_abs.csv\")\n",
    "        print(\"  Tabelle 'kreuztabelle_q11_q12_abs.csv' gespeichert.\")\n",
    "    if 'crosstab_q11_q12_pct' in locals(): # Aus Abschnitt 5.2.2\n",
    "        crosstab_q11_q12_pct.to_csv(output_dir_f1_v2 / \"f1_v2_tabelle_kreuztabelle_q11_q12_prozent.csv\")\n",
    "        print(\"  Tabelle 'kreuztabelle_q11_q12_prozent.csv' gespeichert.\")\n",
    "        \n",
    "except Exception as e:\n",
    "    print(f\"Fehler beim Speichern einer oder mehrerer Tabellen: {e}\")\n",
    "\n",
    "# --- Grafiken exportieren (als HTML und optional PNG/SVG) ---\n",
    "# Du musst sicherstellen, dass die Plotly-Figuren-Variablen noch im Speicher sind.\n",
    "# Ihre Namen sind z.B. fig_q8_importance, fig_q9_duration_device, fig_q10_device, fig_median_compens_device, etc.\n",
    "# Und die aus Abschnitt 5.1 (fig_income_compens, fig_age_compens, fig_edu_compens)\n",
    "# Und die aus Abschnitt 5.2 (fig_importance_compens, fig_q11_acceptance, fig_q12_acceptance, fig_crosstab_q11_q12)\n",
    "\n",
    "print(\"\\nExportiere Grafiken...\")\n",
    "figures_to_export = {\n",
    "    # Aus Abschnitt 1 (Stichprobenbeschreibung) - falls du sie exportieren willst\n",
    "    # \"01_hist_alter\": fig_age_hist, # Beispiel, falls fig_age_hist noch existiert\n",
    "    # \"02_bar_geschlecht\": fig_gender,\n",
    "    # ... (weitere aus Abschnitt 1)\n",
    "\n",
    "    # Aus Abschnitt 3\n",
    "    \"fig_ab02_q8_wichtigkeit\": 'fig_q8_importance' if 'fig_q8_importance' in locals() else None, # Deine Abbildung 2\n",
    "    \"fig_ab03_q9_dauer_pro_geraet\": 'fig_q9_duration_device' if 'fig_q9_duration_device' in locals() else None, # Deine Abbildung 3\n",
    "    \"fig_ab04_q10_bereitschaft_pro_geraet\": 'fig_q10_device' if 'fig_q10_device' in locals() else None, # Deine Abbildung 4\n",
    "    \n",
    "    # Aus Abschnitt 4.1\n",
    "    \"fig_ab05_median_komp_pro_geraet\": 'fig_median_compens_device' if 'fig_median_compens_device' in locals() else None, # Deine Abbildung 5\n",
    "    \n",
    "    # Aus Abschnitt 5.1\n",
    "    \"fig_ab06_komp_nach_einkommen\": 'fig_income_compens' if 'fig_income_compens' in locals() else None, # Deine Abbildung 6\n",
    "    \"fig_ab07_komp_nach_alter\": 'fig_age_compens' if 'fig_age_compens' in locals() else None, # Deine Abbildung 7\n",
    "    \"fig_ab08_komp_nach_bildung\": 'fig_edu_compens' if 'fig_edu_compens' in locals() else None, # Deine Abbildung 8\n",
    "\n",
    "    # Aus Abschnitt 5.2\n",
    "    \"fig_ab09_komp_nach_q8wichtigkeit\": 'fig_importance_compens' if 'fig_importance_compens' in locals() else None, # Deine Abbildung 9\n",
    "    \"fig_ab10_akzeptanz_q11_benachrichtigung\": 'fig_q11_acceptance' if 'fig_q11_acceptance' in locals() else None, # Deine Abbildung 10\n",
    "    \"fig_ab11_akzeptanz_q12_smartplug\": 'fig_q12_acceptance' if 'fig_q12_acceptance' in locals() else None, # Deine Abbildung 11\n",
    "    \"fig_ab12_kreuztabelle_q11_q12\": 'fig_crosstab_q11_q12' if 'fig_crosstab_q11_q12' in locals() else None # Deine Abbildung 12\n",
    "}\n",
    "\n",
    "for fig_name_prefix, fig_variable_name_str in figures_to_export.items():\n",
    "    if fig_variable_name_str and fig_variable_name_str in locals():\n",
    "        fig_object = locals()[fig_variable_name_str]\n",
    "        try:\n",
    "            # HTML Export (interaktiv)\n",
    "            html_path = output_dir_f1_v2 / f\"{fig_name_prefix}.html\"\n",
    "            fig_object.write_html(html_path)\n",
    "            print(f\"  Grafik '{html_path.name}' gespeichert.\")\n",
    "            \n",
    "            # Optional: PNG/SVG Export (statisch) - benötigt kaleido: pip install -U kaleido\n",
    "            # png_path = output_dir_f1_v2 / f\"{fig_name_prefix}.png\"\n",
    "            # fig_object.write_image(png_path, scale=2) # scale für höhere Auflösung\n",
    "            # print(f\"  Grafik '{png_path.name}' gespeichert.\")\n",
    "            \n",
    "        except Exception as e:\n",
    "            print(f\"    Fehler beim Speichern von Grafik '{fig_name_prefix}': {e}\")\n",
    "    elif fig_variable_name_str:\n",
    "        print(f\"WARNUNG: Grafik-Variable '{fig_variable_name_str}' für '{fig_name_prefix}' nicht im Speicher gefunden. Export übersprungen.\")\n",
    "\n",
    "print(\"\\n--- Abschnitt 7: Export von Ergebnissen Abgeschlossen ---\")"
   ]
  },
  {
   "cell_type": "code",
   "execution_count": null,
   "metadata": {},
   "outputs": [],
   "source": []
  },
  {
   "cell_type": "code",
   "execution_count": null,
   "metadata": {},
   "outputs": [],
   "source": []
  },
  {
   "cell_type": "code",
   "execution_count": null,
   "metadata": {},
   "outputs": [],
   "source": []
  },
  {
   "cell_type": "code",
   "execution_count": null,
   "metadata": {},
   "outputs": [],
   "source": []
  },
  {
   "cell_type": "code",
   "execution_count": null,
   "metadata": {},
   "outputs": [],
   "source": []
  },
  {
   "cell_type": "code",
   "execution_count": null,
   "metadata": {},
   "outputs": [],
   "source": []
  }
 ],
 "metadata": {
  "kernelspec": {
   "display_name": ".venv",
   "language": "python",
   "name": "python3"
  },
  "language_info": {
   "codemirror_mode": {
    "name": "ipython",
    "version": 3
   },
   "file_extension": ".py",
   "mimetype": "text/x-python",
   "name": "python",
   "nbconvert_exporter": "python",
   "pygments_lexer": "ipython3",
   "version": "3.10.9"
  }
 },
 "nbformat": 4,
 "nbformat_minor": 2
}
